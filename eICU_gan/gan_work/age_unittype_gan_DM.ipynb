{
 "cells": [
  {
   "cell_type": "code",
   "execution_count": 3,
   "metadata": {},
   "outputs": [],
   "source": [
    "import seaborn as sns\n",
    "import matplotlib.pyplot as plt\n",
    "\n",
    "import sys\n",
    "import numpy as np\n",
    "import tensorflow.keras as keras\n",
    "import tensorflow.keras.backend as K\n",
    "from tensorflow.keras.layers import Input, Dense, Activation, LeakyReLU, BatchNormalization, Dropout\n",
    "from tensorflow.keras.models import Sequential\n",
    "from tensorflow.keras.optimizers import Adam\n",
    "from tensorflow.keras import Model\n",
    "import matplotlib.pyplot as plt\n",
    "import pandas as pd\n",
    "import os\n",
    "\n",
    "from sklearn.preprocessing import StandardScaler\n",
    "from sklearn.preprocessing import OneHotEncoder\n",
    "import tensorflow as tf\n",
    "\n",
    "import seaborn as sns\n",
    "import matplotlib.pyplot as plt\n",
    "\n",
    "pd.set_option('display.max_rows', None)"
   ]
  },
  {
   "cell_type": "code",
   "execution_count": 2,
   "metadata": {},
   "outputs": [],
   "source": [
    "#https://keras.io/examples/generative/conditional_gan/#interpolating-between-classes-with-the-trained-generator"
   ]
  },
  {
   "cell_type": "code",
   "execution_count": 4,
   "metadata": {},
   "outputs": [],
   "source": [
    "class ConditionalGAN(keras.Model):\n",
    "    def __init__(self, noise_dim=50, \n",
    "                 data_shape=1,\n",
    "                 num_classes=3, \n",
    "                 d_learning_rate=1e-5, \n",
    "                 g_learning_rate=1e-6, \n",
    "                 batch_size=64, \n",
    "                 start_epoch=0,\n",
    "                 verbose = False):\n",
    "\n",
    "        super(ConditionalGAN, self).__init__()\n",
    "        self.noise_dim = noise_dim\n",
    "        self.data_shape = data_shape # output shape of the generator and goes to discriminator\n",
    "        self.num_classes = num_classes\n",
    "        self.d_optimizer = tf.keras.optimizers.Adam(d_learning_rate)\n",
    "        self.g_optimizer = tf.keras.optimizers.Adam(g_learning_rate)\n",
    "        self.batch_size = batch_size\n",
    "        self.start_epoch = start_epoch\n",
    "        self.verbose = verbose\n",
    "\n",
    "        self.gen_loss_tracker = keras.metrics.Mean(name=\"generator_loss\")\n",
    "        self.disc_loss_tracker = keras.metrics.Mean(name=\"discriminator_loss\")\n",
    "\n",
    "        # add number of class labels to the input channels for generator\n",
    "        self.g_dim = self.noise_dim + self.num_classes\n",
    "\n",
    "        # add the number of class labels to the input to the discriminator\n",
    "        self.d_dim = self.data_shape + self.num_classes\n",
    "\n",
    "        if (self.verbose):\n",
    "            print(\"Generator input dim: \", self.g_dim)\n",
    "            print(\"Dicrimination input dim: \", self.d_dim)\n",
    "\n",
    "\n",
    "        # build generator and discriminator\n",
    "        self.discriminator = self.build_discriminator()\n",
    "        self.generator = self.build_generator()\n",
    "\n",
    "    @property\n",
    "    def metrics(self):\n",
    "        return [self.gen_loss_tracker, self.disc_loss_tracker]\n",
    "    \n",
    "    def build_generator(self):\n",
    "        \"Build the generator model\"\n",
    "        inputs = Input(shape=(self.g_dim,))\n",
    "        hidden = Dense(64)(inputs) # 128\n",
    "        hidden = LeakyReLU(alpha=0.2)(hidden)\n",
    "        hidden = BatchNormalization()(hidden)\n",
    "        hidden = Dense(64)(hidden)\n",
    "        hidden = LeakyReLU(alpha=0.2)(hidden)\n",
    "\n",
    "        output = Dense(self.data_shape, activation=\"sigmoid\")(hidden)\n",
    "        #output = Dense(self.data_shape, activation=\"linear\")(hidden)\n",
    "\n",
    "        generator = Model(inputs=inputs, outputs=output, name=\"generator\")\n",
    "        generator.summary()\n",
    "        return generator\n",
    "\n",
    "\n",
    "    def build_discriminator(self):\n",
    "        \"build the discriminator model\"\n",
    "        d_inputs = Input(shape=(self.d_dim,))\n",
    "        h = Dense(64, input_shape=(self.g_dim,))(d_inputs) \n",
    "        h = LeakyReLU(alpha=0.2)(h)\n",
    "        h = Dropout(0.1)(h)\n",
    "        h = Dense(64)(h) #32\n",
    "        h = LeakyReLU(alpha=0.2)(h)\n",
    "        h = Dropout(0.1)(h)\n",
    "        h = Dense(1, activation=\"sigmoid\")(h)\n",
    "        discriminator = Model(d_inputs, h, name=\"discriminator\")\n",
    "        discriminator.summary()\n",
    "        return discriminator\n",
    "\n",
    "    def compile(self, loss_fn):\n",
    "        super(ConditionalGAN, self).compile()\n",
    "        self.loss_fn = loss_fn\n",
    "\n",
    "    def train_step(self, data):\n",
    "        # Unpack the data.\n",
    "        real_ages, one_hot_labels = data\n",
    "        real_ages = tf.cast(real_ages, tf.float32)\n",
    "        #print(\"real_ages:\", real_ages[0:2])\n",
    "\n",
    "        # Add dummy dimensions to the labels so that they can be concatenated with\n",
    "        # the images. This is for the discriminator.\n",
    "        age_one_hot_labels = one_hot_labels[:, None]\n",
    "        print(\"age_one_hot_labels1:\", age_one_hot_labels[0:2])\n",
    "\n",
    "        age_one_hot_labels = tf.repeat(age_one_hot_labels, repeats=[1])\n",
    "        print(\"age_one_hot_labels2:\", age_one_hot_labels[0:2])\n",
    "\n",
    "        age_one_hot_labels = tf.reshape(age_one_hot_labels, (-1, self.num_classes))\n",
    "        age_one_hot_labels = tf.cast(age_one_hot_labels, tf.float32)\n",
    "        print(\"age_one_hot_labels3:\", age_one_hot_labels[0:2])\n",
    "\n",
    "        # Sample random points in the latent space and concatenate the labels.\n",
    "        # This is for the generator.\n",
    "        batch_size = tf.shape(real_ages)[0]\n",
    "        random_latent_vectors = tf.random.normal(shape=(batch_size, self.noise_dim))\n",
    "        random_vector_labels = tf.concat([random_latent_vectors, one_hot_labels], axis=1)\n",
    "\n",
    "        # Decode the noise (guided by labels) to fake ages.\n",
    "        generated_ages = self.generator(random_vector_labels)\n",
    "        generated_ages= tf.cast(generated_ages, tf.float32)\n",
    "\n",
    "        # Combine them with real images. Note that we are concatenating the labels\n",
    "        # with these images here. and tf.concat is on the last dimension (-1)\n",
    "        fake_ages_and_labels = tf.concat([generated_ages, age_one_hot_labels], -1)\n",
    "        real_ages_and_labels = tf.concat([real_ages, age_one_hot_labels], -1) \n",
    "        combined_ages = tf.concat([fake_ages_and_labels, real_ages_and_labels], axis=0)\n",
    "\n",
    "        # Assemble labels discriminating real from fake ages. 1 == fake, 0 == real\n",
    "        labels = tf.concat(\n",
    "            [tf.ones((batch_size, 1)), tf.zeros((batch_size, 1))], axis=0\n",
    "        )\n",
    "\n",
    "        # TODO: concerned that observations are ordered fake then real - do we want to concat, then shuffle, then separate?\n",
    "\n",
    "        # Train the discriminator.\n",
    "        with tf.GradientTape() as tape:\n",
    "            predictions = self.discriminator(combined_ages)\n",
    "            d_loss = self.loss_fn(labels, predictions)\n",
    "        grads = tape.gradient(d_loss, self.discriminator.trainable_weights)\n",
    "        self.d_optimizer.apply_gradients(\n",
    "            zip(grads, self.discriminator.trainable_weights)\n",
    "        )\n",
    "\n",
    "        # Sample random points in the latent space.\n",
    "        random_latent_vectors = tf.random.normal(shape=(batch_size, self.noise_dim))\n",
    "        random_vector_labels = tf.concat(\n",
    "            [random_latent_vectors, one_hot_labels], axis=1\n",
    "        )\n",
    "\n",
    "        # Assemble labels that say \"all real images\".\n",
    "        misleading_labels = tf.zeros((batch_size, 1))\n",
    "\n",
    "        # Train the generator (note that we should *not* update the weights\n",
    "        # of the discriminator)!\n",
    "        with tf.GradientTape() as tape:\n",
    "            fake_ages = self.generator(random_vector_labels)\n",
    "            fake_ages_and_labels = tf.concat([fake_ages, age_one_hot_labels], -1)\n",
    "            predictions = self.discriminator(fake_ages_and_labels)\n",
    "            g_loss = self.loss_fn(misleading_labels, predictions)\n",
    "        grads = tape.gradient(g_loss, self.generator.trainable_weights)\n",
    "        self.g_optimizer.apply_gradients(zip(grads, self.generator.trainable_weights))\n",
    "\n",
    "        # Monitor loss.\n",
    "        self.gen_loss_tracker.update_state(g_loss)\n",
    "        self.disc_loss_tracker.update_state(d_loss)\n",
    "        return {\n",
    "            \"g_loss\": self.gen_loss_tracker.result(),\n",
    "            \"d_loss\": self.disc_loss_tracker.result(),\n",
    "        }\n",
    "\n",
    "    def generate(self, n=1000, one_hot_label=[1., 0., 0.]):\n",
    "        \"\"\"Generate n ages for a class\"\"\"\n",
    "        print(\"Generating: \", n, \" ages for unit type: \", one_hot_label)\n",
    "        input_noise = tf.random.normal((n, self.noise_dim), 0, 1)\n",
    "        random_vector_labels = tf.concat([input_noise, one_hot_label], axis=1)\n",
    "\n",
    "        ages = self.generator(random_vector_labels)\n",
    "\n",
    "        return ages.numpy()"
   ]
  },
  {
   "cell_type": "code",
   "execution_count": 5,
   "metadata": {},
   "outputs": [
    {
     "name": "stdout",
     "output_type": "stream",
     "text": [
      "length:  250\n",
      "[[(59,) ('CTICU',)]\n",
      " [(55,) ('CTICU',)]\n",
      " [(72,) ('Cardiac ICU',)]\n",
      " [(49,) ('CTICU',)]\n",
      " [(49,) ('CTICU',)]]\n",
      "ages length:  250\n",
      "unit length:  250\n",
      "(250, 2)\n",
      "             age\n",
      "unit            \n",
      "CSICU         65\n",
      "CTICU         52\n",
      "Cardiac ICU  133\n",
      "============================================================\n",
      "FILTERED:\n",
      "             age  unit_code\n",
      "unit                       \n",
      "CSICU         65         65\n",
      "CTICU         52         52\n",
      "Cardiac ICU  133        133\n",
      "mean age:  62.472\n",
      "std age:  14.503\n",
      "min age:  21\n",
      "max age:  89\n",
      "[0.5588235294117647, 0.5, 0.75, 0.4117647058823529, 0.4117647058823529]\n",
      "[[0. 1. 0.]\n",
      " [0. 1. 0.]\n",
      " [0. 0. 1.]\n",
      " [0. 1. 0.]\n",
      " [0. 1. 0.]]\n",
      "Shape of ages: (250, 1)\n",
      "Shape of labels: (250, 3)\n"
     ]
    }
   ],
   "source": [
    "ages_unit_np = np.load(\"../data/eICU_age_unittype.npy\", allow_pickle=True)\n",
    "print('length: ', len(ages_unit_np))\n",
    "print(ages_unit_np[0:5])\n",
    "\n",
    "ages_np = np.asarray(ages_unit_np[:,0].flatten().tolist()).flatten()\n",
    "print('ages length: ', len(ages_np))\n",
    "#print(ages_np[0:5])\n",
    "\n",
    "unit_np = np.asarray(ages_unit_np[:,1].flatten().tolist()).flatten()\n",
    "print('unit length: ', len(unit_np))\n",
    "#print(ethnicity_np[0:5])\n",
    "\n",
    "df_ages = pd.DataFrame(zip(ages_np, unit_np), columns=['age','unit'])\n",
    "print(df_ages.shape)\n",
    "print(df_ages.groupby('unit').count())\n",
    "\n",
    "# create data set without 90 or greater since that was a category flattened\n",
    "print(\"==\" * 30)\n",
    "print(\"FILTERED:\")\n",
    "df_ages_filtered = df_ages.query(\"age < 90\")\n",
    "df_ages_filtered['unit_code'] = df_ages_filtered['unit'].astype('category').cat.codes\n",
    "print(df_ages_filtered.groupby('unit').count())\n",
    "\n",
    "\n",
    "mean_age_filtered = df_ages_filtered.age.mean()\n",
    "std_age_filtered =  df_ages_filtered.age.std()\n",
    "min_age_filtered =  df_ages_filtered.age.min()\n",
    "max_age_filtered =  df_ages_filtered.age.max()\n",
    "\n",
    "print(\"mean age: \", mean_age_filtered)\n",
    "print(\"std age: \", np.round(std_age_filtered,3))\n",
    "print(\"min age: \", min_age_filtered)\n",
    "print(\"max age: \", max_age_filtered)\n",
    "\n",
    "scaled_ages_filtered = [(x - min_age_filtered)/(max_age_filtered - min_age_filtered) for x in df_ages_filtered['age']]\n",
    "all_ages = np.reshape(scaled_ages_filtered, (-1, 1))\n",
    "\n",
    "all_labels = keras.utils.to_categorical(df_ages_filtered['unit_code'], 3)\n",
    "\n",
    "\n",
    "print(scaled_ages_filtered[0:5])\n",
    "print(np.array(all_labels[0:5]))\n",
    "print(f\"Shape of ages: {all_ages.shape}\")\n",
    "\n",
    "print(f\"Shape of labels: {all_labels.shape}\")\n",
    "\n",
    "# Create tf.data.Dataset.\n",
    "dataset = tf.data.Dataset.from_tensor_slices((all_ages, all_labels))\n",
    "dataset = dataset.shuffle(buffer_size=200).batch(64)\n",
    "#list(dataset.as_numpy_iterator())\n",
    "#for element in dataset:\n",
    "#    print(element)\n"
   ]
  },
  {
   "cell_type": "code",
   "execution_count": 71,
   "metadata": {},
   "outputs": [
    {
     "data": {
      "text/plain": [
       "<function matplotlib.pyplot.show(close=None, block=None)>"
      ]
     },
     "execution_count": 71,
     "metadata": {},
     "output_type": "execute_result"
    },
    {
     "data": {
      "image/png": "[encoded data removed]",
      "text/plain": [
       "<Figure size 432x288 with 1 Axes>"
      ]
     },
     "metadata": {
      "needs_background": "light"
     },
     "output_type": "display_data"
    }
   ],
   "source": [
    "sns.histplot(data=df_ages_filtered, x='age', hue='unit', bins=70, color='orange', kde=True, alpha=0.6)\n",
    "plt.title('Real Data Age by ICU Unit Type Distribution')\n",
    "plt.show"
   ]
  },
  {
   "cell_type": "code",
   "execution_count": 7,
   "metadata": {},
   "outputs": [
    {
     "data": {
      "text/html": [
       "<div>\n",
       "<style scoped>\n",
       "    .dataframe tbody tr th:only-of-type {\n",
       "        vertical-align: middle;\n",
       "    }\n",
       "\n",
       "    .dataframe tbody tr th {\n",
       "        vertical-align: top;\n",
       "    }\n",
       "\n",
       "    .dataframe thead th {\n",
       "        text-align: right;\n",
       "    }\n",
       "</style>\n",
       "<table border=\"1\" class=\"dataframe\">\n",
       "  <thead>\n",
       "    <tr style=\"text-align: right;\">\n",
       "      <th></th>\n",
       "      <th>age</th>\n",
       "      <th>unit</th>\n",
       "      <th>CSICU</th>\n",
       "      <th>CTICU</th>\n",
       "      <th>Cardiac_ICU</th>\n",
       "    </tr>\n",
       "  </thead>\n",
       "  <tbody>\n",
       "    <tr>\n",
       "      <th>245</th>\n",
       "      <td>52</td>\n",
       "      <td>CTICU</td>\n",
       "      <td>0.0</td>\n",
       "      <td>1.0</td>\n",
       "      <td>0.0</td>\n",
       "    </tr>\n",
       "    <tr>\n",
       "      <th>246</th>\n",
       "      <td>52</td>\n",
       "      <td>Cardiac ICU</td>\n",
       "      <td>0.0</td>\n",
       "      <td>0.0</td>\n",
       "      <td>1.0</td>\n",
       "    </tr>\n",
       "    <tr>\n",
       "      <th>247</th>\n",
       "      <td>52</td>\n",
       "      <td>Cardiac ICU</td>\n",
       "      <td>0.0</td>\n",
       "      <td>0.0</td>\n",
       "      <td>1.0</td>\n",
       "    </tr>\n",
       "    <tr>\n",
       "      <th>248</th>\n",
       "      <td>41</td>\n",
       "      <td>CTICU</td>\n",
       "      <td>0.0</td>\n",
       "      <td>1.0</td>\n",
       "      <td>0.0</td>\n",
       "    </tr>\n",
       "    <tr>\n",
       "      <th>249</th>\n",
       "      <td>41</td>\n",
       "      <td>Cardiac ICU</td>\n",
       "      <td>0.0</td>\n",
       "      <td>0.0</td>\n",
       "      <td>1.0</td>\n",
       "    </tr>\n",
       "  </tbody>\n",
       "</table>\n",
       "</div>"
      ],
      "text/plain": [
       "     age         unit  CSICU  CTICU  Cardiac_ICU\n",
       "245   52        CTICU    0.0    1.0          0.0\n",
       "246   52  Cardiac ICU    0.0    0.0          1.0\n",
       "247   52  Cardiac ICU    0.0    0.0          1.0\n",
       "248   41        CTICU    0.0    1.0          0.0\n",
       "249   41  Cardiac ICU    0.0    0.0          1.0"
      ]
     },
     "execution_count": 7,
     "metadata": {},
     "output_type": "execute_result"
    }
   ],
   "source": [
    "# one hot encode the ethnicity\n",
    "encoder = OneHotEncoder(handle_unknown='ignore')\n",
    "encoder_df = pd.DataFrame(encoder.fit_transform(df_ages[['unit']]).toarray())\n",
    "\n",
    "#merge one-hot encoded columns back with original DataFrame\n",
    "final_df = df_ages.join(encoder_df)\n",
    "final_df.columns = ['age', 'unit', 'CSICU', 'CTICU', 'Cardiac_ICU']\n",
    "final_df.tail()"
   ]
  },
  {
   "cell_type": "code",
   "execution_count": 8,
   "metadata": {},
   "outputs": [
    {
     "data": {
      "text/html": [
       "<div>\n",
       "<style scoped>\n",
       "    .dataframe tbody tr th:only-of-type {\n",
       "        vertical-align: middle;\n",
       "    }\n",
       "\n",
       "    .dataframe tbody tr th {\n",
       "        vertical-align: top;\n",
       "    }\n",
       "\n",
       "    .dataframe thead tr th {\n",
       "        text-align: left;\n",
       "    }\n",
       "\n",
       "    .dataframe thead tr:last-of-type th {\n",
       "        text-align: right;\n",
       "    }\n",
       "</style>\n",
       "<table border=\"1\" class=\"dataframe\">\n",
       "  <thead>\n",
       "    <tr>\n",
       "      <th></th>\n",
       "      <th colspan=\"8\" halign=\"left\">age</th>\n",
       "    </tr>\n",
       "    <tr>\n",
       "      <th></th>\n",
       "      <th>count</th>\n",
       "      <th>mean</th>\n",
       "      <th>std</th>\n",
       "      <th>min</th>\n",
       "      <th>25%</th>\n",
       "      <th>50%</th>\n",
       "      <th>75%</th>\n",
       "      <th>max</th>\n",
       "    </tr>\n",
       "    <tr>\n",
       "      <th>unit</th>\n",
       "      <th></th>\n",
       "      <th></th>\n",
       "      <th></th>\n",
       "      <th></th>\n",
       "      <th></th>\n",
       "      <th></th>\n",
       "      <th></th>\n",
       "      <th></th>\n",
       "    </tr>\n",
       "  </thead>\n",
       "  <tbody>\n",
       "    <tr>\n",
       "      <th>CSICU</th>\n",
       "      <td>65.0</td>\n",
       "      <td>67.646154</td>\n",
       "      <td>9.416460</td>\n",
       "      <td>49.0</td>\n",
       "      <td>59.00</td>\n",
       "      <td>70.0</td>\n",
       "      <td>75.0</td>\n",
       "      <td>82.0</td>\n",
       "    </tr>\n",
       "    <tr>\n",
       "      <th>CTICU</th>\n",
       "      <td>52.0</td>\n",
       "      <td>61.692308</td>\n",
       "      <td>10.351733</td>\n",
       "      <td>41.0</td>\n",
       "      <td>54.75</td>\n",
       "      <td>60.0</td>\n",
       "      <td>69.0</td>\n",
       "      <td>89.0</td>\n",
       "    </tr>\n",
       "    <tr>\n",
       "      <th>Cardiac ICU</th>\n",
       "      <td>133.0</td>\n",
       "      <td>60.248120</td>\n",
       "      <td>17.145724</td>\n",
       "      <td>21.0</td>\n",
       "      <td>50.00</td>\n",
       "      <td>63.0</td>\n",
       "      <td>73.0</td>\n",
       "      <td>89.0</td>\n",
       "    </tr>\n",
       "  </tbody>\n",
       "</table>\n",
       "</div>"
      ],
      "text/plain": [
       "               age                                                     \n",
       "             count       mean        std   min    25%   50%   75%   max\n",
       "unit                                                                   \n",
       "CSICU         65.0  67.646154   9.416460  49.0  59.00  70.0  75.0  82.0\n",
       "CTICU         52.0  61.692308  10.351733  41.0  54.75  60.0  69.0  89.0\n",
       "Cardiac ICU  133.0  60.248120  17.145724  21.0  50.00  63.0  73.0  89.0"
      ]
     },
     "execution_count": 8,
     "metadata": {},
     "output_type": "execute_result"
    }
   ],
   "source": [
    "df_ages.groupby('unit').describe()"
   ]
  },
  {
   "cell_type": "markdown",
   "metadata": {},
   "source": [
    "## Plan\n",
    "1. Create the kde for each unit type (class)\n",
    "2. Sample from the kde on each training round per class\n",
    "    1. sample the same number of points as we have per class (e.g. 65 samples from the CSICU class)\n",
    "3. instead of training valid and fake spearately - intermingle and train together"
   ]
  },
  {
   "cell_type": "code",
   "execution_count": 27,
   "metadata": {},
   "outputs": [
    {
     "name": "stdout",
     "output_type": "stream",
     "text": [
      "Model: \"discriminator\"\n",
      "_________________________________________________________________\n",
      " Layer (type)                Output Shape              Param #   \n",
      "=================================================================\n",
      " input_5 (InputLayer)        [(None, 4)]               0         \n",
      "                                                                 \n",
      " dense_12 (Dense)            (None, 64)                320       \n",
      "                                                                 \n",
      " leaky_re_lu_8 (LeakyReLU)   (None, 64)                0         \n",
      "                                                                 \n",
      " dropout_4 (Dropout)         (None, 64)                0         \n",
      "                                                                 \n",
      " dense_13 (Dense)            (None, 64)                4160      \n",
      "                                                                 \n",
      " leaky_re_lu_9 (LeakyReLU)   (None, 64)                0         \n",
      "                                                                 \n",
      " dropout_5 (Dropout)         (None, 64)                0         \n",
      "                                                                 \n",
      " dense_14 (Dense)            (None, 1)                 65        \n",
      "                                                                 \n",
      "=================================================================\n",
      "Total params: 4,545\n",
      "Trainable params: 4,545\n",
      "Non-trainable params: 0\n",
      "_________________________________________________________________\n",
      "Model: \"generator\"\n",
      "_________________________________________________________________\n",
      " Layer (type)                Output Shape              Param #   \n",
      "=================================================================\n",
      " input_6 (InputLayer)        [(None, 53)]              0         \n",
      "                                                                 \n",
      " dense_15 (Dense)            (None, 64)                3456      \n",
      "                                                                 \n",
      " leaky_re_lu_10 (LeakyReLU)  (None, 64)                0         \n",
      "                                                                 \n",
      " batch_normalization_2 (Batc  (None, 64)               256       \n",
      " hNormalization)                                                 \n",
      "                                                                 \n",
      " dense_16 (Dense)            (None, 64)                4160      \n",
      "                                                                 \n",
      " leaky_re_lu_11 (LeakyReLU)  (None, 64)                0         \n",
      "                                                                 \n",
      " dense_17 (Dense)            (None, 1)                 65        \n",
      "                                                                 \n",
      "=================================================================\n",
      "Total params: 7,937\n",
      "Trainable params: 7,809\n",
      "Non-trainable params: 128\n",
      "_________________________________________________________________\n"
     ]
    }
   ],
   "source": [
    "cgan = ConditionalGAN(noise_dim=50,\n",
    "                 data_shape=1,\n",
    "                 num_classes=3, \n",
    "                 d_learning_rate=1e-5, \n",
    "                 g_learning_rate=1e-6, \n",
    "                 batch_size=64, \n",
    "                 start_epoch=0,\n",
    "                 verbose = False)"
   ]
  },
  {
   "cell_type": "code",
   "execution_count": 28,
   "metadata": {},
   "outputs": [],
   "source": [
    "cgan.compile(loss_fn=keras.losses.BinaryCrossentropy(from_logits=True))"
   ]
  },
  {
   "cell_type": "code",
   "execution_count": 29,
   "metadata": {},
   "outputs": [
    {
     "name": "stdout",
     "output_type": "stream",
     "text": [
      "age_one_hot_labels1: Tensor(\"strided_slice_1:0\", shape=(None, 1, 3), dtype=float32)\n",
      "age_one_hot_labels2: Tensor(\"strided_slice_2:0\", shape=(None,), dtype=float32)\n",
      "age_one_hot_labels3: Tensor(\"strided_slice_3:0\", shape=(None, 3), dtype=float32)\n"
     ]
    },
    {
     "name": "stderr",
     "output_type": "stream",
     "text": [
      "C:\\Users\\dianam\\AppData\\Local\\Programs\\Python\\Python39\\lib\\site-packages\\tensorflow\\python\\util\\dispatch.py:1082: UserWarning: \"`binary_crossentropy` received `from_logits=True`, but the `output` argument was produced by a sigmoid or softmax activation and thus does not represent logits. Was this intended?\"\n",
      "  return dispatch_target(*args, **kwargs)\n"
     ]
    },
    {
     "name": "stdout",
     "output_type": "stream",
     "text": [
      "age_one_hot_labels1: Tensor(\"strided_slice_1:0\", shape=(None, 1, 3), dtype=float32)\n",
      "age_one_hot_labels2: Tensor(\"strided_slice_2:0\", shape=(None,), dtype=float32)\n",
      "age_one_hot_labels3: Tensor(\"strided_slice_3:0\", shape=(None, 3), dtype=float32)\n"
     ]
    },
    {
     "data": {
      "text/plain": [
       "<keras.callbacks.History at 0x1f5edd945b0>"
      ]
     },
     "execution_count": 29,
     "metadata": {},
     "output_type": "execute_result"
    }
   ],
   "source": [
    "cgan.fit(dataset, epochs=15000, verbose=False)"
   ]
  },
  {
   "cell_type": "code",
   "execution_count": null,
   "metadata": {},
   "outputs": [],
   "source": []
  },
  {
   "cell_type": "code",
   "execution_count": 30,
   "metadata": {},
   "outputs": [
    {
     "name": "stdout",
     "output_type": "stream",
     "text": [
      "Generating:  65  ages for unit type: [1., 0., 0.]\n",
      "Generated Ages:\n",
      "min:  42.35381245613098\n",
      "mean:  68.88097062661097\n",
      "max:  86.13047504425049\n",
      "stdv:  11.928164543861877\n",
      "True Ages:\n",
      "min:  49\n",
      "mean:  67.64615384615385\n",
      "max:  82\n",
      "stdv:  9.343744545425967\n"
     ]
    },
    {
     "data": {
      "text/plain": [
       "<function matplotlib.pyplot.show(close=None, block=None)>"
      ]
     },
     "execution_count": 30,
     "metadata": {},
     "output_type": "execute_result"
    },
    {
     "data": {
      "image/png": "[encoded data removed]",
      "text/plain": [
       "<Figure size 432x288 with 1 Axes>"
      ]
     },
     "metadata": {
      "needs_background": "light"
     },
     "output_type": "display_data"
    }
   ],
   "source": [
    "\"\"\"Generate n ages for a class\"\"\"\n",
    "print(\"Generating: \", 65, \" ages for unit type: [1., 0., 0.]\")\n",
    "\n",
    "age_one_hot_labels = tf.repeat([[1., 0., 0.]],65, axis=0)\n",
    "\n",
    "input_noise = tf.random.normal((65, cgan.noise_dim), 0, 1)\n",
    "random_vector_labels = tf.concat([input_noise, age_one_hot_labels], axis=1)\n",
    "\n",
    "ages = cgan.generator(random_vector_labels)\n",
    "\n",
    "inv_gen_ages_csicu = [(val * (max_age_filtered-min_age_filtered)) + min_age_filtered for val in ages.numpy().flatten()]\n",
    "\n",
    "print(\"Generated Ages:\")\n",
    "print(\"min: \", np.min(inv_gen_ages_csicu))\n",
    "print(\"mean: \", np.mean(inv_gen_ages_csicu))\n",
    "print(\"max: \", np.max(inv_gen_ages_csicu))\n",
    "print(\"stdv: \", np.std(inv_gen_ages_csicu))\n",
    "\n",
    "df_ages_class = final_df.query(\"unit == 'CSICU'\")\n",
    "\n",
    "print(\"True Ages:\")\n",
    "print(\"min: \", np.min(df_ages_class.age))\n",
    "print(\"mean: \", np.mean(df_ages_class.age))\n",
    "print(\"max: \", np.max(df_ages_class.age))\n",
    "print(\"stdv: \", np.std(df_ages_class.age))\n",
    "\n",
    "\n",
    "sns.histplot(inv_gen_ages_csicu, bins=70, label='GAN', kde=True,)\n",
    "sns.histplot(df_ages_class.age, bins=70, color='orange', label='Truth', alpha=0.3, kde=True,)\n",
    "plt.title('CSICU Ages')\n",
    "plt.legend()\n",
    "plt.show"
   ]
  },
  {
   "cell_type": "code",
   "execution_count": 31,
   "metadata": {},
   "outputs": [
    {
     "name": "stdout",
     "output_type": "stream",
     "text": [
      "Generating:  52  ages for unit type: [0., 1., 0.]\n",
      "Generated Ages:\n",
      "min:  34.077670097351074\n",
      "mean:  64.54940679898628\n",
      "max:  85.21336030960083\n",
      "stdv:  13.446702772726532\n",
      "True Ages:\n",
      "min:  41\n",
      "mean:  61.69230769230769\n",
      "max:  89\n",
      "stdv:  10.25171366826516\n"
     ]
    },
    {
     "data": {
      "text/plain": [
       "<function matplotlib.pyplot.show(close=None, block=None)>"
      ]
     },
     "execution_count": 31,
     "metadata": {},
     "output_type": "execute_result"
    },
    {
     "data": {
      "image/png": "[encoded data removed]",
      "text/plain": [
       "<Figure size 432x288 with 1 Axes>"
      ]
     },
     "metadata": {
      "needs_background": "light"
     },
     "output_type": "display_data"
    }
   ],
   "source": [
    "\"\"\"Generate n ages for a class\"\"\"\n",
    "print(\"Generating: \", 52, \" ages for unit type: [0., 1., 0.]\")\n",
    "\n",
    "age_one_hot_labels = tf.repeat([[0., 1., 0.]],52, axis=0)\n",
    "\n",
    "input_noise = tf.random.normal((52, cgan.noise_dim), 0, 1)\n",
    "random_vector_labels = tf.concat([input_noise, age_one_hot_labels], axis=1)\n",
    "\n",
    "ages = cgan.generator(random_vector_labels)\n",
    "\n",
    "inv_gen_ages_cticu = [(val * (max_age_filtered-min_age_filtered)) + min_age_filtered for val in ages.numpy().flatten()]\n",
    "\n",
    "print(\"Generated Ages:\")\n",
    "print(\"min: \", np.min(inv_gen_ages_cticu))\n",
    "print(\"mean: \", np.mean(inv_gen_ages_cticu))\n",
    "print(\"max: \", np.max(inv_gen_ages_cticu))\n",
    "print(\"stdv: \", np.std(inv_gen_ages_cticu))\n",
    "\n",
    "df_ages_class = final_df.query(\"unit == 'CTICU'\")\n",
    "\n",
    "print(\"True Ages:\")\n",
    "print(\"min: \", np.min(df_ages_class.age))\n",
    "print(\"mean: \", np.mean(df_ages_class.age))\n",
    "print(\"max: \", np.max(df_ages_class.age))\n",
    "print(\"stdv: \", np.std(df_ages_class.age))\n",
    "\n",
    "\n",
    "sns.histplot(inv_gen_ages_cticu, bins=70, label='GAN', kde=True,)\n",
    "sns.histplot(df_ages_class.age, bins=70, color='orange', label='Truth', alpha=0.3, kde=True,)\n",
    "plt.title('CTICU Ages')\n",
    "plt.legend()\n",
    "plt.show"
   ]
  },
  {
   "cell_type": "code",
   "execution_count": 32,
   "metadata": {},
   "outputs": [
    {
     "name": "stdout",
     "output_type": "stream",
     "text": [
      "Generating:  133  ages for unit type: [0., 0., 1.]\n",
      "Generated Ages:\n",
      "min:  28.841376781463623\n",
      "mean:  59.92492567327686\n",
      "max:  86.09919714927673\n",
      "stdv:  14.746532921800664\n",
      "True Ages:\n",
      "min:  21\n",
      "mean:  60.24812030075188\n",
      "max:  89\n",
      "stdv:  17.081144691897197\n"
     ]
    },
    {
     "data": {
      "text/plain": [
       "<function matplotlib.pyplot.show(close=None, block=None)>"
      ]
     },
     "execution_count": 32,
     "metadata": {},
     "output_type": "execute_result"
    },
    {
     "data": {
      "image/png": "[encoded data removed]",
      "text/plain": [
       "<Figure size 432x288 with 1 Axes>"
      ]
     },
     "metadata": {
      "needs_background": "light"
     },
     "output_type": "display_data"
    }
   ],
   "source": [
    "\"\"\"Generate n ages for a class\"\"\"\n",
    "print(\"Generating: \", 133, \" ages for unit type: [0., 0., 1.]\")\n",
    "\n",
    "age_one_hot_labels = tf.repeat([[0., 0., 1.]],133, axis=0)\n",
    "\n",
    "input_noise = tf.random.normal((133, cgan.noise_dim), 0, 1)\n",
    "random_vector_labels = tf.concat([input_noise, age_one_hot_labels], axis=1)\n",
    "\n",
    "ages = cgan.generator(random_vector_labels)\n",
    "\n",
    "inv_gen_ages_cardiacicu = [(val * (max_age_filtered-min_age_filtered)) + min_age_filtered for val in ages.numpy().flatten()]\n",
    "\n",
    "print(\"Generated Ages:\")\n",
    "print(\"min: \", np.min(inv_gen_ages_cardiacicu))\n",
    "print(\"mean: \", np.mean(inv_gen_ages_cardiacicu))\n",
    "print(\"max: \", np.max(inv_gen_ages_cardiacicu))\n",
    "print(\"stdv: \", np.std(inv_gen_ages_cardiacicu))\n",
    "\n",
    "df_ages_class = final_df.query(\"unit == 'Cardiac ICU'\")\n",
    "\n",
    "print(\"True Ages:\")\n",
    "print(\"min: \", np.min(df_ages_class.age))\n",
    "print(\"mean: \", np.mean(df_ages_class.age))\n",
    "print(\"max: \", np.max(df_ages_class.age))\n",
    "print(\"stdv: \", np.std(df_ages_class.age))\n",
    "\n",
    "\n",
    "sns.histplot(inv_gen_ages_cardiacicu, bins=70, label='GAN', kde=True,)\n",
    "sns.histplot(df_ages_class.age, bins=70, color='orange', label='Truth', alpha=0.3, kde=True,)\n",
    "plt.title('Cardiac ICU Ages')\n",
    "plt.legend()\n",
    "plt.show"
   ]
  },
  {
   "cell_type": "code",
   "execution_count": 65,
   "metadata": {},
   "outputs": [
    {
     "data": {
      "text/html": [
       "<div>\n",
       "<style scoped>\n",
       "    .dataframe tbody tr th:only-of-type {\n",
       "        vertical-align: middle;\n",
       "    }\n",
       "\n",
       "    .dataframe tbody tr th {\n",
       "        vertical-align: top;\n",
       "    }\n",
       "\n",
       "    .dataframe thead th {\n",
       "        text-align: right;\n",
       "    }\n",
       "</style>\n",
       "<table border=\"1\" class=\"dataframe\">\n",
       "  <thead>\n",
       "    <tr style=\"text-align: right;\">\n",
       "      <th></th>\n",
       "      <th>age</th>\n",
       "      <th>unit</th>\n",
       "    </tr>\n",
       "  </thead>\n",
       "  <tbody>\n",
       "    <tr>\n",
       "      <th>0</th>\n",
       "      <td>72.893826</td>\n",
       "      <td>CTICU</td>\n",
       "    </tr>\n",
       "    <tr>\n",
       "      <th>1</th>\n",
       "      <td>61.423086</td>\n",
       "      <td>CTICU</td>\n",
       "    </tr>\n",
       "    <tr>\n",
       "      <th>2</th>\n",
       "      <td>57.212628</td>\n",
       "      <td>CTICU</td>\n",
       "    </tr>\n",
       "    <tr>\n",
       "      <th>3</th>\n",
       "      <td>65.652233</td>\n",
       "      <td>CTICU</td>\n",
       "    </tr>\n",
       "    <tr>\n",
       "      <th>4</th>\n",
       "      <td>38.960757</td>\n",
       "      <td>CTICU</td>\n",
       "    </tr>\n",
       "  </tbody>\n",
       "</table>\n",
       "</div>"
      ],
      "text/plain": [
       "         age   unit\n",
       "0  72.893826  CTICU\n",
       "1  61.423086  CTICU\n",
       "2  57.212628  CTICU\n",
       "3  65.652233  CTICU\n",
       "4  38.960757  CTICU"
      ]
     },
     "execution_count": 65,
     "metadata": {},
     "output_type": "execute_result"
    }
   ],
   "source": [
    "# combine all the generated ages into a single dataframe like the original (age, unit columns)\n",
    "df_synthetic_ageunittype = pd.DataFrame(np.concatenate([inv_gen_ages_cticu, inv_gen_ages_cardiacicu, inv_gen_ages_csicu], axis=0), columns=['age'])\n",
    "# add labels for correct rows for CSICU, CTICU, Cardiac_ICU\n",
    "ary_labels = [\"CTICU\"] * len(inv_gen_ages_cticu) + [\"Cardiac ICU\"] * len(inv_gen_ages_cardiacicu) + [\"CSICU\"] * len(inv_gen_ages_csicu)\n",
    "df_synthetic_ageunittype['unit'] = ary_labels\n",
    "df_synthetic_ageunittype.head()\n"
   ]
  },
  {
   "cell_type": "code",
   "execution_count": 66,
   "metadata": {},
   "outputs": [],
   "source": [
    "df_synthetic_ageunittype.to_csv('../data/ourGAN_ages_ageunittype.csv', index=False)"
   ]
  },
  {
   "cell_type": "code",
   "execution_count": 74,
   "metadata": {},
   "outputs": [
    {
     "data": {
      "text/plain": [
       "<function matplotlib.pyplot.show(close=None, block=None)>"
      ]
     },
     "execution_count": 74,
     "metadata": {},
     "output_type": "execute_result"
    },
    {
     "data": {
      "image/png": "[encoded data removed]",
      "text/plain": [
       "<Figure size 432x288 with 1 Axes>"
      ]
     },
     "metadata": {
      "needs_background": "light"
     },
     "output_type": "display_data"
    }
   ],
   "source": [
    "sns.histplot(data=df_synthetic_ageunittype, x='age', hue='unit', bins=70, kde=True, alpha=0.6)\n",
    "plt.xlim(20,91)\n",
    "plt.ylim(0,10)\n",
    "plt.title('Synthetic Ages For ICU Unit')\n",
    "plt.show"
   ]
  },
  {
   "cell_type": "code",
   "execution_count": 69,
   "metadata": {},
   "outputs": [
    {
     "data": {
      "text/plain": [
       "<function matplotlib.pyplot.show(close=None, block=None)>"
      ]
     },
     "execution_count": 69,
     "metadata": {},
     "output_type": "execute_result"
    },
    {
     "data": {
      "image/png": "[encoded data removed]",
      "text/plain": [
       "<Figure size 432x288 with 1 Axes>"
      ]
     },
     "metadata": {
      "needs_background": "light"
     },
     "output_type": "display_data"
    }
   ],
   "source": [
    "sns.histplot(data=df_ages_filtered, x='age', hue='unit', bins=70, kde=True, alpha=0.6)\n",
    "plt.xlim(0,91)\n",
    "plt.ylim(0,10)\n",
    "plt.title('Real Ages For ICU Unit')\n",
    "plt.show"
   ]
  },
  {
   "cell_type": "code",
   "execution_count": null,
   "metadata": {},
   "outputs": [],
   "source": []
  }
 ],
 "metadata": {
  "interpreter": {
   "hash": "34b722ad9db4b3bab2fc22ea7ad4e4dafa3a71a0a38143cc4f1aba484bf1fe4b"
  },
  "kernelspec": {
   "display_name": "Python 3.9.5 64-bit",
   "language": "python",
   "name": "python3"
  },
  "language_info": {
   "codemirror_mode": {
    "name": "ipython",
    "version": 3
   },
   "file_extension": ".py",
   "mimetype": "text/x-python",
   "name": "python",
   "nbconvert_exporter": "python",
   "pygments_lexer": "ipython3",
   "version": "3.9.5"
  },
  "orig_nbformat": 4
 },
 "nbformat": 4,
 "nbformat_minor": 2
}
