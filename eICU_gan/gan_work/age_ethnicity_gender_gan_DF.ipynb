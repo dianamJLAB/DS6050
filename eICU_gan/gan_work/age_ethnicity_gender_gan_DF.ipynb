{
  "cells": [
    {
      "cell_type": "code",
      "execution_count": 1,
      "metadata": {
        "id": "c_5e8_VcuC7r"
      },
      "outputs": [],
      "source": [
        "import seaborn as sns\n",
        "import matplotlib.pyplot as plt\n",
        "\n",
        "import sys\n",
        "import numpy as np\n",
        "import tensorflow.keras as keras\n",
        "import tensorflow.keras.backend as K\n",
        "from tensorflow.keras.layers import Input, Dense, Activation, LeakyReLU, BatchNormalization, Dropout\n",
        "from tensorflow.keras.models import Sequential\n",
        "from tensorflow.keras.optimizers import Adam\n",
        "from tensorflow.keras import Model\n",
        "import matplotlib.pyplot as plt\n",
        "import pandas as pd\n",
        "import os\n",
        "\n",
        "from sklearn.preprocessing import StandardScaler\n",
        "from sklearn.preprocessing import OneHotEncoder\n",
        "import tensorflow as tf\n",
        "\n",
        "import seaborn as sns\n",
        "import matplotlib.pyplot as plt\n",
        "\n",
        "pd.set_option('display.max_rows', None)"
      ]
    },
    {
      "cell_type": "code",
      "source": [
        "from google.colab import drive\n",
        "drive.mount('/content/drive')"
      ],
      "metadata": {
        "colab": {
          "base_uri": "https://localhost:8080/"
        },
        "id": "bc5PSNlfuJ3w",
        "outputId": "d233d881-d1e6-47bc-8e36-bad26163ac6c"
      },
      "execution_count": 2,
      "outputs": [
        {
          "output_type": "stream",
          "name": "stdout",
          "text": [
            "Drive already mounted at /content/drive; to attempt to forcibly remount, call drive.mount(\"/content/drive\", force_remount=True).\n"
          ]
        }
      ]
    },
    {
      "cell_type": "code",
      "execution_count": 3,
      "metadata": {
        "id": "0qzXBK53uC7t"
      },
      "outputs": [],
      "source": [
        "#https://keras.io/examples/generative/conditional_gan/#interpolating-between-classes-with-the-trained-generator"
      ]
    },
    {
      "cell_type": "markdown",
      "source": [
        ""
      ],
      "metadata": {
        "id": "Pl-Mnh0q2kHO"
      }
    },
    {
      "cell_type": "code",
      "source": [
        "from google.colab import drive\n",
        "drive.mount('/content/drive')"
      ],
      "metadata": {
        "id": "90kqhzMouE6G",
        "colab": {
          "base_uri": "https://localhost:8080/"
        },
        "outputId": "4ee5db50-0c02-4384-bf67-4542cf3f53c1"
      },
      "execution_count": 4,
      "outputs": [
        {
          "output_type": "stream",
          "name": "stdout",
          "text": [
            "Drive already mounted at /content/drive; to attempt to forcibly remount, call drive.mount(\"/content/drive\", force_remount=True).\n"
          ]
        }
      ]
    },
    {
      "cell_type": "code",
      "execution_count": 5,
      "metadata": {
        "id": "K0Kj1O1juC7u"
      },
      "outputs": [],
      "source": [
        "class ConditionalGAN(keras.Model):\n",
        "    def __init__(self, noise_dim=50, \n",
        "                 data_shape=1,\n",
        "                 num_classes=3, \n",
        "                 d_learning_rate=1e-5, \n",
        "                 g_learning_rate=1e-6, \n",
        "                 batch_size=64, \n",
        "                 start_epoch=0,\n",
        "                 verbose = False, distribute = False):\n",
        "\n",
        "        super(ConditionalGAN, self).__init__()\n",
        "        self.noise_dim = noise_dim\n",
        "        self.data_shape = data_shape # output shape of the generator and goes to discriminator\n",
        "        self.num_classes = num_classes\n",
        "        self.d_optimizer = tf.keras.optimizers.Adam(d_learning_rate)\n",
        "        self.g_optimizer = tf.keras.optimizers.Adam(g_learning_rate)\n",
        "        self.batch_size = batch_size\n",
        "        self.start_epoch = start_epoch\n",
        "        self.verbose = verbose\n",
        "        self.distribute = distribute\n",
        "\n",
        "        self.gen_loss_tracker = keras.metrics.Mean(name=\"generator_loss\")\n",
        "        self.disc_loss_tracker = keras.metrics.Mean(name=\"discriminator_loss\")\n",
        "\n",
        "        # add number of class labels to the input channels for generator\n",
        "        self.g_dim = self.noise_dim + self.num_classes\n",
        "\n",
        "        # add the number of class labels to the input to the discriminator\n",
        "        self.d_dim = self.data_shape + self.num_classes\n",
        "\n",
        "        if (self.verbose):\n",
        "            print(\"Generator input dim: \", self.g_dim)\n",
        "            print(\"Dicrimination input dim: \", self.d_dim)\n",
        "\n",
        "\n",
        "        # build generator and discriminator\n",
        "        self.discriminator = self.build_discriminator()\n",
        "        self.generator = self.build_generator()\n",
        "\n",
        "    @property\n",
        "    def metrics(self):\n",
        "        return [self.gen_loss_tracker, self.disc_loss_tracker]\n",
        "    \n",
        "    def build_generator(self):\n",
        "        \"Build the generator model\"\n",
        "        inputs = Input(shape=(self.g_dim,))\n",
        "        hidden = Dense(64)(inputs) # 128\n",
        "        hidden = LeakyReLU(alpha=0.2)(hidden)\n",
        "        hidden = BatchNormalization()(hidden)\n",
        "        hidden = Dense(64)(hidden)\n",
        "        hidden = LeakyReLU(alpha=0.2)(hidden)\n",
        "\n",
        "        output = Dense(self.data_shape, activation=\"sigmoid\")(hidden)\n",
        "        #output = Dense(self.data_shape, activation=\"linear\")(hidden)\n",
        "        \n",
        "        if self.distribute == False: \n",
        "          generator = Model(inputs=inputs, outputs=output, name=\"generator\")\n",
        "\n",
        "        elif self.distribute == 'G' or self.distribute.lower() == 'both':\n",
        "          mirrored_strategy = tf.distribute.experimental.MultiWorkerMirroredStrategy() #tf.distribute.MirroredStrategy()\n",
        "          with mirrored_strategy.scope():\n",
        "\n",
        "            generator = Model(inputs=inputs, outputs=output, name=\"generator\")\n",
        "            print('Number of devices: {}'.format(mirrored_strategy.num_replicas_in_sync))\n",
        "            \n",
        "        else:\n",
        "            print('Unrecognized distribution call. Reverting to non distributed GAN.')\n",
        "            generator = Model(inputs=inputs, outputs=output, name=\"generator\")\n",
        "\n",
        "        generator.summary()\n",
        "        return generator\n",
        "\n",
        "\n",
        "    def build_discriminator(self):\n",
        "        \"build the discriminator model\"\n",
        "        d_inputs = Input(shape=(self.d_dim,))\n",
        "        h = Dense(64, input_shape=(self.g_dim,))(d_inputs) \n",
        "        h = LeakyReLU(alpha=0.2)(h)\n",
        "        h = Dropout(0.1)(h)\n",
        "        h = Dense(64)(h) #32\n",
        "        h = LeakyReLU(alpha=0.2)(h)\n",
        "        h = Dropout(0.1)(h)\n",
        "        h = Dense(1, activation=\"sigmoid\")(h)\n",
        "        \n",
        "        if self.distribute == False:\n",
        "          discriminator = Model(d_inputs, h, name=\"discriminator\")\n",
        "\n",
        "        elif self.distribute == 'D' or self.distribute.lower() == 'both':\n",
        "          mirrored_strategy = tf.distribute.experimental.MultiWorkerMirroredStrategy() #tf.distribute.MirroredStrategy()\n",
        "          with mirrored_strategy.scope():\n",
        "            discriminator = Model(d_inputs, h, name=\"discriminator\")\n",
        "            print('Number of devices: {}'.format(mirrored_strategy.num_replicas_in_sync))\n",
        "            \n",
        "        else:\n",
        "            print('Unrecognized distribution call. Reverting to non distributed GAN.')\n",
        "            generator = Model(inputs=inputs, outputs=output, name=\"generator\")      \n",
        "\n",
        "\n",
        "        discriminator.summary()\n",
        "        return discriminator\n",
        "\n",
        "    def compile(self, loss_fn):\n",
        "        super(ConditionalGAN, self).compile()\n",
        "        self.loss_fn = loss_fn\n",
        "\n",
        "    def train_step(self, data):\n",
        "        # Unpack the data.\n",
        "        real_ages, one_hot_labels = data\n",
        "        real_ages = tf.cast(real_ages, tf.float32)\n",
        "        #print(\"real_ages:\", real_ages[0:2])\n",
        "\n",
        "        # Add dummy dimensions to the labels so that they can be concatenated with\n",
        "        # the images. This is for the discriminator.\n",
        "        age_one_hot_labels = one_hot_labels[:, None]\n",
        "        print(\"age_one_hot_labels1:\", age_one_hot_labels[0:2])\n",
        "\n",
        "        age_one_hot_labels = tf.repeat(age_one_hot_labels, repeats=[1])\n",
        "        print(\"age_one_hot_labels2:\", age_one_hot_labels[0:2])\n",
        "\n",
        "        age_one_hot_labels = tf.reshape(age_one_hot_labels, (-1, self.num_classes))\n",
        "        age_one_hot_labels = tf.cast(age_one_hot_labels, tf.float32)\n",
        "        print(\"age_one_hot_labels3:\", age_one_hot_labels[0:2])\n",
        "\n",
        "        # Sample random points in the latent space and concatenate the labels.\n",
        "        # This is for the generator.\n",
        "        batch_size = tf.shape(real_ages)[0]\n",
        "        random_latent_vectors = tf.random.normal(shape=(batch_size, self.noise_dim))\n",
        "        random_vector_labels = tf.concat([random_latent_vectors, one_hot_labels], axis=1)\n",
        "\n",
        "        # Decode the noise (guided by labels) to fake ages.\n",
        "        generated_ages = self.generator(random_vector_labels)\n",
        "        generated_ages= tf.cast(generated_ages, tf.float32)\n",
        "\n",
        "        # Combine them with real images. Note that we are concatenating the labels\n",
        "        # with these images here. and tf.concat is on the last dimension (-1)\n",
        "        fake_ages_and_labels = tf.concat([generated_ages, age_one_hot_labels], -1)\n",
        "        real_ages_and_labels = tf.concat([real_ages, age_one_hot_labels], -1) \n",
        "        combined_ages = tf.concat([fake_ages_and_labels, real_ages_and_labels], axis=0)\n",
        "\n",
        "        # Assemble labels discriminating real from fake ages. 1 == fake, 0 == real\n",
        "        labels = tf.concat(\n",
        "            [tf.ones((batch_size, 1)), tf.zeros((batch_size, 1))], axis=0\n",
        "        )\n",
        "\n",
        "        # TODO: concerned that observations are ordered fake then real - do we want to concat, then shuffle, then separate?\n",
        "        \n",
        "        #labels = tf.random.shuffle(labels, seed = 24)\n",
        "\n",
        "        # Train the discriminator.\n",
        "        with tf.GradientTape() as tape:\n",
        "            predictions = self.discriminator(combined_ages)\n",
        "            d_loss = self.loss_fn(labels, predictions)\n",
        "        grads = tape.gradient(d_loss, self.discriminator.trainable_weights)\n",
        "        self.d_optimizer.apply_gradients(\n",
        "            zip(grads, self.discriminator.trainable_weights)\n",
        "        )\n",
        "\n",
        "        # Sample random points in the latent space.t\n",
        "        random_latent_vectors = tf.random.normal(shape=(batch_size, self.noise_dim))\n",
        "        random_vector_labels = tf.concat(\n",
        "            [random_latent_vectors, one_hot_labels], axis=1\n",
        "        )\n",
        "\n",
        "        # Assemble labels that say \"all real images\".\n",
        "        misleading_labels = tf.zeros((batch_size, 1))\n",
        "\n",
        "        # Train the generator (note that we should *not* update the weights\n",
        "        # of the discriminator)!\n",
        "        with tf.GradientTape() as tape:\n",
        "            fake_ages = self.generator(random_vector_labels)\n",
        "            fake_ages_and_labels = tf.concat([fake_ages, age_one_hot_labels], -1)\n",
        "            predictions = self.discriminator(fake_ages_and_labels)\n",
        "            g_loss = self.loss_fn(misleading_labels, predictions)\n",
        "        grads = tape.gradient(g_loss, self.generator.trainable_weights)\n",
        "        self.g_optimizer.apply_gradients(zip(grads, self.generator.trainable_weights))\n",
        "\n",
        "        # Monitor loss.\n",
        "        self.gen_loss_tracker.update_state(g_loss)\n",
        "        self.disc_loss_tracker.update_state(d_loss)\n",
        "        return {\n",
        "            \"g_loss\": self.gen_loss_tracker.result(),\n",
        "            \"d_loss\": self.disc_loss_tracker.result(),\n",
        "        }\n",
        "\n",
        "\n",
        "    '''def generate(self, n=1000, one_hot_label=[1., 0., 0., 0., 0., 0., 1., 0.]):\n",
        "        \"\"\"Generate n ages for a class\"\"\"\n",
        "        print(\"Generating: \", n, \" ages for unit type: \", one_hot_label)\n",
        "        input_noise = tf.random.normal((n, self.noise_dim), 0, 1)\n",
        "        random_vector_labels = tf.concat([input_noise, one_hot_label], axis=1)\n",
        "\n",
        "        ages = self.generator(random_vector_labels)\n",
        "\n",
        "        return ages.numpy()'''"
      ]
    },
    {
      "cell_type": "code",
      "source": [
        "#input_noise = tf.random.normal((1000, 50), 0, 1)\n",
        "#random_vector_labels = tf.concat([input_noise, one_hot_label], axis=1)"
      ],
      "metadata": {
        "id": "t52ovUvwDT6y"
      },
      "execution_count": 6,
      "outputs": []
    },
    {
      "cell_type": "code",
      "source": [
        "#random_vector_labels = tf.concat([input_noise, [1., 0., 0.]], axis=1)"
      ],
      "metadata": {
        "id": "1TPbzinuDkU0"
      },
      "execution_count": 7,
      "outputs": []
    },
    {
      "cell_type": "code",
      "source": [
        "#random_latent_vectors#, one_hot_labels"
      ],
      "metadata": {
        "id": "U7RhJYpfs4C8"
      },
      "execution_count": 8,
      "outputs": []
    },
    {
      "cell_type": "code",
      "execution_count": 9,
      "metadata": {
        "id": "4wxEV4vouC7x"
      },
      "outputs": [],
      "source": [
        "ages_ethnicity_np = np.load(\"/content/drive/MyDrive/DS6050-main/eICU_gan/data/eICU_age_ethnicity.npy\", allow_pickle=True)\n"
      ]
    },
    {
      "cell_type": "code",
      "execution_count": 10,
      "metadata": {
        "colab": {
          "base_uri": "https://localhost:8080/"
        },
        "id": "gZmKz22HuC7y",
        "outputId": "ab853206-aaa3-40f5-a787-bdbb02249922"
      },
      "outputs": [
        {
          "output_type": "execute_result",
          "data": {
            "text/plain": [
              "array([[(87,), ('Caucasian',)],\n",
              "       [(87,), ('Caucasian',)],\n",
              "       [(76,), ('Caucasian',)],\n",
              "       ...,\n",
              "       [(41,), ('African American',)],\n",
              "       [(72,), ('Caucasian',)],\n",
              "       [(50,), ('Caucasian',)]], dtype=object)"
            ]
          },
          "metadata": {},
          "execution_count": 10
        }
      ],
      "source": [
        "ages_ethnicity_np"
      ]
    },
    {
      "cell_type": "code",
      "execution_count": 11,
      "metadata": {
        "colab": {
          "base_uri": "https://localhost:8080/"
        },
        "id": "MIWt5ZbvuC7y",
        "outputId": "f5d5fd1e-3f77-4ebf-ac5e-d119bb18cacc"
      },
      "outputs": [
        {
          "output_type": "stream",
          "name": "stdout",
          "text": [
            "ethnicity length:  2253\n"
          ]
        }
      ],
      "source": [
        "ethnicity_np = np.asarray(ages_ethnicity_np[:,1].flatten().tolist()).flatten()\n",
        "print('ethnicity length: ', len(ethnicity_np))\n",
        "#print(ethnicity_np[0:5])"
      ]
    },
    {
      "cell_type": "code",
      "source": [
        "#df_ages_filtered"
      ],
      "metadata": {
        "id": "UetYiYVmL8U0"
      },
      "execution_count": 12,
      "outputs": []
    },
    {
      "cell_type": "code",
      "source": [
        "ages_ethnicity_np"
      ],
      "metadata": {
        "colab": {
          "base_uri": "https://localhost:8080/"
        },
        "id": "lFg9MRJ21w-O",
        "outputId": "e45ab3a2-9e83-43e6-c959-5bf9ab4cbda6"
      },
      "execution_count": 13,
      "outputs": [
        {
          "output_type": "execute_result",
          "data": {
            "text/plain": [
              "array([[(87,), ('Caucasian',)],\n",
              "       [(87,), ('Caucasian',)],\n",
              "       [(76,), ('Caucasian',)],\n",
              "       ...,\n",
              "       [(41,), ('African American',)],\n",
              "       [(72,), ('Caucasian',)],\n",
              "       [(50,), ('Caucasian',)]], dtype=object)"
            ]
          },
          "metadata": {},
          "execution_count": 13
        }
      ]
    },
    {
      "cell_type": "code",
      "source": [
        "np.load(\"/content/drive/MyDrive/DS6050-main/eICU_gan/data/eICU_age_ethnicity.npy\", allow_pickle=True)"
      ],
      "metadata": {
        "colab": {
          "base_uri": "https://localhost:8080/"
        },
        "id": "kshN_bsA2APW",
        "outputId": "c249fa2b-8e15-4a89-9187-d40c79530a2f"
      },
      "execution_count": 14,
      "outputs": [
        {
          "output_type": "execute_result",
          "data": {
            "text/plain": [
              "array([[(87,), ('Caucasian',)],\n",
              "       [(87,), ('Caucasian',)],\n",
              "       [(76,), ('Caucasian',)],\n",
              "       ...,\n",
              "       [(41,), ('African American',)],\n",
              "       [(72,), ('Caucasian',)],\n",
              "       [(50,), ('Caucasian',)]], dtype=object)"
            ]
          },
          "metadata": {},
          "execution_count": 14
        }
      ]
    },
    {
      "cell_type": "code",
      "source": [
        "ages_ethnicity_np"
      ],
      "metadata": {
        "colab": {
          "base_uri": "https://localhost:8080/"
        },
        "id": "qPQFKMrg2Cn0",
        "outputId": "82be51dd-2aa1-4636-af35-d8353c0423de"
      },
      "execution_count": 15,
      "outputs": [
        {
          "output_type": "execute_result",
          "data": {
            "text/plain": [
              "array([[(87,), ('Caucasian',)],\n",
              "       [(87,), ('Caucasian',)],\n",
              "       [(76,), ('Caucasian',)],\n",
              "       ...,\n",
              "       [(41,), ('African American',)],\n",
              "       [(72,), ('Caucasian',)],\n",
              "       [(50,), ('Caucasian',)]], dtype=object)"
            ]
          },
          "metadata": {},
          "execution_count": 15
        }
      ]
    },
    {
      "cell_type": "code",
      "execution_count": 16,
      "metadata": {
        "colab": {
          "base_uri": "https://localhost:8080/"
        },
        "id": "HhTefOGQuC7y",
        "outputId": "5f596a1c-f148-42e3-8d28-bba2a4f242de"
      },
      "outputs": [
        {
          "output_type": "stream",
          "name": "stdout",
          "text": [
            "length:  2537\n",
            "[[60.0 'Hispanic' 'Female']\n",
            " [63.0 'Caucasian' 'Male']\n",
            " [57.0 'Caucasian' 'Female']\n",
            " [87.0 'Caucasian' 'Male']\n",
            " [87.0 'Caucasian' 'Male']]\n",
            "ages length:  2537\n",
            "ethnicity length:  2537\n",
            "gender length:  2537\n",
            "(2537, 3)\n",
            "                   age  gender\n",
            "ethnicity                     \n",
            "African American   275     275\n",
            "Asian               27      27\n",
            "Caucasian         1963    1963\n",
            "Hispanic           151     151\n",
            "Native American     24      24\n",
            "Other/Unknown       97      97\n",
            "============================================================\n",
            "FILTERED:\n",
            "                   age  gender  ethnicity_code  gender_code\n",
            "ethnicity                                                  \n",
            "African American   272     272             272          272\n",
            "Asian               23      23              23           23\n",
            "Caucasian         1881    1881            1881         1881\n",
            "Hispanic           149     149             149          149\n",
            "Native American     24      24              24           24\n",
            "Other/Unknown       93      93              93           93\n",
            "mean age:  67.23300573300574\n",
            "std age:  13.529\n",
            "min age:  16.0\n",
            "max age:  89.0\n",
            "[0.6027397260273972, 0.6438356164383562, 0.5616438356164384, 0.9726027397260274, 0.9726027397260274]\n",
            "[[0. 0. 0. 1. 0. 0. 1. 0.]\n",
            " [0. 0. 1. 0. 0. 0. 0. 1.]\n",
            " [0. 0. 1. 0. 0. 0. 1. 0.]\n",
            " [0. 0. 1. 0. 0. 0. 0. 1.]\n",
            " [0. 0. 1. 0. 0. 0. 0. 1.]]\n",
            "Shape of ages: (2442, 1)\n",
            "Shape of labels: (2442, 8)\n"
          ]
        },
        {
          "output_type": "stream",
          "name": "stderr",
          "text": [
            "/usr/local/lib/python3.7/dist-packages/ipykernel_launcher.py:31: SettingWithCopyWarning: \n",
            "A value is trying to be set on a copy of a slice from a DataFrame.\n",
            "Try using .loc[row_indexer,col_indexer] = value instead\n",
            "\n",
            "See the caveats in the documentation: https://pandas.pydata.org/pandas-docs/stable/user_guide/indexing.html#returning-a-view-versus-a-copy\n"
          ]
        }
      ],
      "source": [
        "df = pd.read_csv('/content/drive/MyDrive/DS6050-main/eICU_gan/data/data_3D_pasthistories.csv')\n",
        "\n",
        "ages_ethnicity_np = df[['age', 'ethnicity', 'gender']].to_numpy()#np.load(\"/content/drive/MyDrive/DS6050-main/eICU_gan/data/eICU_age_ethnicity.npy\", allow_pickle=True)\n",
        "print('length: ', len(ages_ethnicity_np))\n",
        "print(ages_ethnicity_np[0:5])\n",
        "\n",
        "ages_np = np.asarray(ages_ethnicity_np[:,0].flatten().tolist()).flatten()\n",
        "print('ages length: ', len(ages_np))\n",
        "#print(ages_np[0:5])\n",
        "\n",
        "ethnicity_np = np.asarray(ages_ethnicity_np[:,1].flatten().tolist()).flatten()\n",
        "print('ethnicity length: ', len(ethnicity_np))\n",
        "#print(ethnicity_np[0:5])\n",
        "\n",
        "gender_np = np.asarray(ages_ethnicity_np[:,2].flatten().tolist()).flatten()\n",
        "print('gender length: ', len(gender_np))\n",
        "#print(ethnicity_np[0:5])\n",
        "\n",
        "\n",
        "df_ages = pd.DataFrame(zip(ages_np, ethnicity_np, gender_np), columns=['age','ethnicity', 'gender'])\n",
        "print(df_ages.shape)\n",
        "print(df_ages.groupby('ethnicity').count())\n",
        "\n",
        "# create data set without 90 or greater since that was a category flattened\n",
        "print(\"==\" * 30)\n",
        "print(\"FILTERED:\")\n",
        "df_ages_filtered = df_ages.query(\"age < 90\")\n",
        "#df_ages_filtered['ethnicity_code'] = df_ages_filtered['ethnicity'].astype('category').cat.codes\n",
        "\n",
        "for i in ['ethnicity', 'gender']:\n",
        "  df_ages_filtered[i+'_code'] = df_ages_filtered[i].astype('category').cat.codes\n",
        "\n",
        "print(df_ages_filtered.groupby('ethnicity').count())\n",
        "\n",
        "\n",
        "mean_age_filtered = df_ages_filtered.age.mean()\n",
        "std_age_filtered =  df_ages_filtered.age.std()\n",
        "min_age_filtered =  df_ages_filtered.age.min()\n",
        "max_age_filtered =  df_ages_filtered.age.max()\n",
        "\n",
        "print(\"mean age: \", mean_age_filtered)\n",
        "print(\"std age: \", np.round(std_age_filtered,3))\n",
        "print(\"min age: \", min_age_filtered)\n",
        "print(\"max age: \", max_age_filtered)\n",
        "\n",
        "scaled_ages_filtered = [(x - min_age_filtered)/(max_age_filtered - min_age_filtered) for x in df_ages_filtered['age']]\n",
        "all_ages = np.reshape(scaled_ages_filtered, (-1, 1))\n",
        "\n",
        "#all_labels = keras.utils.to_categorical(df_ages_filtered['ethnicity_code'], 3)\n",
        "\n",
        "all_labels = np.concatenate((keras.utils.to_categorical(df_ages_filtered['ethnicity_code'], df_ages_filtered['ethnicity_code'].max()+1), \n",
        "                             keras.utils.to_categorical(df_ages_filtered['gender_code'], 2)), axis = 1)\n",
        "\n",
        "print(scaled_ages_filtered[0:5])\n",
        "print(np.array(all_labels[0:5]))\n",
        "print(f\"Shape of ages: {all_ages.shape}\")\n",
        "\n",
        "print(f\"Shape of labels: {all_labels.shape}\")\n",
        "\n",
        "# Create tf.data.Dataset.\n",
        "dataset = tf.data.Dataset.from_tensor_slices((all_ages, all_labels))\n",
        "dataset = dataset.shuffle(buffer_size=200).batch(64)\n",
        "#list(dataset.as_numpy_iterator())\n",
        "#for element in dataset:\n",
        "#    print(element)\n"
      ]
    },
    {
      "cell_type": "code",
      "source": [
        "#oh_df = pd.read_csv(\"/content/drive/MyDrive/DS6050-main/eICU_gan/data/data_3D_pasthistories.csv\")"
      ],
      "metadata": {
        "id": "i5it1-DWMhB1"
      },
      "execution_count": 17,
      "outputs": []
    },
    {
      "cell_type": "code",
      "source": [
        "#oh_df.columns"
      ],
      "metadata": {
        "id": "1yPDmwLZNj1H"
      },
      "execution_count": 18,
      "outputs": []
    },
    {
      "cell_type": "code",
      "source": [
        "#oh_df.head()"
      ],
      "metadata": {
        "id": "GTbcantOzaKx"
      },
      "execution_count": 19,
      "outputs": []
    },
    {
      "cell_type": "code",
      "execution_count": 20,
      "metadata": {
        "colab": {
          "base_uri": "https://localhost:8080/",
          "height": 296
        },
        "id": "RJ80Cu_fuC7z",
        "outputId": "65072c07-43ef-4f49-9c37-af729eed8557"
      },
      "outputs": [
        {
          "output_type": "execute_result",
          "data": {
            "text/plain": [
              "<function matplotlib.pyplot.show>"
            ]
          },
          "metadata": {},
          "execution_count": 20
        },
        {
          "output_type": "display_data",
          "data": {
            "text/plain": [
              "<Figure size 432x288 with 1 Axes>"
            ],
            "image/png": "[encoded data removed]"
          },
          "metadata": {
            "needs_background": "light"
          }
        }
      ],
      "source": [
        "sns.histplot(data=df_ages, x='age', hue='ethnicity', bins=70, color='orange', kde=True, alpha=0.6)\n",
        "plt.show"
      ]
    },
    {
      "cell_type": "code",
      "execution_count": 21,
      "metadata": {
        "colab": {
          "base_uri": "https://localhost:8080/",
          "height": 357
        },
        "id": "GWKp3RHXuC7z",
        "outputId": "b402b5b4-f86e-4b39-85c3-6ccac04dbdfe"
      },
      "outputs": [
        {
          "output_type": "stream",
          "name": "stderr",
          "text": [
            "/usr/local/lib/python3.7/dist-packages/sklearn/utils/deprecation.py:87: FutureWarning: Function get_feature_names is deprecated; get_feature_names is deprecated in 1.0 and will be removed in 1.2. Please use get_feature_names_out instead.\n",
            "  warnings.warn(msg, category=FutureWarning)\n"
          ]
        },
        {
          "output_type": "execute_result",
          "data": {
            "text/plain": [
              "       age         ethnicity gender  ethnicity_African American  \\\n",
              "2532  41.0  African American   Male                         1.0   \n",
              "2533  41.0  African American   Male                         1.0   \n",
              "2534  50.0         Caucasian   Male                         0.0   \n",
              "2535  50.0         Caucasian   Male                         0.0   \n",
              "2536  50.0         Caucasian   Male                         0.0   \n",
              "\n",
              "      ethnicity_Asian  ethnicity_Caucasian  ethnicity_Hispanic  \\\n",
              "2532              0.0                  0.0                 0.0   \n",
              "2533              0.0                  0.0                 0.0   \n",
              "2534              0.0                  1.0                 0.0   \n",
              "2535              0.0                  1.0                 0.0   \n",
              "2536              0.0                  1.0                 0.0   \n",
              "\n",
              "      ethnicity_Native American  ethnicity_Other/Unknown  gender_Female  \\\n",
              "2532                        0.0                      0.0            0.0   \n",
              "2533                        0.0                      0.0            0.0   \n",
              "2534                        0.0                      0.0            0.0   \n",
              "2535                        0.0                      0.0            0.0   \n",
              "2536                        0.0                      0.0            0.0   \n",
              "\n",
              "      gender_Male  \n",
              "2532          1.0  \n",
              "2533          1.0  \n",
              "2534          1.0  \n",
              "2535          1.0  \n",
              "2536          1.0  "
            ],
            "text/html": [
              "\n",
              "  <div id=\"df-82bb0fa4-83e1-4aaa-bc85-6563c3a865ee\">\n",
              "    <div class=\"colab-df-container\">\n",
              "      <div>\n",
              "<style scoped>\n",
              "    .dataframe tbody tr th:only-of-type {\n",
              "        vertical-align: middle;\n",
              "    }\n",
              "\n",
              "    .dataframe tbody tr th {\n",
              "        vertical-align: top;\n",
              "    }\n",
              "\n",
              "    .dataframe thead th {\n",
              "        text-align: right;\n",
              "    }\n",
              "</style>\n",
              "<table border=\"1\" class=\"dataframe\">\n",
              "  <thead>\n",
              "    <tr style=\"text-align: right;\">\n",
              "      <th></th>\n",
              "      <th>age</th>\n",
              "      <th>ethnicity</th>\n",
              "      <th>gender</th>\n",
              "      <th>ethnicity_African American</th>\n",
              "      <th>ethnicity_Asian</th>\n",
              "      <th>ethnicity_Caucasian</th>\n",
              "      <th>ethnicity_Hispanic</th>\n",
              "      <th>ethnicity_Native American</th>\n",
              "      <th>ethnicity_Other/Unknown</th>\n",
              "      <th>gender_Female</th>\n",
              "      <th>gender_Male</th>\n",
              "    </tr>\n",
              "  </thead>\n",
              "  <tbody>\n",
              "    <tr>\n",
              "      <th>2532</th>\n",
              "      <td>41.0</td>\n",
              "      <td>African American</td>\n",
              "      <td>Male</td>\n",
              "      <td>1.0</td>\n",
              "      <td>0.0</td>\n",
              "      <td>0.0</td>\n",
              "      <td>0.0</td>\n",
              "      <td>0.0</td>\n",
              "      <td>0.0</td>\n",
              "      <td>0.0</td>\n",
              "      <td>1.0</td>\n",
              "    </tr>\n",
              "    <tr>\n",
              "      <th>2533</th>\n",
              "      <td>41.0</td>\n",
              "      <td>African American</td>\n",
              "      <td>Male</td>\n",
              "      <td>1.0</td>\n",
              "      <td>0.0</td>\n",
              "      <td>0.0</td>\n",
              "      <td>0.0</td>\n",
              "      <td>0.0</td>\n",
              "      <td>0.0</td>\n",
              "      <td>0.0</td>\n",
              "      <td>1.0</td>\n",
              "    </tr>\n",
              "    <tr>\n",
              "      <th>2534</th>\n",
              "      <td>50.0</td>\n",
              "      <td>Caucasian</td>\n",
              "      <td>Male</td>\n",
              "      <td>0.0</td>\n",
              "      <td>0.0</td>\n",
              "      <td>1.0</td>\n",
              "      <td>0.0</td>\n",
              "      <td>0.0</td>\n",
              "      <td>0.0</td>\n",
              "      <td>0.0</td>\n",
              "      <td>1.0</td>\n",
              "    </tr>\n",
              "    <tr>\n",
              "      <th>2535</th>\n",
              "      <td>50.0</td>\n",
              "      <td>Caucasian</td>\n",
              "      <td>Male</td>\n",
              "      <td>0.0</td>\n",
              "      <td>0.0</td>\n",
              "      <td>1.0</td>\n",
              "      <td>0.0</td>\n",
              "      <td>0.0</td>\n",
              "      <td>0.0</td>\n",
              "      <td>0.0</td>\n",
              "      <td>1.0</td>\n",
              "    </tr>\n",
              "    <tr>\n",
              "      <th>2536</th>\n",
              "      <td>50.0</td>\n",
              "      <td>Caucasian</td>\n",
              "      <td>Male</td>\n",
              "      <td>0.0</td>\n",
              "      <td>0.0</td>\n",
              "      <td>1.0</td>\n",
              "      <td>0.0</td>\n",
              "      <td>0.0</td>\n",
              "      <td>0.0</td>\n",
              "      <td>0.0</td>\n",
              "      <td>1.0</td>\n",
              "    </tr>\n",
              "  </tbody>\n",
              "</table>\n",
              "</div>\n",
              "      <button class=\"colab-df-convert\" onclick=\"convertToInteractive('df-82bb0fa4-83e1-4aaa-bc85-6563c3a865ee')\"\n",
              "              title=\"Convert this dataframe to an interactive table.\"\n",
              "              style=\"display:none;\">\n",
              "        \n",
              "  <svg xmlns=\"http://www.w3.org/2000/svg\" height=\"24px\"viewBox=\"0 0 24 24\"\n",
              "       width=\"24px\">\n",
              "    <path d=\"M0 0h24v24H0V0z\" fill=\"none\"/>\n",
              "    <path d=\"M18.56 5.44l.94 2.06.94-2.06 2.06-.94-2.06-.94-.94-2.06-.94 2.06-2.06.94zm-11 1L8.5 8.5l.94-2.06 2.06-.94-2.06-.94L8.5 2.5l-.94 2.06-2.06.94zm10 10l.94 2.06.94-2.06 2.06-.94-2.06-.94-.94-2.06-.94 2.06-2.06.94z\"/><path d=\"M17.41 7.96l-1.37-1.37c-.4-.4-.92-.59-1.43-.59-.52 0-1.04.2-1.43.59L10.3 9.45l-7.72 7.72c-.78.78-.78 2.05 0 2.83L4 21.41c.39.39.9.59 1.41.59.51 0 1.02-.2 1.41-.59l7.78-7.78 2.81-2.81c.8-.78.8-2.07 0-2.86zM5.41 20L4 18.59l7.72-7.72 1.47 1.35L5.41 20z\"/>\n",
              "  </svg>\n",
              "      </button>\n",
              "      \n",
              "  <style>\n",
              "    .colab-df-container {\n",
              "      display:flex;\n",
              "      flex-wrap:wrap;\n",
              "      gap: 12px;\n",
              "    }\n",
              "\n",
              "    .colab-df-convert {\n",
              "      background-color: #E8F0FE;\n",
              "      border: none;\n",
              "      border-radius: 50%;\n",
              "      cursor: pointer;\n",
              "      display: none;\n",
              "      fill: #1967D2;\n",
              "      height: 32px;\n",
              "      padding: 0 0 0 0;\n",
              "      width: 32px;\n",
              "    }\n",
              "\n",
              "    .colab-df-convert:hover {\n",
              "      background-color: #E2EBFA;\n",
              "      box-shadow: 0px 1px 2px rgba(60, 64, 67, 0.3), 0px 1px 3px 1px rgba(60, 64, 67, 0.15);\n",
              "      fill: #174EA6;\n",
              "    }\n",
              "\n",
              "    [theme=dark] .colab-df-convert {\n",
              "      background-color: #3B4455;\n",
              "      fill: #D2E3FC;\n",
              "    }\n",
              "\n",
              "    [theme=dark] .colab-df-convert:hover {\n",
              "      background-color: #434B5C;\n",
              "      box-shadow: 0px 1px 3px 1px rgba(0, 0, 0, 0.15);\n",
              "      filter: drop-shadow(0px 1px 2px rgba(0, 0, 0, 0.3));\n",
              "      fill: #FFFFFF;\n",
              "    }\n",
              "  </style>\n",
              "\n",
              "      <script>\n",
              "        const buttonEl =\n",
              "          document.querySelector('#df-82bb0fa4-83e1-4aaa-bc85-6563c3a865ee button.colab-df-convert');\n",
              "        buttonEl.style.display =\n",
              "          google.colab.kernel.accessAllowed ? 'block' : 'none';\n",
              "\n",
              "        async function convertToInteractive(key) {\n",
              "          const element = document.querySelector('#df-82bb0fa4-83e1-4aaa-bc85-6563c3a865ee');\n",
              "          const dataTable =\n",
              "            await google.colab.kernel.invokeFunction('convertToInteractive',\n",
              "                                                     [key], {});\n",
              "          if (!dataTable) return;\n",
              "\n",
              "          const docLinkHtml = 'Like what you see? Visit the ' +\n",
              "            '<a target=\"_blank\" href=https://colab.research.google.com/notebooks/data_table.ipynb>data table notebook</a>'\n",
              "            + ' to learn more about interactive tables.';\n",
              "          element.innerHTML = '';\n",
              "          dataTable['output_type'] = 'display_data';\n",
              "          await google.colab.output.renderOutput(dataTable, element);\n",
              "          const docLink = document.createElement('div');\n",
              "          docLink.innerHTML = docLinkHtml;\n",
              "          element.appendChild(docLink);\n",
              "        }\n",
              "      </script>\n",
              "    </div>\n",
              "  </div>\n",
              "  "
            ]
          },
          "metadata": {},
          "execution_count": 21
        }
      ],
      "source": [
        "# one hot encode the ethnicity\n",
        "encoder = OneHotEncoder(handle_unknown='ignore', categories = 'auto')\n",
        "encoder_df = pd.DataFrame(encoder.fit_transform(df_ages[['ethnicity', 'gender']]).toarray(), columns = encoder.get_feature_names(['ethnicity', 'gender']))\n",
        "\n",
        "#merge one-hot encoded columns back with original DataFrame\n",
        "final_df = df_ages.join(encoder_df)\n",
        "#final_df.columns = encoder.get_feature_names(['ethnicity', 'gender'])\n",
        "final_df.tail()"
      ]
    },
    {
      "cell_type": "code",
      "source": [
        "#pd.DataFrame(encoder.fit_transform(oh_df[['ethnicity', 'gender']]).toarray(), columns = encoder.get_feature_names(['ethnicity', 'gender'])).head()"
      ],
      "metadata": {
        "id": "8B7cdgnCM0Ni"
      },
      "execution_count": 22,
      "outputs": []
    },
    {
      "cell_type": "code",
      "source": [
        "all_labels[:1].shape[1]"
      ],
      "metadata": {
        "colab": {
          "base_uri": "https://localhost:8080/"
        },
        "id": "-urQl_6lQcV_",
        "outputId": "f0afa7e1-804e-42e3-e7ed-163eded1c6aa"
      },
      "execution_count": 23,
      "outputs": [
        {
          "output_type": "execute_result",
          "data": {
            "text/plain": [
              "8"
            ]
          },
          "metadata": {},
          "execution_count": 23
        }
      ]
    },
    {
      "cell_type": "code",
      "source": [
        "#encoder.get_feature_names(['gender', 'ethnicity'])"
      ],
      "metadata": {
        "id": "AXYZTUqNMXMP"
      },
      "execution_count": 24,
      "outputs": []
    },
    {
      "cell_type": "code",
      "source": [
        "pd.DataFrame(all_labels).sum()"
      ],
      "metadata": {
        "colab": {
          "base_uri": "https://localhost:8080/"
        },
        "id": "cwZZ0kNsLLcK",
        "outputId": "b44e1eb1-1638-45dc-858d-3f00a0af365f"
      },
      "execution_count": 25,
      "outputs": [
        {
          "output_type": "execute_result",
          "data": {
            "text/plain": [
              "0     272.0\n",
              "1      23.0\n",
              "2    1881.0\n",
              "3     149.0\n",
              "4      24.0\n",
              "5      93.0\n",
              "6     993.0\n",
              "7    1449.0\n",
              "dtype: float32"
            ]
          },
          "metadata": {},
          "execution_count": 25
        }
      ]
    },
    {
      "cell_type": "code",
      "source": [
        "all_ages"
      ],
      "metadata": {
        "colab": {
          "base_uri": "https://localhost:8080/"
        },
        "id": "UiqOpuStLSA1",
        "outputId": "83bb63e1-62e0-4ce1-d9d3-dbf0714fbb61"
      },
      "execution_count": 26,
      "outputs": [
        {
          "output_type": "execute_result",
          "data": {
            "text/plain": [
              "array([[0.60273973],\n",
              "       [0.64383562],\n",
              "       [0.56164384],\n",
              "       ...,\n",
              "       [0.46575342],\n",
              "       [0.46575342],\n",
              "       [0.46575342]])"
            ]
          },
          "metadata": {},
          "execution_count": 26
        }
      ]
    },
    {
      "cell_type": "markdown",
      "metadata": {
        "id": "E7jflWgEuC70"
      },
      "source": [
        "## Plan\n",
        "1. Create the kde for each unit type (class)\n",
        "2. Sample from the kde on each training round per class\n",
        "    1. sample the same number of points as we have per class (e.g. 65 samples from the CSICU class)\n",
        "3. instead of training valid and fake spearately - intermingle and train together"
      ]
    },
    {
      "cell_type": "code",
      "execution_count": 27,
      "metadata": {
        "colab": {
          "base_uri": "https://localhost:8080/"
        },
        "id": "OYoRh28vuC71",
        "outputId": "c76690db-7721-43b0-e664-0e149d597fa6"
      },
      "outputs": [
        {
          "output_type": "stream",
          "name": "stdout",
          "text": [
            "Generator input dim:  58\n",
            "Dicrimination input dim:  9\n",
            "Model: \"discriminator\"\n",
            "_________________________________________________________________\n",
            " Layer (type)                Output Shape              Param #   \n",
            "=================================================================\n",
            " input_1 (InputLayer)        [(None, 9)]               0         \n",
            "                                                                 \n",
            " dense (Dense)               (None, 64)                640       \n",
            "                                                                 \n",
            " leaky_re_lu (LeakyReLU)     (None, 64)                0         \n",
            "                                                                 \n",
            " dropout (Dropout)           (None, 64)                0         \n",
            "                                                                 \n",
            " dense_1 (Dense)             (None, 64)                4160      \n",
            "                                                                 \n",
            " leaky_re_lu_1 (LeakyReLU)   (None, 64)                0         \n",
            "                                                                 \n",
            " dropout_1 (Dropout)         (None, 64)                0         \n",
            "                                                                 \n",
            " dense_2 (Dense)             (None, 1)                 65        \n",
            "                                                                 \n",
            "=================================================================\n",
            "Total params: 4,865\n",
            "Trainable params: 4,865\n",
            "Non-trainable params: 0\n",
            "_________________________________________________________________\n",
            "Model: \"generator\"\n",
            "_________________________________________________________________\n",
            " Layer (type)                Output Shape              Param #   \n",
            "=================================================================\n",
            " input_2 (InputLayer)        [(None, 58)]              0         \n",
            "                                                                 \n",
            " dense_3 (Dense)             (None, 64)                3776      \n",
            "                                                                 \n",
            " leaky_re_lu_2 (LeakyReLU)   (None, 64)                0         \n",
            "                                                                 \n",
            " batch_normalization (BatchN  (None, 64)               256       \n",
            " ormalization)                                                   \n",
            "                                                                 \n",
            " dense_4 (Dense)             (None, 64)                4160      \n",
            "                                                                 \n",
            " leaky_re_lu_3 (LeakyReLU)   (None, 64)                0         \n",
            "                                                                 \n",
            " dense_5 (Dense)             (None, 1)                 65        \n",
            "                                                                 \n",
            "=================================================================\n",
            "Total params: 8,257\n",
            "Trainable params: 8,129\n",
            "Non-trainable params: 128\n",
            "_________________________________________________________________\n"
          ]
        }
      ],
      "source": [
        "cgan = ConditionalGAN(noise_dim=50,\n",
        "                 data_shape=1,\n",
        "                 num_classes=all_labels[:1].shape[1], \n",
        "                 d_learning_rate=1e-6, \n",
        "                 g_learning_rate=1e-6, \n",
        "                 batch_size=32, \n",
        "                 start_epoch=0,\n",
        "                 verbose = True)"
      ]
    },
    {
      "cell_type": "code",
      "execution_count": 28,
      "metadata": {
        "id": "g4SId-gauC72"
      },
      "outputs": [],
      "source": [
        "cgan.compile(loss_fn=keras.losses.BinaryCrossentropy(from_logits=True))"
      ]
    },
    {
      "cell_type": "code",
      "source": [
        "dataset"
      ],
      "metadata": {
        "colab": {
          "base_uri": "https://localhost:8080/"
        },
        "id": "_9IN5sDpK4vv",
        "outputId": "7e5379f8-0030-4ab0-e587-21a5a8799e0b"
      },
      "execution_count": 29,
      "outputs": [
        {
          "output_type": "execute_result",
          "data": {
            "text/plain": [
              "<BatchDataset element_spec=(TensorSpec(shape=(None, 1), dtype=tf.float64, name=None), TensorSpec(shape=(None, 8), dtype=tf.float32, name=None))>"
            ]
          },
          "metadata": {},
          "execution_count": 29
        }
      ]
    },
    {
      "cell_type": "code",
      "source": [
        "#x, y = dataset"
      ],
      "metadata": {
        "id": "yrI2KxKXt1tp"
      },
      "execution_count": 30,
      "outputs": []
    },
    {
      "cell_type": "code",
      "execution_count": 31,
      "metadata": {
        "colab": {
          "base_uri": "https://localhost:8080/"
        },
        "id": "lO40wQe_uC72",
        "outputId": "3a61fc68-1988-4c37-f374-f068c05c72d7"
      },
      "outputs": [
        {
          "output_type": "stream",
          "name": "stdout",
          "text": [
            "Epoch 1/10\n",
            "age_one_hot_labels1: Tensor(\"strided_slice_1:0\", shape=(None, 1, 8), dtype=float32)\n",
            "age_one_hot_labels2: Tensor(\"strided_slice_2:0\", shape=(None,), dtype=float32)\n",
            "age_one_hot_labels3: Tensor(\"strided_slice_3:0\", shape=(None, 8), dtype=float32)\n"
          ]
        },
        {
          "output_type": "stream",
          "name": "stderr",
          "text": [
            "/usr/local/lib/python3.7/dist-packages/tensorflow/python/util/dispatch.py:1082: UserWarning: \"`binary_crossentropy` received `from_logits=True`, but the `output` argument was produced by a sigmoid or softmax activation and thus does not represent logits. Was this intended?\"\n",
            "  return dispatch_target(*args, **kwargs)\n"
          ]
        },
        {
          "output_type": "stream",
          "name": "stdout",
          "text": [
            "age_one_hot_labels1: Tensor(\"strided_slice_1:0\", shape=(None, 1, 8), dtype=float32)\n",
            "age_one_hot_labels2: Tensor(\"strided_slice_2:0\", shape=(None,), dtype=float32)\n",
            "age_one_hot_labels3: Tensor(\"strided_slice_3:0\", shape=(None, 8), dtype=float32)\n",
            "39/39 [==============================] - 3s 8ms/step - g_loss: 0.6164 - d_loss: 0.6969\n",
            "Epoch 2/10\n",
            "39/39 [==============================] - 0s 10ms/step - g_loss: 0.6169 - d_loss: 0.6968\n",
            "Epoch 3/10\n",
            "39/39 [==============================] - 0s 12ms/step - g_loss: 0.6174 - d_loss: 0.6967\n",
            "Epoch 4/10\n",
            "39/39 [==============================] - 0s 8ms/step - g_loss: 0.6181 - d_loss: 0.6967\n",
            "Epoch 5/10\n",
            "39/39 [==============================] - 0s 9ms/step - g_loss: 0.6187 - d_loss: 0.6966\n",
            "Epoch 6/10\n",
            "39/39 [==============================] - 0s 7ms/step - g_loss: 0.6192 - d_loss: 0.6963\n",
            "Epoch 7/10\n",
            "39/39 [==============================] - 0s 7ms/step - g_loss: 0.6197 - d_loss: 0.6962\n",
            "Epoch 8/10\n",
            "39/39 [==============================] - 0s 8ms/step - g_loss: 0.6202 - d_loss: 0.6963\n",
            "Epoch 9/10\n",
            "39/39 [==============================] - 0s 12ms/step - g_loss: 0.6207 - d_loss: 0.6961\n",
            "Epoch 10/10\n",
            "39/39 [==============================] - 0s 11ms/step - g_loss: 0.6213 - d_loss: 0.6960\n"
          ]
        },
        {
          "output_type": "execute_result",
          "data": {
            "text/plain": [
              "<keras.callbacks.History at 0x7feed50ee890>"
            ]
          },
          "metadata": {},
          "execution_count": 31
        }
      ],
      "source": [
        "cgan.fit(dataset, epochs=10, verbose=True)"
      ]
    },
    {
      "cell_type": "code",
      "execution_count": 32,
      "metadata": {
        "colab": {
          "base_uri": "https://localhost:8080/"
        },
        "id": "x4TWdUNGuC70",
        "outputId": "11b2546e-dfd5-4795-da49-532553e1620b"
      },
      "outputs": [
        {
          "output_type": "execute_result",
          "data": {
            "text/plain": [
              "('African American', 'Female')"
            ]
          },
          "metadata": {},
          "execution_count": 32
        }
      ],
      "source": [
        "df_ages.groupby(['ethnicity', 'gender']).count().iloc[0].name"
      ]
    },
    {
      "cell_type": "code",
      "source": [
        "final_df.columns"
      ],
      "metadata": {
        "colab": {
          "base_uri": "https://localhost:8080/"
        },
        "id": "GezJ8GY49D7p",
        "outputId": "9a272d20-b345-4d50-fe63-395f2def6b31"
      },
      "execution_count": 33,
      "outputs": [
        {
          "output_type": "execute_result",
          "data": {
            "text/plain": [
              "Index(['age', 'ethnicity', 'gender', 'ethnicity_African American',\n",
              "       'ethnicity_Asian', 'ethnicity_Caucasian', 'ethnicity_Hispanic',\n",
              "       'ethnicity_Native American', 'ethnicity_Other/Unknown', 'gender_Female',\n",
              "       'gender_Male'],\n",
              "      dtype='object')"
            ]
          },
          "metadata": {},
          "execution_count": 33
        }
      ]
    },
    {
      "cell_type": "code",
      "execution_count": 35,
      "metadata": {
        "id": "QWYYAtVAuC72"
      },
      "outputs": [],
      "source": [
        "def generate_table(df, features = ['ethnicity', 'gender']):\n",
        "  i = 0\n",
        "  for j in range(df[features[0]].unique().shape[0]):\n",
        "    a = np.zeros(df[features[0]].unique().shape[0])\n",
        "    a[j] = 1\n",
        "    for k in range(df[features[1]].unique().shape[0]):\n",
        "      b = np.zeros(df[features[1]].unique().shape[0])\n",
        "      b[k] = 1\n",
        "      \"\"\"Generate n ages for a class\"\"\"\n",
        "      print(\"Generating: \", df.groupby(features).count().iloc[i], \" ages for unit type: \", \n",
        "            df.groupby(features).count().iloc[i].name)\n",
        "\n",
        "      age_one_hot_labels = tf.repeat([np.concatenate((a, b))],df.groupby(features).count().iloc[i], axis=0)\n",
        "\n",
        "      input_noise = tf.random.normal((df.groupby(features).count().iloc[i][0], cgan.noise_dim), 0, 1)\n",
        "      random_vector_labels = tf.concat([input_noise, tf.cast(age_one_hot_labels, dtype=tf.float32)], axis=1)\n",
        "\n",
        "      ages = cgan.generator(random_vector_labels)\n",
        "\n",
        "      inv_gen_ages = [(val * (max_age_filtered-min_age_filtered)) + min_age_filtered for val in ages.numpy().flatten()]\n",
        "\n",
        "      print(\"Generated Ages:\")\n",
        "      print(\"min: \", np.min(inv_gen_ages))\n",
        "      print(\"mean: \", np.mean(inv_gen_ages))\n",
        "      print(\"max: \", np.max(inv_gen_ages))\n",
        "      print(\"stdv: \", np.std(inv_gen_ages))\n",
        "\n",
        "      eth = df.groupby(features).count().iloc[i].name[0]\n",
        "      gen = df.groupby(features).count().iloc[i].name[1]\n",
        "\n",
        "      df_ages_class = final_df.query(\"ethnicity == '\" + eth + \"'& gender == '\" + gen+\"'\")\n",
        "\n",
        "      print(\"True Ages:\")\n",
        "      print(\"min: \", np.min(df_ages_class.age))\n",
        "      print(\"mean: \", np.mean(df_ages_class.age))\n",
        "      print(\"max: \", np.max(df_ages_class.age))\n",
        "      print(\"stdv: \", np.std(df_ages_class.age))\n",
        "\n",
        "      df_temp = pd.DataFrame(columns = ['age'] + features)\n",
        "\n",
        "      df_temp['age'] = inv_gen_ages\n",
        "      df_temp['ethnicity'] = eth\n",
        "      df_temp['gender'] = gen\n",
        "      #print(df_temp)\n",
        "\n",
        "      if i == 0:\n",
        "        df_age_eth = pd.DataFrame(columns = ['age'] + features)\n",
        "\n",
        "      df_age_eth = df_age_eth.append(df_temp)\n",
        "      i+=1\n",
        "      print(' ')\n",
        "\n",
        "  return df_age_eth\n",
        "  '''\n",
        "      sns.histplot(inv_gen_ages, bins=70, label='GAN', kde=True,)\n",
        "      sns.histplot(df_ages_class.age, bins=70, color='orange', label='Truth', alpha=0.3, kde=True,)\n",
        "      plt.title(eth + ' Ages')\n",
        "      plt.legend()\n",
        "      plt.show\n",
        "  '''"
      ]
    },
    {
      "cell_type": "code",
      "source": [
        "df_age_eth = generate_table(df_ages)"
      ],
      "metadata": {
        "colab": {
          "base_uri": "https://localhost:8080/"
        },
        "id": "1nodS-nXOgg8",
        "outputId": "627637b7-f12d-4cf9-b366-01a43910920a"
      },
      "execution_count": 36,
      "outputs": [
        {
          "output_type": "stream",
          "name": "stdout",
          "text": [
            "Generating:  age    104\n",
            "Name: (African American, Female), dtype: int64  ages for unit type:  ('African American', 'Female')\n",
            "Generated Ages:\n",
            "min:  38.04674956202507\n",
            "mean:  56.85342168034269\n",
            "max:  73.34357476234436\n",
            "stdv:  7.152627510625654\n",
            "True Ages:\n",
            "min:  19.0\n",
            "mean:  60.88461538461539\n",
            "max:  90.0\n",
            "stdv:  15.83284541965974\n",
            " \n",
            "Generating:  age    171\n",
            "Name: (African American, Male), dtype: int64  ages for unit type:  ('African American', 'Male')\n",
            "Generated Ages:\n",
            "min:  36.042571395635605\n",
            "mean:  55.2702133876887\n",
            "max:  72.6297355890274\n",
            "stdv:  7.12413898370285\n",
            "True Ages:\n",
            "min:  33.0\n",
            "mean:  64.70175438596492\n",
            "max:  87.0\n",
            "stdv:  11.075970902140083\n",
            " \n",
            "Generating:  age    15\n",
            "Name: (Asian, Female), dtype: int64  ages for unit type:  ('Asian', 'Female')\n",
            "Generated Ages:\n",
            "min:  50.49576309323311\n",
            "mean:  59.51114151080449\n",
            "max:  67.26851439476013\n",
            "stdv:  5.575980089973162\n",
            "True Ages:\n",
            "min:  51.0\n",
            "mean:  67.6\n",
            "max:  90.0\n",
            "stdv:  15.877867195145154\n",
            " \n",
            "Generating:  age    12\n",
            "Name: (Asian, Male), dtype: int64  ages for unit type:  ('Asian', 'Male')\n",
            "Generated Ages:\n",
            "min:  46.345448672771454\n",
            "mean:  54.711327920357384\n",
            "max:  67.47412312030792\n",
            "stdv:  5.416736922860025\n",
            "True Ages:\n",
            "min:  44.0\n",
            "mean:  75.16666666666667\n",
            "max:  90.0\n",
            "stdv:  13.018149723452341\n",
            " \n",
            "Generating:  age    877\n",
            "Name: (Caucasian, Female), dtype: int64  ages for unit type:  ('Caucasian', 'Female')\n",
            "Generated Ages:\n",
            "min:  37.131520092487335\n",
            "mean:  56.883457627848315\n",
            "max:  75.52058017253876\n",
            "stdv:  7.077291220599466\n",
            "True Ages:\n",
            "min:  16.0\n",
            "mean:  69.28506271379703\n",
            "max:  90.0\n",
            "stdv:  13.658931207636606\n",
            " \n",
            "Generating:  age    1086\n",
            "Name: (Caucasian, Male), dtype: int64  ages for unit type:  ('Caucasian', 'Male')\n",
            "Generated Ages:\n",
            "min:  30.76717859506607\n",
            "mean:  54.488213652844365\n",
            "max:  74.42109954357147\n",
            "stdv:  7.219227217801459\n",
            "True Ages:\n",
            "min:  19.0\n",
            "mean:  68.6804788213628\n",
            "max:  90.0\n",
            "stdv:  13.626500496929864\n",
            " \n",
            "Generating:  age    32\n",
            "Name: (Hispanic, Female), dtype: int64  ages for unit type:  ('Hispanic', 'Female')\n",
            "Generated Ages:\n",
            "min:  44.671082496643066\n",
            "mean:  57.711961759254336\n",
            "max:  71.04036456346512\n",
            "stdv:  6.2147515076398525\n",
            "True Ages:\n",
            "min:  21.0\n",
            "mean:  63.40625\n",
            "max:  90.0\n",
            "stdv:  19.14885664830932\n",
            " \n",
            "Generating:  age    119\n",
            "Name: (Hispanic, Male), dtype: int64  ages for unit type:  ('Hispanic', 'Male')\n",
            "Generated Ages:\n",
            "min:  35.85677993297577\n",
            "mean:  55.3773690144054\n",
            "max:  73.87805128097534\n",
            "stdv:  7.964316519788118\n",
            "True Ages:\n",
            "min:  36.0\n",
            "mean:  71.36974789915966\n",
            "max:  90.0\n",
            "stdv:  13.181260919663316\n",
            " \n",
            "Generating:  age    3\n",
            "Name: (Native American, Female), dtype: int64  ages for unit type:  ('Native American', 'Female')\n",
            "Generated Ages:\n",
            "min:  57.76177591085434\n",
            "mean:  59.78795198599497\n",
            "max:  61.313654243946075\n",
            "stdv:  1.4926074399164324\n",
            "True Ages:\n",
            "min:  52.0\n",
            "mean:  52.0\n",
            "max:  52.0\n",
            "stdv:  0.0\n",
            " \n",
            "Generating:  age    21\n",
            "Name: (Native American, Male), dtype: int64  ages for unit type:  ('Native American', 'Male')\n",
            "Generated Ages:\n",
            "min:  51.12831646203995\n",
            "mean:  59.1630324834869\n",
            "max:  74.79076361656189\n",
            "stdv:  5.797078144432308\n",
            "True Ages:\n",
            "min:  37.0\n",
            "mean:  53.04761904761905\n",
            "max:  88.0\n",
            "stdv:  17.95623300848135\n",
            " \n",
            "Generating:  age    17\n",
            "Name: (Other/Unknown, Female), dtype: int64  ages for unit type:  ('Other/Unknown', 'Female')\n",
            "Generated Ages:\n",
            "min:  40.9881609082222\n",
            "mean:  57.5773158967495\n",
            "max:  69.93191623687744\n",
            "stdv:  8.94492546037799\n",
            "True Ages:\n",
            "min:  55.0\n",
            "mean:  70.52941176470588\n",
            "max:  86.0\n",
            "stdv:  9.702138315303147\n",
            " \n",
            "Generating:  age    80\n",
            "Name: (Other/Unknown, Male), dtype: int64  ages for unit type:  ('Other/Unknown', 'Male')\n",
            "Generated Ages:\n",
            "min:  39.15605288743973\n",
            "mean:  55.78081776127219\n",
            "max:  71.18325597047806\n",
            "stdv:  7.060825106794083\n",
            "True Ages:\n",
            "min:  39.0\n",
            "mean:  63.5\n",
            "max:  90.0\n",
            "stdv:  14.307340773183533\n",
            " \n"
          ]
        }
      ]
    },
    {
      "cell_type": "code",
      "execution_count": 37,
      "metadata": {
        "colab": {
          "base_uri": "https://localhost:8080/",
          "height": 488
        },
        "id": "S1WvBkzMuC73",
        "outputId": "ff56ff2d-b0a8-472e-be09-e58910a4bc4e"
      },
      "outputs": [
        {
          "output_type": "execute_result",
          "data": {
            "text/plain": [
              "                            age                                             \\\n",
              "                          count       mean       std        min        25%   \n",
              "ethnicity        gender                                                      \n",
              "African American Female   104.0  56.853422  7.187265  38.046750  51.495357   \n",
              "                 Male     171.0  55.270213  7.145062  36.042571  50.438701   \n",
              "Asian            Female    15.0  59.511142  5.771688  50.495763  55.122745   \n",
              "                 Male      12.0  54.711328  5.657597  46.345449  51.285672   \n",
              "Caucasian        Female   877.0  56.883458  7.081330  37.131520  51.980330   \n",
              "                 Male    1086.0  54.488214  7.222553  30.767179  49.585782   \n",
              "Hispanic         Female    32.0  57.711962  6.314194  44.671082  52.232894   \n",
              "                 Male     119.0  55.377369  7.997992  35.856780  49.513452   \n",
              "Native American  Female     3.0  59.787952  1.828063  57.761776  59.025101   \n",
              "                 Male      21.0  59.163032  5.940237  51.128316  53.985823   \n",
              "Other/Unknown    Female    17.0  57.577316  9.220218  40.988161  50.832687   \n",
              "                 Male      80.0  55.780818  7.105373  39.156053  51.502764   \n",
              "\n",
              "                                                          \n",
              "                               50%        75%        max  \n",
              "ethnicity        gender                                   \n",
              "African American Female  57.403120  62.071719  73.343575  \n",
              "                 Male    55.820659  59.762221  72.629736  \n",
              "Asian            Female  59.890388  63.868606  67.268514  \n",
              "                 Male    54.224054  56.266200  67.474123  \n",
              "Caucasian        Female  56.776191  61.844062  75.520580  \n",
              "                 Male    54.491928  59.437667  74.421100  \n",
              "Hispanic         Female  57.722387  62.049286  71.040365  \n",
              "                 Male    56.328724  60.889973  73.878051  \n",
              "Native American  Female  60.288426  60.801040  61.313654  \n",
              "                 Male    58.665159  63.414236  74.790764  \n",
              "Other/Unknown    Female  56.730691  66.625007  69.931916  \n",
              "                 Male    55.577158  60.122336  71.183256  "
            ],
            "text/html": [
              "\n",
              "  <div id=\"df-42889ea1-d50c-4e02-9b9c-a24abba6de70\">\n",
              "    <div class=\"colab-df-container\">\n",
              "      <div>\n",
              "<style scoped>\n",
              "    .dataframe tbody tr th:only-of-type {\n",
              "        vertical-align: middle;\n",
              "    }\n",
              "\n",
              "    .dataframe tbody tr th {\n",
              "        vertical-align: top;\n",
              "    }\n",
              "\n",
              "    .dataframe thead tr th {\n",
              "        text-align: left;\n",
              "    }\n",
              "\n",
              "    .dataframe thead tr:last-of-type th {\n",
              "        text-align: right;\n",
              "    }\n",
              "</style>\n",
              "<table border=\"1\" class=\"dataframe\">\n",
              "  <thead>\n",
              "    <tr>\n",
              "      <th></th>\n",
              "      <th></th>\n",
              "      <th colspan=\"8\" halign=\"left\">age</th>\n",
              "    </tr>\n",
              "    <tr>\n",
              "      <th></th>\n",
              "      <th></th>\n",
              "      <th>count</th>\n",
              "      <th>mean</th>\n",
              "      <th>std</th>\n",
              "      <th>min</th>\n",
              "      <th>25%</th>\n",
              "      <th>50%</th>\n",
              "      <th>75%</th>\n",
              "      <th>max</th>\n",
              "    </tr>\n",
              "    <tr>\n",
              "      <th>ethnicity</th>\n",
              "      <th>gender</th>\n",
              "      <th></th>\n",
              "      <th></th>\n",
              "      <th></th>\n",
              "      <th></th>\n",
              "      <th></th>\n",
              "      <th></th>\n",
              "      <th></th>\n",
              "      <th></th>\n",
              "    </tr>\n",
              "  </thead>\n",
              "  <tbody>\n",
              "    <tr>\n",
              "      <th rowspan=\"2\" valign=\"top\">African American</th>\n",
              "      <th>Female</th>\n",
              "      <td>104.0</td>\n",
              "      <td>56.853422</td>\n",
              "      <td>7.187265</td>\n",
              "      <td>38.046750</td>\n",
              "      <td>51.495357</td>\n",
              "      <td>57.403120</td>\n",
              "      <td>62.071719</td>\n",
              "      <td>73.343575</td>\n",
              "    </tr>\n",
              "    <tr>\n",
              "      <th>Male</th>\n",
              "      <td>171.0</td>\n",
              "      <td>55.270213</td>\n",
              "      <td>7.145062</td>\n",
              "      <td>36.042571</td>\n",
              "      <td>50.438701</td>\n",
              "      <td>55.820659</td>\n",
              "      <td>59.762221</td>\n",
              "      <td>72.629736</td>\n",
              "    </tr>\n",
              "    <tr>\n",
              "      <th rowspan=\"2\" valign=\"top\">Asian</th>\n",
              "      <th>Female</th>\n",
              "      <td>15.0</td>\n",
              "      <td>59.511142</td>\n",
              "      <td>5.771688</td>\n",
              "      <td>50.495763</td>\n",
              "      <td>55.122745</td>\n",
              "      <td>59.890388</td>\n",
              "      <td>63.868606</td>\n",
              "      <td>67.268514</td>\n",
              "    </tr>\n",
              "    <tr>\n",
              "      <th>Male</th>\n",
              "      <td>12.0</td>\n",
              "      <td>54.711328</td>\n",
              "      <td>5.657597</td>\n",
              "      <td>46.345449</td>\n",
              "      <td>51.285672</td>\n",
              "      <td>54.224054</td>\n",
              "      <td>56.266200</td>\n",
              "      <td>67.474123</td>\n",
              "    </tr>\n",
              "    <tr>\n",
              "      <th rowspan=\"2\" valign=\"top\">Caucasian</th>\n",
              "      <th>Female</th>\n",
              "      <td>877.0</td>\n",
              "      <td>56.883458</td>\n",
              "      <td>7.081330</td>\n",
              "      <td>37.131520</td>\n",
              "      <td>51.980330</td>\n",
              "      <td>56.776191</td>\n",
              "      <td>61.844062</td>\n",
              "      <td>75.520580</td>\n",
              "    </tr>\n",
              "    <tr>\n",
              "      <th>Male</th>\n",
              "      <td>1086.0</td>\n",
              "      <td>54.488214</td>\n",
              "      <td>7.222553</td>\n",
              "      <td>30.767179</td>\n",
              "      <td>49.585782</td>\n",
              "      <td>54.491928</td>\n",
              "      <td>59.437667</td>\n",
              "      <td>74.421100</td>\n",
              "    </tr>\n",
              "    <tr>\n",
              "      <th rowspan=\"2\" valign=\"top\">Hispanic</th>\n",
              "      <th>Female</th>\n",
              "      <td>32.0</td>\n",
              "      <td>57.711962</td>\n",
              "      <td>6.314194</td>\n",
              "      <td>44.671082</td>\n",
              "      <td>52.232894</td>\n",
              "      <td>57.722387</td>\n",
              "      <td>62.049286</td>\n",
              "      <td>71.040365</td>\n",
              "    </tr>\n",
              "    <tr>\n",
              "      <th>Male</th>\n",
              "      <td>119.0</td>\n",
              "      <td>55.377369</td>\n",
              "      <td>7.997992</td>\n",
              "      <td>35.856780</td>\n",
              "      <td>49.513452</td>\n",
              "      <td>56.328724</td>\n",
              "      <td>60.889973</td>\n",
              "      <td>73.878051</td>\n",
              "    </tr>\n",
              "    <tr>\n",
              "      <th rowspan=\"2\" valign=\"top\">Native American</th>\n",
              "      <th>Female</th>\n",
              "      <td>3.0</td>\n",
              "      <td>59.787952</td>\n",
              "      <td>1.828063</td>\n",
              "      <td>57.761776</td>\n",
              "      <td>59.025101</td>\n",
              "      <td>60.288426</td>\n",
              "      <td>60.801040</td>\n",
              "      <td>61.313654</td>\n",
              "    </tr>\n",
              "    <tr>\n",
              "      <th>Male</th>\n",
              "      <td>21.0</td>\n",
              "      <td>59.163032</td>\n",
              "      <td>5.940237</td>\n",
              "      <td>51.128316</td>\n",
              "      <td>53.985823</td>\n",
              "      <td>58.665159</td>\n",
              "      <td>63.414236</td>\n",
              "      <td>74.790764</td>\n",
              "    </tr>\n",
              "    <tr>\n",
              "      <th rowspan=\"2\" valign=\"top\">Other/Unknown</th>\n",
              "      <th>Female</th>\n",
              "      <td>17.0</td>\n",
              "      <td>57.577316</td>\n",
              "      <td>9.220218</td>\n",
              "      <td>40.988161</td>\n",
              "      <td>50.832687</td>\n",
              "      <td>56.730691</td>\n",
              "      <td>66.625007</td>\n",
              "      <td>69.931916</td>\n",
              "    </tr>\n",
              "    <tr>\n",
              "      <th>Male</th>\n",
              "      <td>80.0</td>\n",
              "      <td>55.780818</td>\n",
              "      <td>7.105373</td>\n",
              "      <td>39.156053</td>\n",
              "      <td>51.502764</td>\n",
              "      <td>55.577158</td>\n",
              "      <td>60.122336</td>\n",
              "      <td>71.183256</td>\n",
              "    </tr>\n",
              "  </tbody>\n",
              "</table>\n",
              "</div>\n",
              "      <button class=\"colab-df-convert\" onclick=\"convertToInteractive('df-42889ea1-d50c-4e02-9b9c-a24abba6de70')\"\n",
              "              title=\"Convert this dataframe to an interactive table.\"\n",
              "              style=\"display:none;\">\n",
              "        \n",
              "  <svg xmlns=\"http://www.w3.org/2000/svg\" height=\"24px\"viewBox=\"0 0 24 24\"\n",
              "       width=\"24px\">\n",
              "    <path d=\"M0 0h24v24H0V0z\" fill=\"none\"/>\n",
              "    <path d=\"M18.56 5.44l.94 2.06.94-2.06 2.06-.94-2.06-.94-.94-2.06-.94 2.06-2.06.94zm-11 1L8.5 8.5l.94-2.06 2.06-.94-2.06-.94L8.5 2.5l-.94 2.06-2.06.94zm10 10l.94 2.06.94-2.06 2.06-.94-2.06-.94-.94-2.06-.94 2.06-2.06.94z\"/><path d=\"M17.41 7.96l-1.37-1.37c-.4-.4-.92-.59-1.43-.59-.52 0-1.04.2-1.43.59L10.3 9.45l-7.72 7.72c-.78.78-.78 2.05 0 2.83L4 21.41c.39.39.9.59 1.41.59.51 0 1.02-.2 1.41-.59l7.78-7.78 2.81-2.81c.8-.78.8-2.07 0-2.86zM5.41 20L4 18.59l7.72-7.72 1.47 1.35L5.41 20z\"/>\n",
              "  </svg>\n",
              "      </button>\n",
              "      \n",
              "  <style>\n",
              "    .colab-df-container {\n",
              "      display:flex;\n",
              "      flex-wrap:wrap;\n",
              "      gap: 12px;\n",
              "    }\n",
              "\n",
              "    .colab-df-convert {\n",
              "      background-color: #E8F0FE;\n",
              "      border: none;\n",
              "      border-radius: 50%;\n",
              "      cursor: pointer;\n",
              "      display: none;\n",
              "      fill: #1967D2;\n",
              "      height: 32px;\n",
              "      padding: 0 0 0 0;\n",
              "      width: 32px;\n",
              "    }\n",
              "\n",
              "    .colab-df-convert:hover {\n",
              "      background-color: #E2EBFA;\n",
              "      box-shadow: 0px 1px 2px rgba(60, 64, 67, 0.3), 0px 1px 3px 1px rgba(60, 64, 67, 0.15);\n",
              "      fill: #174EA6;\n",
              "    }\n",
              "\n",
              "    [theme=dark] .colab-df-convert {\n",
              "      background-color: #3B4455;\n",
              "      fill: #D2E3FC;\n",
              "    }\n",
              "\n",
              "    [theme=dark] .colab-df-convert:hover {\n",
              "      background-color: #434B5C;\n",
              "      box-shadow: 0px 1px 3px 1px rgba(0, 0, 0, 0.15);\n",
              "      filter: drop-shadow(0px 1px 2px rgba(0, 0, 0, 0.3));\n",
              "      fill: #FFFFFF;\n",
              "    }\n",
              "  </style>\n",
              "\n",
              "      <script>\n",
              "        const buttonEl =\n",
              "          document.querySelector('#df-42889ea1-d50c-4e02-9b9c-a24abba6de70 button.colab-df-convert');\n",
              "        buttonEl.style.display =\n",
              "          google.colab.kernel.accessAllowed ? 'block' : 'none';\n",
              "\n",
              "        async function convertToInteractive(key) {\n",
              "          const element = document.querySelector('#df-42889ea1-d50c-4e02-9b9c-a24abba6de70');\n",
              "          const dataTable =\n",
              "            await google.colab.kernel.invokeFunction('convertToInteractive',\n",
              "                                                     [key], {});\n",
              "          if (!dataTable) return;\n",
              "\n",
              "          const docLinkHtml = 'Like what you see? Visit the ' +\n",
              "            '<a target=\"_blank\" href=https://colab.research.google.com/notebooks/data_table.ipynb>data table notebook</a>'\n",
              "            + ' to learn more about interactive tables.';\n",
              "          element.innerHTML = '';\n",
              "          dataTable['output_type'] = 'display_data';\n",
              "          await google.colab.output.renderOutput(dataTable, element);\n",
              "          const docLink = document.createElement('div');\n",
              "          docLink.innerHTML = docLinkHtml;\n",
              "          element.appendChild(docLink);\n",
              "        }\n",
              "      </script>\n",
              "    </div>\n",
              "  </div>\n",
              "  "
            ]
          },
          "metadata": {},
          "execution_count": 37
        }
      ],
      "source": [
        "df_age_eth.groupby(['ethnicity', 'gender']).describe()"
      ]
    },
    {
      "cell_type": "markdown",
      "source": [
        "**Evaluation**"
      ],
      "metadata": {
        "id": "CQZFsKT8Azeb"
      }
    },
    {
      "cell_type": "code",
      "execution_count": 38,
      "metadata": {
        "id": "o_RCa2NLuC73"
      },
      "outputs": [],
      "source": [
        "df_age_eth['data'] = 'GAN'"
      ]
    },
    {
      "cell_type": "code",
      "source": [
        "!pip install table_evaluator"
      ],
      "metadata": {
        "colab": {
          "base_uri": "https://localhost:8080/"
        },
        "id": "7ORAQsVqANUe",
        "outputId": "c142c8a3-8e73-48dc-aa1d-d8e08a824d4f"
      },
      "execution_count": 39,
      "outputs": [
        {
          "output_type": "stream",
          "name": "stdout",
          "text": [
            "Requirement already satisfied: table_evaluator in /usr/local/lib/python3.7/dist-packages (1.4.2)\n",
            "Requirement already satisfied: scikit-learn in /usr/local/lib/python3.7/dist-packages (from table_evaluator) (1.0.2)\n",
            "Requirement already satisfied: numpy in /usr/local/lib/python3.7/dist-packages (from table_evaluator) (1.21.6)\n",
            "Requirement already satisfied: scipy in /usr/local/lib/python3.7/dist-packages (from table_evaluator) (1.4.1)\n",
            "Requirement already satisfied: dython==0.5.1 in /usr/local/lib/python3.7/dist-packages (from table_evaluator) (0.5.1)\n",
            "Requirement already satisfied: seaborn<=0.11.1 in /usr/local/lib/python3.7/dist-packages (from table_evaluator) (0.11.1)\n",
            "Requirement already satisfied: tqdm in /usr/local/lib/python3.7/dist-packages (from table_evaluator) (4.64.0)\n",
            "Requirement already satisfied: matplotlib in /usr/local/lib/python3.7/dist-packages (from table_evaluator) (3.2.2)\n",
            "Requirement already satisfied: pandas in /usr/local/lib/python3.7/dist-packages (from table_evaluator) (1.3.5)\n",
            "Requirement already satisfied: psutil in /usr/local/lib/python3.7/dist-packages (from table_evaluator) (5.4.8)\n",
            "Requirement already satisfied: kiwisolver>=1.0.1 in /usr/local/lib/python3.7/dist-packages (from matplotlib->table_evaluator) (1.4.2)\n",
            "Requirement already satisfied: pyparsing!=2.0.4,!=2.1.2,!=2.1.6,>=2.0.1 in /usr/local/lib/python3.7/dist-packages (from matplotlib->table_evaluator) (3.0.8)\n",
            "Requirement already satisfied: cycler>=0.10 in /usr/local/lib/python3.7/dist-packages (from matplotlib->table_evaluator) (0.11.0)\n",
            "Requirement already satisfied: python-dateutil>=2.1 in /usr/local/lib/python3.7/dist-packages (from matplotlib->table_evaluator) (2.8.2)\n",
            "Requirement already satisfied: typing-extensions in /usr/local/lib/python3.7/dist-packages (from kiwisolver>=1.0.1->matplotlib->table_evaluator) (4.1.1)\n",
            "Requirement already satisfied: pytz>=2017.3 in /usr/local/lib/python3.7/dist-packages (from pandas->table_evaluator) (2022.1)\n",
            "Requirement already satisfied: six>=1.5 in /usr/local/lib/python3.7/dist-packages (from python-dateutil>=2.1->matplotlib->table_evaluator) (1.15.0)\n",
            "Requirement already satisfied: joblib>=0.11 in /usr/local/lib/python3.7/dist-packages (from scikit-learn->table_evaluator) (1.1.0)\n",
            "Requirement already satisfied: threadpoolctl>=2.0.0 in /usr/local/lib/python3.7/dist-packages (from scikit-learn->table_evaluator) (3.1.0)\n"
          ]
        }
      ]
    },
    {
      "cell_type": "code",
      "source": [
        "#https://pypi.org/project/table-evaluator/\n",
        "from table_evaluator import load_data, TableEvaluator\n"
      ],
      "metadata": {
        "id": "1MPPPuqfBtr-"
      },
      "execution_count": 40,
      "outputs": []
    },
    {
      "cell_type": "code",
      "source": [
        "final_df.head()"
      ],
      "metadata": {
        "colab": {
          "base_uri": "https://localhost:8080/",
          "height": 288
        },
        "id": "QV_bsxVsLrZ7",
        "outputId": "29e56bee-7682-4e88-9761-cc4bdc200898"
      },
      "execution_count": 41,
      "outputs": [
        {
          "output_type": "execute_result",
          "data": {
            "text/plain": [
              "    age  ethnicity  gender  ethnicity_African American  ethnicity_Asian  \\\n",
              "0  60.0   Hispanic  Female                         0.0              0.0   \n",
              "1  63.0  Caucasian    Male                         0.0              0.0   \n",
              "2  57.0  Caucasian  Female                         0.0              0.0   \n",
              "3  87.0  Caucasian    Male                         0.0              0.0   \n",
              "4  87.0  Caucasian    Male                         0.0              0.0   \n",
              "\n",
              "   ethnicity_Caucasian  ethnicity_Hispanic  ethnicity_Native American  \\\n",
              "0                  0.0                 1.0                        0.0   \n",
              "1                  1.0                 0.0                        0.0   \n",
              "2                  1.0                 0.0                        0.0   \n",
              "3                  1.0                 0.0                        0.0   \n",
              "4                  1.0                 0.0                        0.0   \n",
              "\n",
              "   ethnicity_Other/Unknown  gender_Female  gender_Male  \n",
              "0                      0.0            1.0          0.0  \n",
              "1                      0.0            0.0          1.0  \n",
              "2                      0.0            1.0          0.0  \n",
              "3                      0.0            0.0          1.0  \n",
              "4                      0.0            0.0          1.0  "
            ],
            "text/html": [
              "\n",
              "  <div id=\"df-758fa083-7893-47e2-93f4-642ba5054f63\">\n",
              "    <div class=\"colab-df-container\">\n",
              "      <div>\n",
              "<style scoped>\n",
              "    .dataframe tbody tr th:only-of-type {\n",
              "        vertical-align: middle;\n",
              "    }\n",
              "\n",
              "    .dataframe tbody tr th {\n",
              "        vertical-align: top;\n",
              "    }\n",
              "\n",
              "    .dataframe thead th {\n",
              "        text-align: right;\n",
              "    }\n",
              "</style>\n",
              "<table border=\"1\" class=\"dataframe\">\n",
              "  <thead>\n",
              "    <tr style=\"text-align: right;\">\n",
              "      <th></th>\n",
              "      <th>age</th>\n",
              "      <th>ethnicity</th>\n",
              "      <th>gender</th>\n",
              "      <th>ethnicity_African American</th>\n",
              "      <th>ethnicity_Asian</th>\n",
              "      <th>ethnicity_Caucasian</th>\n",
              "      <th>ethnicity_Hispanic</th>\n",
              "      <th>ethnicity_Native American</th>\n",
              "      <th>ethnicity_Other/Unknown</th>\n",
              "      <th>gender_Female</th>\n",
              "      <th>gender_Male</th>\n",
              "    </tr>\n",
              "  </thead>\n",
              "  <tbody>\n",
              "    <tr>\n",
              "      <th>0</th>\n",
              "      <td>60.0</td>\n",
              "      <td>Hispanic</td>\n",
              "      <td>Female</td>\n",
              "      <td>0.0</td>\n",
              "      <td>0.0</td>\n",
              "      <td>0.0</td>\n",
              "      <td>1.0</td>\n",
              "      <td>0.0</td>\n",
              "      <td>0.0</td>\n",
              "      <td>1.0</td>\n",
              "      <td>0.0</td>\n",
              "    </tr>\n",
              "    <tr>\n",
              "      <th>1</th>\n",
              "      <td>63.0</td>\n",
              "      <td>Caucasian</td>\n",
              "      <td>Male</td>\n",
              "      <td>0.0</td>\n",
              "      <td>0.0</td>\n",
              "      <td>1.0</td>\n",
              "      <td>0.0</td>\n",
              "      <td>0.0</td>\n",
              "      <td>0.0</td>\n",
              "      <td>0.0</td>\n",
              "      <td>1.0</td>\n",
              "    </tr>\n",
              "    <tr>\n",
              "      <th>2</th>\n",
              "      <td>57.0</td>\n",
              "      <td>Caucasian</td>\n",
              "      <td>Female</td>\n",
              "      <td>0.0</td>\n",
              "      <td>0.0</td>\n",
              "      <td>1.0</td>\n",
              "      <td>0.0</td>\n",
              "      <td>0.0</td>\n",
              "      <td>0.0</td>\n",
              "      <td>1.0</td>\n",
              "      <td>0.0</td>\n",
              "    </tr>\n",
              "    <tr>\n",
              "      <th>3</th>\n",
              "      <td>87.0</td>\n",
              "      <td>Caucasian</td>\n",
              "      <td>Male</td>\n",
              "      <td>0.0</td>\n",
              "      <td>0.0</td>\n",
              "      <td>1.0</td>\n",
              "      <td>0.0</td>\n",
              "      <td>0.0</td>\n",
              "      <td>0.0</td>\n",
              "      <td>0.0</td>\n",
              "      <td>1.0</td>\n",
              "    </tr>\n",
              "    <tr>\n",
              "      <th>4</th>\n",
              "      <td>87.0</td>\n",
              "      <td>Caucasian</td>\n",
              "      <td>Male</td>\n",
              "      <td>0.0</td>\n",
              "      <td>0.0</td>\n",
              "      <td>1.0</td>\n",
              "      <td>0.0</td>\n",
              "      <td>0.0</td>\n",
              "      <td>0.0</td>\n",
              "      <td>0.0</td>\n",
              "      <td>1.0</td>\n",
              "    </tr>\n",
              "  </tbody>\n",
              "</table>\n",
              "</div>\n",
              "      <button class=\"colab-df-convert\" onclick=\"convertToInteractive('df-758fa083-7893-47e2-93f4-642ba5054f63')\"\n",
              "              title=\"Convert this dataframe to an interactive table.\"\n",
              "              style=\"display:none;\">\n",
              "        \n",
              "  <svg xmlns=\"http://www.w3.org/2000/svg\" height=\"24px\"viewBox=\"0 0 24 24\"\n",
              "       width=\"24px\">\n",
              "    <path d=\"M0 0h24v24H0V0z\" fill=\"none\"/>\n",
              "    <path d=\"M18.56 5.44l.94 2.06.94-2.06 2.06-.94-2.06-.94-.94-2.06-.94 2.06-2.06.94zm-11 1L8.5 8.5l.94-2.06 2.06-.94-2.06-.94L8.5 2.5l-.94 2.06-2.06.94zm10 10l.94 2.06.94-2.06 2.06-.94-2.06-.94-.94-2.06-.94 2.06-2.06.94z\"/><path d=\"M17.41 7.96l-1.37-1.37c-.4-.4-.92-.59-1.43-.59-.52 0-1.04.2-1.43.59L10.3 9.45l-7.72 7.72c-.78.78-.78 2.05 0 2.83L4 21.41c.39.39.9.59 1.41.59.51 0 1.02-.2 1.41-.59l7.78-7.78 2.81-2.81c.8-.78.8-2.07 0-2.86zM5.41 20L4 18.59l7.72-7.72 1.47 1.35L5.41 20z\"/>\n",
              "  </svg>\n",
              "      </button>\n",
              "      \n",
              "  <style>\n",
              "    .colab-df-container {\n",
              "      display:flex;\n",
              "      flex-wrap:wrap;\n",
              "      gap: 12px;\n",
              "    }\n",
              "\n",
              "    .colab-df-convert {\n",
              "      background-color: #E8F0FE;\n",
              "      border: none;\n",
              "      border-radius: 50%;\n",
              "      cursor: pointer;\n",
              "      display: none;\n",
              "      fill: #1967D2;\n",
              "      height: 32px;\n",
              "      padding: 0 0 0 0;\n",
              "      width: 32px;\n",
              "    }\n",
              "\n",
              "    .colab-df-convert:hover {\n",
              "      background-color: #E2EBFA;\n",
              "      box-shadow: 0px 1px 2px rgba(60, 64, 67, 0.3), 0px 1px 3px 1px rgba(60, 64, 67, 0.15);\n",
              "      fill: #174EA6;\n",
              "    }\n",
              "\n",
              "    [theme=dark] .colab-df-convert {\n",
              "      background-color: #3B4455;\n",
              "      fill: #D2E3FC;\n",
              "    }\n",
              "\n",
              "    [theme=dark] .colab-df-convert:hover {\n",
              "      background-color: #434B5C;\n",
              "      box-shadow: 0px 1px 3px 1px rgba(0, 0, 0, 0.15);\n",
              "      filter: drop-shadow(0px 1px 2px rgba(0, 0, 0, 0.3));\n",
              "      fill: #FFFFFF;\n",
              "    }\n",
              "  </style>\n",
              "\n",
              "      <script>\n",
              "        const buttonEl =\n",
              "          document.querySelector('#df-758fa083-7893-47e2-93f4-642ba5054f63 button.colab-df-convert');\n",
              "        buttonEl.style.display =\n",
              "          google.colab.kernel.accessAllowed ? 'block' : 'none';\n",
              "\n",
              "        async function convertToInteractive(key) {\n",
              "          const element = document.querySelector('#df-758fa083-7893-47e2-93f4-642ba5054f63');\n",
              "          const dataTable =\n",
              "            await google.colab.kernel.invokeFunction('convertToInteractive',\n",
              "                                                     [key], {});\n",
              "          if (!dataTable) return;\n",
              "\n",
              "          const docLinkHtml = 'Like what you see? Visit the ' +\n",
              "            '<a target=\"_blank\" href=https://colab.research.google.com/notebooks/data_table.ipynb>data table notebook</a>'\n",
              "            + ' to learn more about interactive tables.';\n",
              "          element.innerHTML = '';\n",
              "          dataTable['output_type'] = 'display_data';\n",
              "          await google.colab.output.renderOutput(dataTable, element);\n",
              "          const docLink = document.createElement('div');\n",
              "          docLink.innerHTML = docLinkHtml;\n",
              "          element.appendChild(docLink);\n",
              "        }\n",
              "      </script>\n",
              "    </div>\n",
              "  </div>\n",
              "  "
            ]
          },
          "metadata": {},
          "execution_count": 41
        }
      ]
    },
    {
      "cell_type": "code",
      "source": [
        "final_df['data'] = 'Truth'"
      ],
      "metadata": {
        "id": "FLYDOPL0OfjT"
      },
      "execution_count": 42,
      "outputs": []
    },
    {
      "cell_type": "code",
      "source": [
        "df_true = final_df[['age', 'ethnicity', 'gender']]"
      ],
      "metadata": {
        "id": "9nCeC_lDCXVD"
      },
      "execution_count": 43,
      "outputs": []
    },
    {
      "cell_type": "code",
      "source": [
        "df_all = final_df[['age', 'ethnicity', 'gender', 'data']].append(df_age_eth).reset_index(level = 0).drop('index', axis = 1)"
      ],
      "metadata": {
        "id": "cYPAuZWoR5yc"
      },
      "execution_count": 44,
      "outputs": []
    },
    {
      "cell_type": "code",
      "source": [
        "table_evaluator = TableEvaluator(df_all[df_all['data'] == 'Truth'][['age', 'ethnicity', 'gender']], df_all[df_all['data'] == 'GAN'][['age', 'ethnicity', 'gender']], cat_cols=['ethnicity', 'gender'])\n"
      ],
      "metadata": {
        "id": "A2WD47BeCf4X"
      },
      "execution_count": 45,
      "outputs": []
    },
    {
      "cell_type": "code",
      "source": [
        "table_evaluator.evaluate(target_col='ethnicity')"
      ],
      "metadata": {
        "colab": {
          "base_uri": "https://localhost:8080/"
        },
        "id": "y_rJ_8-0Dzbo",
        "outputId": "c8f7f603-7d46-4033-e3fd-3520bf4b9369"
      },
      "execution_count": 46,
      "outputs": [
        {
          "output_type": "stream",
          "name": "stdout",
          "text": [
            "\n",
            "Classifier F1-scores and their Jaccard similarities::\n",
            "                             f1_real  f1_fake  jaccard_similarity\n",
            "index                                                            \n",
            "DecisionTreeClassifier_fake   0.7559   0.6240              0.6025\n",
            "DecisionTreeClassifier_real   0.7795   0.5098              0.4250\n",
            "LogisticRegression_fake       0.7756   0.7756              1.0000\n",
            "LogisticRegression_real       0.7638   0.7638              1.0000\n",
            "MLPClassifier_fake            0.7756   0.7756              1.0000\n",
            "MLPClassifier_real            0.7638   0.7638              1.0000\n",
            "RandomForestClassifier_fake   0.7382   0.6240              0.5703\n",
            "RandomForestClassifier_real   0.7756   0.5236              0.4494\n",
            "\n",
            "Privacy results:\n",
            "                                            result\n",
            "Duplicate rows between sets (real/fake)  (2463, 0)\n",
            "nearest neighbor mean                       0.0253\n",
            "nearest neighbor std                        0.1212\n",
            "\n",
            "Miscellaneous results:\n",
            "                                  Result\n",
            "Column Correlation Distance RMSE  0.0859\n",
            "Column Correlation distance MAE   0.0571\n",
            "\n",
            "Results:\n",
            "                                                result\n",
            "Basic statistics                                0.4000\n",
            "Correlation column correlations                -0.2915\n",
            "Mean Correlation between fake and real columns  0.9948\n",
            "1 - MAPE Estimator results                      0.8750\n",
            "Similarity Score                                0.4946\n"
          ]
        }
      ]
    },
    {
      "cell_type": "code",
      "source": [
        ""
      ],
      "metadata": {
        "id": "jHeuWOl2WK3Q"
      },
      "execution_count": 46,
      "outputs": []
    },
    {
      "cell_type": "code",
      "source": [
        "df_true.append(df_age_eth[['age', 'ethnicity', 'gender']]).to_csv('age_eth_gen_output.csv')"
      ],
      "metadata": {
        "id": "kR4ckeSWGmsI"
      },
      "execution_count": 47,
      "outputs": []
    },
    {
      "cell_type": "code",
      "source": [
        ""
      ],
      "metadata": {
        "id": "JcvPuMDXQD1r"
      },
      "execution_count": 47,
      "outputs": []
    },
    {
      "cell_type": "code",
      "source": [
        "table_evaluator.visual_evaluation()"
      ],
      "metadata": {
        "colab": {
          "base_uri": "https://localhost:8080/",
          "height": 1000
        },
        "id": "MU4X0gtSDre7",
        "outputId": "b5e8beed-b27b-49c6-d413-5e5d3f702002"
      },
      "execution_count": 48,
      "outputs": [
        {
          "output_type": "display_data",
          "data": {
            "text/plain": [
              "<Figure size 720x360 with 2 Axes>"
            ],
            "image/png": "[encoded data removed]"
          },
          "metadata": {
            "needs_background": "light"
          }
        },
        {
          "output_type": "display_data",
          "data": {
            "text/plain": [
              "<Figure size 1152x864 with 8 Axes>"
            ],
            "image/png": "[encoded data removed]"
          },
          "metadata": {
            "needs_background": "light"
          }
        },
        {
          "output_type": "display_data",
          "data": {
            "text/plain": [
              "<Figure size 1152x432 with 3 Axes>"
            ],
            "image/png": "[encoded data removed]"
          },
          "metadata": {
            "needs_background": "light"
          }
        },
        {
          "output_type": "display_data",
          "data": {
            "text/plain": [
              "<Figure size 1728x504 with 6 Axes>"
            ],
            "image/png": "[encoded data removed]"
          },
          "metadata": {
            "needs_background": "light"
          }
        },
        {
          "output_type": "display_data",
          "data": {
            "text/plain": [
              "<Figure size 864x432 with 2 Axes>"
            ],
            "image/png": "[encoded data removed]"
          },
          "metadata": {}
        }
      ]
    },
    {
      "cell_type": "code",
      "source": [
        ""
      ],
      "metadata": {
        "id": "Qinl6TVMXvco"
      },
      "execution_count": 48,
      "outputs": []
    },
    {
      "cell_type": "markdown",
      "source": [
        "**Distribute**\n",
        "https://www.tensorflow.org/tutorials/distribute/custom_training"
      ],
      "metadata": {
        "id": "H_YE-sHpX932"
      }
    },
    {
      "cell_type": "code",
      "source": [
        "mirrored_strategy = tf.distribute.MirroredStrategy()\n",
        "print('Number of devices: {}'.format(mirrored_strategy.num_replicas_in_sync))"
      ],
      "metadata": {
        "colab": {
          "base_uri": "https://localhost:8080/"
        },
        "id": "u3R_tLpGX_SS",
        "outputId": "fd660064-e3dd-410f-bf13-131a05c51eee"
      },
      "execution_count": 49,
      "outputs": [
        {
          "output_type": "stream",
          "name": "stdout",
          "text": [
            "WARNING:tensorflow:There are non-GPU devices in `tf.distribute.Strategy`, not using nccl allreduce.\n",
            "INFO:tensorflow:Using MirroredStrategy with devices ('/job:localhost/replica:0/task:0/device:CPU:0',)\n",
            "Number of devices: 1\n"
          ]
        }
      ]
    },
    {
      "cell_type": "code",
      "source": [
        "# Create a checkpoint directory to store the checkpoints.\n",
        "checkpoint_dir = './training_checkpoints'\n",
        "checkpoint_prefix = os.path.join(checkpoint_dir, \"ckpt\")"
      ],
      "metadata": {
        "id": "8HRYGzS9YrfI"
      },
      "execution_count": 50,
      "outputs": []
    },
    {
      "cell_type": "code",
      "execution_count": 51,
      "metadata": {
        "colab": {
          "base_uri": "https://localhost:8080/"
        },
        "id": "JrswI7AVX_og",
        "outputId": "9352f7fa-e2fd-4ae5-cb0d-ac2e9e2db897"
      },
      "outputs": [
        {
          "output_type": "stream",
          "name": "stdout",
          "text": [
            "Generator input dim:  58\n",
            "Dicrimination input dim:  9\n",
            "WARNING:tensorflow:From <ipython-input-5-10f3593cf38d>:89: _CollectiveAllReduceStrategyExperimental.__init__ (from tensorflow.python.distribute.collective_all_reduce_strategy) is deprecated and will be removed in a future version.\n",
            "Instructions for updating:\n",
            "use distribute.MultiWorkerMirroredStrategy instead\n",
            "WARNING:tensorflow:Collective ops is not configured at program startup. Some performance features may not be enabled.\n",
            "INFO:tensorflow:Single-worker MultiWorkerMirroredStrategy with local_devices = ('/device:CPU:0',), communication = CommunicationImplementation.AUTO\n",
            "Number of devices: 1\n",
            "Model: \"discriminator\"\n",
            "_________________________________________________________________\n",
            " Layer (type)                Output Shape              Param #   \n",
            "=================================================================\n",
            " input_3 (InputLayer)        [(None, 9)]               0         \n",
            "                                                                 \n",
            " dense_6 (Dense)             (None, 64)                640       \n",
            "                                                                 \n",
            " leaky_re_lu_4 (LeakyReLU)   (None, 64)                0         \n",
            "                                                                 \n",
            " dropout_2 (Dropout)         (None, 64)                0         \n",
            "                                                                 \n",
            " dense_7 (Dense)             (None, 64)                4160      \n",
            "                                                                 \n",
            " leaky_re_lu_5 (LeakyReLU)   (None, 64)                0         \n",
            "                                                                 \n",
            " dropout_3 (Dropout)         (None, 64)                0         \n",
            "                                                                 \n",
            " dense_8 (Dense)             (None, 1)                 65        \n",
            "                                                                 \n",
            "=================================================================\n",
            "Total params: 4,865\n",
            "Trainable params: 4,865\n",
            "Non-trainable params: 0\n",
            "_________________________________________________________________\n",
            "Unrecognized distribution call. Reverting to non distributed GAN.\n",
            "Model: \"generator\"\n",
            "_________________________________________________________________\n",
            " Layer (type)                Output Shape              Param #   \n",
            "=================================================================\n",
            " input_4 (InputLayer)        [(None, 58)]              0         \n",
            "                                                                 \n",
            " dense_9 (Dense)             (None, 64)                3776      \n",
            "                                                                 \n",
            " leaky_re_lu_6 (LeakyReLU)   (None, 64)                0         \n",
            "                                                                 \n",
            " batch_normalization_1 (Batc  (None, 64)               256       \n",
            " hNormalization)                                                 \n",
            "                                                                 \n",
            " dense_10 (Dense)            (None, 64)                4160      \n",
            "                                                                 \n",
            " leaky_re_lu_7 (LeakyReLU)   (None, 64)                0         \n",
            "                                                                 \n",
            " dense_11 (Dense)            (None, 1)                 65        \n",
            "                                                                 \n",
            "=================================================================\n",
            "Total params: 8,257\n",
            "Trainable params: 8,129\n",
            "Non-trainable params: 128\n",
            "_________________________________________________________________\n"
          ]
        }
      ],
      "source": [
        "#with mirrored_strategy.scope():\n",
        "dist_gan = ConditionalGAN(noise_dim=50,\n",
        "                 data_shape=1,\n",
        "                 num_classes=all_labels[:1].shape[1], \n",
        "                 d_learning_rate=1e-6, \n",
        "                 g_learning_rate=1e-6, \n",
        "                 batch_size=32, \n",
        "                 start_epoch=0,\n",
        "                 verbose = True, distribute = 'D') # added the distributed flag in the CGAN class\n",
        "\n",
        "  #loss_obj = tf.keras.losses.BinaryCrossentropy(reduction=tf.keras.losses.Reduction.NONE)\n",
        "  #loss = tf.reduce_sum(loss_obj(labels, predictions)) * (1. / global_batch_size)\n",
        "\n",
        "dist_gan.compile(loss_fn=keras.losses.BinaryCrossentropy(from_logits=True))"
      ]
    },
    {
      "cell_type": "code",
      "execution_count": 52,
      "metadata": {
        "colab": {
          "base_uri": "https://localhost:8080/"
        },
        "outputId": "a35dfc65-a8a0-42be-d077-43068ea6a096",
        "id": "dnE59ztTX_og"
      },
      "outputs": [
        {
          "output_type": "stream",
          "name": "stdout",
          "text": [
            "Epoch 1/10\n",
            "age_one_hot_labels1: Tensor(\"strided_slice_1:0\", shape=(None, 1, 8), dtype=float32)\n",
            "age_one_hot_labels2: Tensor(\"strided_slice_2:0\", shape=(None,), dtype=float32)\n",
            "age_one_hot_labels3: Tensor(\"strided_slice_3:0\", shape=(None, 8), dtype=float32)\n"
          ]
        },
        {
          "output_type": "stream",
          "name": "stderr",
          "text": [
            "/usr/local/lib/python3.7/dist-packages/tensorflow/python/util/dispatch.py:1082: UserWarning: \"`binary_crossentropy` received `from_logits=True`, but the `output` argument was produced by a sigmoid or softmax activation and thus does not represent logits. Was this intended?\"\n",
            "  return dispatch_target(*args, **kwargs)\n"
          ]
        },
        {
          "output_type": "stream",
          "name": "stdout",
          "text": [
            "age_one_hot_labels1: Tensor(\"strided_slice_1:0\", shape=(None, 1, 8), dtype=float32)\n",
            "age_one_hot_labels2: Tensor(\"strided_slice_2:0\", shape=(None,), dtype=float32)\n",
            "age_one_hot_labels3: Tensor(\"strided_slice_3:0\", shape=(None, 8), dtype=float32)\n",
            "39/39 [==============================] - 3s 5ms/step - g_loss: 0.7578 - d_loss: 0.7005\n",
            "Epoch 2/10\n",
            "39/39 [==============================] - 0s 7ms/step - g_loss: 0.7572 - d_loss: 0.7003\n",
            "Epoch 3/10\n",
            "39/39 [==============================] - 0s 7ms/step - g_loss: 0.7568 - d_loss: 0.7004\n",
            "Epoch 4/10\n",
            "39/39 [==============================] - 0s 10ms/step - g_loss: 0.7568 - d_loss: 0.7001\n",
            "Epoch 5/10\n",
            "39/39 [==============================] - 0s 8ms/step - g_loss: 0.7561 - d_loss: 0.7001\n",
            "Epoch 6/10\n",
            "39/39 [==============================] - 0s 8ms/step - g_loss: 0.7557 - d_loss: 0.6998\n",
            "Epoch 7/10\n",
            "39/39 [==============================] - 0s 7ms/step - g_loss: 0.7552 - d_loss: 0.6998\n",
            "Epoch 8/10\n",
            "39/39 [==============================] - 0s 8ms/step - g_loss: 0.7546 - d_loss: 0.6996\n",
            "Epoch 9/10\n",
            "39/39 [==============================] - 0s 11ms/step - g_loss: 0.7539 - d_loss: 0.6996\n",
            "Epoch 10/10\n",
            "39/39 [==============================] - 0s 9ms/step - g_loss: 0.7540 - d_loss: 0.6993\n"
          ]
        },
        {
          "output_type": "execute_result",
          "data": {
            "text/plain": [
              "<keras.callbacks.History at 0x7feed59fb3d0>"
            ]
          },
          "metadata": {},
          "execution_count": 52
        }
      ],
      "source": [
        "dist_gan.fit(dataset, epochs=10, verbose=True)"
      ]
    },
    {
      "cell_type": "code",
      "source": [
        "dist_age_eth = generate_table(df_ages)"
      ],
      "metadata": {
        "id": "65I9E3fmX_og",
        "colab": {
          "base_uri": "https://localhost:8080/"
        },
        "outputId": "84207508-646a-46c5-b175-d2f57a506d4d"
      },
      "execution_count": 53,
      "outputs": [
        {
          "output_type": "stream",
          "name": "stdout",
          "text": [
            "Generating:  age    104\n",
            "Name: (African American, Female), dtype: int64  ages for unit type:  ('African American', 'Female')\n",
            "Generated Ages:\n",
            "min:  38.034816563129425\n",
            "mean:  56.12315572282443\n",
            "max:  72.545419216156\n",
            "stdv:  6.311142233425098\n",
            "True Ages:\n",
            "min:  19.0\n",
            "mean:  60.88461538461539\n",
            "max:  90.0\n",
            "stdv:  15.83284541965974\n",
            " \n",
            "Generating:  age    171\n",
            "Name: (African American, Male), dtype: int64  ages for unit type:  ('African American', 'Male')\n",
            "Generated Ages:\n",
            "min:  38.5796183347702\n",
            "mean:  54.27196181831304\n",
            "max:  69.02104878425598\n",
            "stdv:  7.627838459749762\n",
            "True Ages:\n",
            "min:  33.0\n",
            "mean:  64.70175438596492\n",
            "max:  87.0\n",
            "stdv:  11.075970902140083\n",
            " \n",
            "Generating:  age    15\n",
            "Name: (Asian, Female), dtype: int64  ages for unit type:  ('Asian', 'Female')\n",
            "Generated Ages:\n",
            "min:  44.783563792705536\n",
            "mean:  59.777543771266934\n",
            "max:  74.36236786842346\n",
            "stdv:  7.911177691606658\n",
            "True Ages:\n",
            "min:  51.0\n",
            "mean:  67.6\n",
            "max:  90.0\n",
            "stdv:  15.877867195145154\n",
            " \n",
            "Generating:  age    12\n",
            "Name: (Asian, Male), dtype: int64  ages for unit type:  ('Asian', 'Male')\n",
            "Generated Ages:\n",
            "min:  38.81201919913292\n",
            "mean:  51.94116127242645\n",
            "max:  56.914269745349884\n",
            "stdv:  5.372840298563099\n",
            "True Ages:\n",
            "min:  44.0\n",
            "mean:  75.16666666666667\n",
            "max:  90.0\n",
            "stdv:  13.018149723452341\n",
            " \n",
            "Generating:  age    877\n",
            "Name: (Caucasian, Female), dtype: int64  ages for unit type:  ('Caucasian', 'Female')\n",
            "Generated Ages:\n",
            "min:  35.9777829349041\n",
            "mean:  56.1359445601192\n",
            "max:  75.65797609090805\n",
            "stdv:  7.034417782701103\n",
            "True Ages:\n",
            "min:  16.0\n",
            "mean:  69.28506271379703\n",
            "max:  90.0\n",
            "stdv:  13.658931207636606\n",
            " \n",
            "Generating:  age    1086\n",
            "Name: (Caucasian, Male), dtype: int64  ages for unit type:  ('Caucasian', 'Male')\n",
            "Generated Ages:\n",
            "min:  29.21835148334503\n",
            "mean:  54.07123609693999\n",
            "max:  76.40667223930359\n",
            "stdv:  7.368833196138641\n",
            "True Ages:\n",
            "min:  19.0\n",
            "mean:  68.6804788213628\n",
            "max:  90.0\n",
            "stdv:  13.626500496929864\n",
            " \n",
            "Generating:  age    32\n",
            "Name: (Hispanic, Female), dtype: int64  ages for unit type:  ('Hispanic', 'Female')\n",
            "Generated Ages:\n",
            "min:  44.077373921871185\n",
            "mean:  57.30712838098407\n",
            "max:  77.7461268901825\n",
            "stdv:  7.513075728357472\n",
            "True Ages:\n",
            "min:  21.0\n",
            "mean:  63.40625\n",
            "max:  90.0\n",
            "stdv:  19.14885664830932\n",
            " \n",
            "Generating:  age    119\n",
            "Name: (Hispanic, Male), dtype: int64  ages for unit type:  ('Hispanic', 'Male')\n",
            "Generated Ages:\n",
            "min:  39.581394135951996\n",
            "mean:  55.59318441528232\n",
            "max:  72.73125636577606\n",
            "stdv:  6.975638721778399\n",
            "True Ages:\n",
            "min:  36.0\n",
            "mean:  71.36974789915966\n",
            "max:  90.0\n",
            "stdv:  13.181260919663316\n",
            " \n",
            "Generating:  age    3\n",
            "Name: (Native American, Female), dtype: int64  ages for unit type:  ('Native American', 'Female')\n",
            "Generated Ages:\n",
            "min:  62.749778151512146\n",
            "mean:  63.374755462010704\n",
            "max:  64.36118769645691\n",
            "stdv:  0.7057607842696062\n",
            "True Ages:\n",
            "min:  52.0\n",
            "mean:  52.0\n",
            "max:  52.0\n",
            "stdv:  0.0\n",
            " \n",
            "Generating:  age    21\n",
            "Name: (Native American, Male), dtype: int64  ages for unit type:  ('Native American', 'Male')\n",
            "Generated Ages:\n",
            "min:  47.455204516649246\n",
            "mean:  57.33931749917212\n",
            "max:  65.701795399189\n",
            "stdv:  4.777637170372403\n",
            "True Ages:\n",
            "min:  37.0\n",
            "mean:  53.04761904761905\n",
            "max:  88.0\n",
            "stdv:  17.95623300848135\n",
            " \n",
            "Generating:  age    17\n",
            "Name: (Other/Unknown, Female), dtype: int64  ages for unit type:  ('Other/Unknown', 'Female')\n",
            "Generated Ages:\n",
            "min:  49.27931949496269\n",
            "mean:  61.61712226271629\n",
            "max:  72.05186516046524\n",
            "stdv:  6.471178857849949\n",
            "True Ages:\n",
            "min:  55.0\n",
            "mean:  70.52941176470588\n",
            "max:  86.0\n",
            "stdv:  9.702138315303147\n",
            " \n",
            "Generating:  age    80\n",
            "Name: (Other/Unknown, Male), dtype: int64  ages for unit type:  ('Other/Unknown', 'Male')\n",
            "Generated Ages:\n",
            "min:  40.92165157198906\n",
            "mean:  55.9809832662344\n",
            "max:  79.40822285413742\n",
            "stdv:  7.180839120073853\n",
            "True Ages:\n",
            "min:  39.0\n",
            "mean:  63.5\n",
            "max:  90.0\n",
            "stdv:  14.307340773183533\n",
            " \n"
          ]
        }
      ]
    },
    {
      "cell_type": "code",
      "source": [
        "dist_age_eth.head()"
      ],
      "metadata": {
        "id": "Uf8k3MAKX_og",
        "colab": {
          "base_uri": "https://localhost:8080/",
          "height": 206
        },
        "outputId": "a9267fcb-dc2b-4702-fe7f-79a4e59936b7"
      },
      "execution_count": 54,
      "outputs": [
        {
          "output_type": "execute_result",
          "data": {
            "text/plain": [
              "      age         ethnicity  gender\n",
              "0 52.3226  African American  Female\n",
              "1 59.0010  African American  Female\n",
              "2 43.1507  African American  Female\n",
              "3 49.0686  African American  Female\n",
              "4 55.6241  African American  Female"
            ],
            "text/html": [
              "\n",
              "  <div id=\"df-83fe33ce-cf83-4d86-bef4-8f712c9435a5\">\n",
              "    <div class=\"colab-df-container\">\n",
              "      <div>\n",
              "<style scoped>\n",
              "    .dataframe tbody tr th:only-of-type {\n",
              "        vertical-align: middle;\n",
              "    }\n",
              "\n",
              "    .dataframe tbody tr th {\n",
              "        vertical-align: top;\n",
              "    }\n",
              "\n",
              "    .dataframe thead th {\n",
              "        text-align: right;\n",
              "    }\n",
              "</style>\n",
              "<table border=\"1\" class=\"dataframe\">\n",
              "  <thead>\n",
              "    <tr style=\"text-align: right;\">\n",
              "      <th></th>\n",
              "      <th>age</th>\n",
              "      <th>ethnicity</th>\n",
              "      <th>gender</th>\n",
              "    </tr>\n",
              "  </thead>\n",
              "  <tbody>\n",
              "    <tr>\n",
              "      <th>0</th>\n",
              "      <td>52.3226</td>\n",
              "      <td>African American</td>\n",
              "      <td>Female</td>\n",
              "    </tr>\n",
              "    <tr>\n",
              "      <th>1</th>\n",
              "      <td>59.0010</td>\n",
              "      <td>African American</td>\n",
              "      <td>Female</td>\n",
              "    </tr>\n",
              "    <tr>\n",
              "      <th>2</th>\n",
              "      <td>43.1507</td>\n",
              "      <td>African American</td>\n",
              "      <td>Female</td>\n",
              "    </tr>\n",
              "    <tr>\n",
              "      <th>3</th>\n",
              "      <td>49.0686</td>\n",
              "      <td>African American</td>\n",
              "      <td>Female</td>\n",
              "    </tr>\n",
              "    <tr>\n",
              "      <th>4</th>\n",
              "      <td>55.6241</td>\n",
              "      <td>African American</td>\n",
              "      <td>Female</td>\n",
              "    </tr>\n",
              "  </tbody>\n",
              "</table>\n",
              "</div>\n",
              "      <button class=\"colab-df-convert\" onclick=\"convertToInteractive('df-83fe33ce-cf83-4d86-bef4-8f712c9435a5')\"\n",
              "              title=\"Convert this dataframe to an interactive table.\"\n",
              "              style=\"display:none;\">\n",
              "        \n",
              "  <svg xmlns=\"http://www.w3.org/2000/svg\" height=\"24px\"viewBox=\"0 0 24 24\"\n",
              "       width=\"24px\">\n",
              "    <path d=\"M0 0h24v24H0V0z\" fill=\"none\"/>\n",
              "    <path d=\"M18.56 5.44l.94 2.06.94-2.06 2.06-.94-2.06-.94-.94-2.06-.94 2.06-2.06.94zm-11 1L8.5 8.5l.94-2.06 2.06-.94-2.06-.94L8.5 2.5l-.94 2.06-2.06.94zm10 10l.94 2.06.94-2.06 2.06-.94-2.06-.94-.94-2.06-.94 2.06-2.06.94z\"/><path d=\"M17.41 7.96l-1.37-1.37c-.4-.4-.92-.59-1.43-.59-.52 0-1.04.2-1.43.59L10.3 9.45l-7.72 7.72c-.78.78-.78 2.05 0 2.83L4 21.41c.39.39.9.59 1.41.59.51 0 1.02-.2 1.41-.59l7.78-7.78 2.81-2.81c.8-.78.8-2.07 0-2.86zM5.41 20L4 18.59l7.72-7.72 1.47 1.35L5.41 20z\"/>\n",
              "  </svg>\n",
              "      </button>\n",
              "      \n",
              "  <style>\n",
              "    .colab-df-container {\n",
              "      display:flex;\n",
              "      flex-wrap:wrap;\n",
              "      gap: 12px;\n",
              "    }\n",
              "\n",
              "    .colab-df-convert {\n",
              "      background-color: #E8F0FE;\n",
              "      border: none;\n",
              "      border-radius: 50%;\n",
              "      cursor: pointer;\n",
              "      display: none;\n",
              "      fill: #1967D2;\n",
              "      height: 32px;\n",
              "      padding: 0 0 0 0;\n",
              "      width: 32px;\n",
              "    }\n",
              "\n",
              "    .colab-df-convert:hover {\n",
              "      background-color: #E2EBFA;\n",
              "      box-shadow: 0px 1px 2px rgba(60, 64, 67, 0.3), 0px 1px 3px 1px rgba(60, 64, 67, 0.15);\n",
              "      fill: #174EA6;\n",
              "    }\n",
              "\n",
              "    [theme=dark] .colab-df-convert {\n",
              "      background-color: #3B4455;\n",
              "      fill: #D2E3FC;\n",
              "    }\n",
              "\n",
              "    [theme=dark] .colab-df-convert:hover {\n",
              "      background-color: #434B5C;\n",
              "      box-shadow: 0px 1px 3px 1px rgba(0, 0, 0, 0.15);\n",
              "      filter: drop-shadow(0px 1px 2px rgba(0, 0, 0, 0.3));\n",
              "      fill: #FFFFFF;\n",
              "    }\n",
              "  </style>\n",
              "\n",
              "      <script>\n",
              "        const buttonEl =\n",
              "          document.querySelector('#df-83fe33ce-cf83-4d86-bef4-8f712c9435a5 button.colab-df-convert');\n",
              "        buttonEl.style.display =\n",
              "          google.colab.kernel.accessAllowed ? 'block' : 'none';\n",
              "\n",
              "        async function convertToInteractive(key) {\n",
              "          const element = document.querySelector('#df-83fe33ce-cf83-4d86-bef4-8f712c9435a5');\n",
              "          const dataTable =\n",
              "            await google.colab.kernel.invokeFunction('convertToInteractive',\n",
              "                                                     [key], {});\n",
              "          if (!dataTable) return;\n",
              "\n",
              "          const docLinkHtml = 'Like what you see? Visit the ' +\n",
              "            '<a target=\"_blank\" href=https://colab.research.google.com/notebooks/data_table.ipynb>data table notebook</a>'\n",
              "            + ' to learn more about interactive tables.';\n",
              "          element.innerHTML = '';\n",
              "          dataTable['output_type'] = 'display_data';\n",
              "          await google.colab.output.renderOutput(dataTable, element);\n",
              "          const docLink = document.createElement('div');\n",
              "          docLink.innerHTML = docLinkHtml;\n",
              "          element.appendChild(docLink);\n",
              "        }\n",
              "      </script>\n",
              "    </div>\n",
              "  </div>\n",
              "  "
            ]
          },
          "metadata": {},
          "execution_count": 54
        }
      ]
    },
    {
      "cell_type": "code",
      "execution_count": 55,
      "metadata": {
        "id": "iZTj1k1zX_og",
        "colab": {
          "base_uri": "https://localhost:8080/",
          "height": 488
        },
        "outputId": "c70b0db6-8d69-4d35-db44-d1fc09374a0e"
      },
      "outputs": [
        {
          "output_type": "execute_result",
          "data": {
            "text/plain": [
              "                               age                                          \\\n",
              "                             count    mean     std     min     25%     50%   \n",
              "ethnicity        gender                                                      \n",
              "African American Female   104.0000 60.8846 15.9095 19.0000 54.0000 63.0000   \n",
              "                 Male     171.0000 64.7018 11.1085 33.0000 57.0000 67.0000   \n",
              "Asian            Female    15.0000 67.6000 16.4352 51.0000 56.0000 56.0000   \n",
              "                 Male      12.0000 75.1667 13.5970 44.0000 73.0000 77.0000   \n",
              "Caucasian        Female   877.0000 69.2851 13.6667 16.0000 61.0000 71.0000   \n",
              "                 Male   1,086.0000 68.6805 13.6328 19.0000 59.0000 70.0000   \n",
              "Hispanic         Female    32.0000 63.4062 19.4553 21.0000 56.0000 59.0000   \n",
              "                 Male     119.0000 71.3697 13.2370 36.0000 64.0000 69.0000   \n",
              "Native American  Female     3.0000 52.0000  0.0000 52.0000 52.0000 52.0000   \n",
              "                 Male      21.0000 53.0476 18.3997 37.0000 37.0000 40.0000   \n",
              "Other/Unknown    Female    17.0000 70.5294 10.0007 55.0000 62.0000 73.0000   \n",
              "                 Male      80.0000 63.5000 14.3976 39.0000 57.2500 65.0000   \n",
              "\n",
              "                                         \n",
              "                            75%     max  \n",
              "ethnicity        gender                  \n",
              "African American Female 70.5000 90.0000  \n",
              "                 Male   72.0000 87.0000  \n",
              "Asian            Female 88.0000 90.0000  \n",
              "                 Male   84.2500 90.0000  \n",
              "Caucasian        Female 79.0000 90.0000  \n",
              "                 Male   78.0000 90.0000  \n",
              "Hispanic         Female 83.0000 90.0000  \n",
              "                 Male   81.5000 90.0000  \n",
              "Native American  Female 52.0000 52.0000  \n",
              "                 Male   66.0000 88.0000  \n",
              "Other/Unknown    Female 78.0000 86.0000  \n",
              "                 Male   73.2500 90.0000  "
            ],
            "text/html": [
              "\n",
              "  <div id=\"df-a8856641-f822-4e24-b265-b8a75ea8ef62\">\n",
              "    <div class=\"colab-df-container\">\n",
              "      <div>\n",
              "<style scoped>\n",
              "    .dataframe tbody tr th:only-of-type {\n",
              "        vertical-align: middle;\n",
              "    }\n",
              "\n",
              "    .dataframe tbody tr th {\n",
              "        vertical-align: top;\n",
              "    }\n",
              "\n",
              "    .dataframe thead tr th {\n",
              "        text-align: left;\n",
              "    }\n",
              "\n",
              "    .dataframe thead tr:last-of-type th {\n",
              "        text-align: right;\n",
              "    }\n",
              "</style>\n",
              "<table border=\"1\" class=\"dataframe\">\n",
              "  <thead>\n",
              "    <tr>\n",
              "      <th></th>\n",
              "      <th></th>\n",
              "      <th colspan=\"8\" halign=\"left\">age</th>\n",
              "    </tr>\n",
              "    <tr>\n",
              "      <th></th>\n",
              "      <th></th>\n",
              "      <th>count</th>\n",
              "      <th>mean</th>\n",
              "      <th>std</th>\n",
              "      <th>min</th>\n",
              "      <th>25%</th>\n",
              "      <th>50%</th>\n",
              "      <th>75%</th>\n",
              "      <th>max</th>\n",
              "    </tr>\n",
              "    <tr>\n",
              "      <th>ethnicity</th>\n",
              "      <th>gender</th>\n",
              "      <th></th>\n",
              "      <th></th>\n",
              "      <th></th>\n",
              "      <th></th>\n",
              "      <th></th>\n",
              "      <th></th>\n",
              "      <th></th>\n",
              "      <th></th>\n",
              "    </tr>\n",
              "  </thead>\n",
              "  <tbody>\n",
              "    <tr>\n",
              "      <th rowspan=\"2\" valign=\"top\">African American</th>\n",
              "      <th>Female</th>\n",
              "      <td>104.0000</td>\n",
              "      <td>60.8846</td>\n",
              "      <td>15.9095</td>\n",
              "      <td>19.0000</td>\n",
              "      <td>54.0000</td>\n",
              "      <td>63.0000</td>\n",
              "      <td>70.5000</td>\n",
              "      <td>90.0000</td>\n",
              "    </tr>\n",
              "    <tr>\n",
              "      <th>Male</th>\n",
              "      <td>171.0000</td>\n",
              "      <td>64.7018</td>\n",
              "      <td>11.1085</td>\n",
              "      <td>33.0000</td>\n",
              "      <td>57.0000</td>\n",
              "      <td>67.0000</td>\n",
              "      <td>72.0000</td>\n",
              "      <td>87.0000</td>\n",
              "    </tr>\n",
              "    <tr>\n",
              "      <th rowspan=\"2\" valign=\"top\">Asian</th>\n",
              "      <th>Female</th>\n",
              "      <td>15.0000</td>\n",
              "      <td>67.6000</td>\n",
              "      <td>16.4352</td>\n",
              "      <td>51.0000</td>\n",
              "      <td>56.0000</td>\n",
              "      <td>56.0000</td>\n",
              "      <td>88.0000</td>\n",
              "      <td>90.0000</td>\n",
              "    </tr>\n",
              "    <tr>\n",
              "      <th>Male</th>\n",
              "      <td>12.0000</td>\n",
              "      <td>75.1667</td>\n",
              "      <td>13.5970</td>\n",
              "      <td>44.0000</td>\n",
              "      <td>73.0000</td>\n",
              "      <td>77.0000</td>\n",
              "      <td>84.2500</td>\n",
              "      <td>90.0000</td>\n",
              "    </tr>\n",
              "    <tr>\n",
              "      <th rowspan=\"2\" valign=\"top\">Caucasian</th>\n",
              "      <th>Female</th>\n",
              "      <td>877.0000</td>\n",
              "      <td>69.2851</td>\n",
              "      <td>13.6667</td>\n",
              "      <td>16.0000</td>\n",
              "      <td>61.0000</td>\n",
              "      <td>71.0000</td>\n",
              "      <td>79.0000</td>\n",
              "      <td>90.0000</td>\n",
              "    </tr>\n",
              "    <tr>\n",
              "      <th>Male</th>\n",
              "      <td>1,086.0000</td>\n",
              "      <td>68.6805</td>\n",
              "      <td>13.6328</td>\n",
              "      <td>19.0000</td>\n",
              "      <td>59.0000</td>\n",
              "      <td>70.0000</td>\n",
              "      <td>78.0000</td>\n",
              "      <td>90.0000</td>\n",
              "    </tr>\n",
              "    <tr>\n",
              "      <th rowspan=\"2\" valign=\"top\">Hispanic</th>\n",
              "      <th>Female</th>\n",
              "      <td>32.0000</td>\n",
              "      <td>63.4062</td>\n",
              "      <td>19.4553</td>\n",
              "      <td>21.0000</td>\n",
              "      <td>56.0000</td>\n",
              "      <td>59.0000</td>\n",
              "      <td>83.0000</td>\n",
              "      <td>90.0000</td>\n",
              "    </tr>\n",
              "    <tr>\n",
              "      <th>Male</th>\n",
              "      <td>119.0000</td>\n",
              "      <td>71.3697</td>\n",
              "      <td>13.2370</td>\n",
              "      <td>36.0000</td>\n",
              "      <td>64.0000</td>\n",
              "      <td>69.0000</td>\n",
              "      <td>81.5000</td>\n",
              "      <td>90.0000</td>\n",
              "    </tr>\n",
              "    <tr>\n",
              "      <th rowspan=\"2\" valign=\"top\">Native American</th>\n",
              "      <th>Female</th>\n",
              "      <td>3.0000</td>\n",
              "      <td>52.0000</td>\n",
              "      <td>0.0000</td>\n",
              "      <td>52.0000</td>\n",
              "      <td>52.0000</td>\n",
              "      <td>52.0000</td>\n",
              "      <td>52.0000</td>\n",
              "      <td>52.0000</td>\n",
              "    </tr>\n",
              "    <tr>\n",
              "      <th>Male</th>\n",
              "      <td>21.0000</td>\n",
              "      <td>53.0476</td>\n",
              "      <td>18.3997</td>\n",
              "      <td>37.0000</td>\n",
              "      <td>37.0000</td>\n",
              "      <td>40.0000</td>\n",
              "      <td>66.0000</td>\n",
              "      <td>88.0000</td>\n",
              "    </tr>\n",
              "    <tr>\n",
              "      <th rowspan=\"2\" valign=\"top\">Other/Unknown</th>\n",
              "      <th>Female</th>\n",
              "      <td>17.0000</td>\n",
              "      <td>70.5294</td>\n",
              "      <td>10.0007</td>\n",
              "      <td>55.0000</td>\n",
              "      <td>62.0000</td>\n",
              "      <td>73.0000</td>\n",
              "      <td>78.0000</td>\n",
              "      <td>86.0000</td>\n",
              "    </tr>\n",
              "    <tr>\n",
              "      <th>Male</th>\n",
              "      <td>80.0000</td>\n",
              "      <td>63.5000</td>\n",
              "      <td>14.3976</td>\n",
              "      <td>39.0000</td>\n",
              "      <td>57.2500</td>\n",
              "      <td>65.0000</td>\n",
              "      <td>73.2500</td>\n",
              "      <td>90.0000</td>\n",
              "    </tr>\n",
              "  </tbody>\n",
              "</table>\n",
              "</div>\n",
              "      <button class=\"colab-df-convert\" onclick=\"convertToInteractive('df-a8856641-f822-4e24-b265-b8a75ea8ef62')\"\n",
              "              title=\"Convert this dataframe to an interactive table.\"\n",
              "              style=\"display:none;\">\n",
              "        \n",
              "  <svg xmlns=\"http://www.w3.org/2000/svg\" height=\"24px\"viewBox=\"0 0 24 24\"\n",
              "       width=\"24px\">\n",
              "    <path d=\"M0 0h24v24H0V0z\" fill=\"none\"/>\n",
              "    <path d=\"M18.56 5.44l.94 2.06.94-2.06 2.06-.94-2.06-.94-.94-2.06-.94 2.06-2.06.94zm-11 1L8.5 8.5l.94-2.06 2.06-.94-2.06-.94L8.5 2.5l-.94 2.06-2.06.94zm10 10l.94 2.06.94-2.06 2.06-.94-2.06-.94-.94-2.06-.94 2.06-2.06.94z\"/><path d=\"M17.41 7.96l-1.37-1.37c-.4-.4-.92-.59-1.43-.59-.52 0-1.04.2-1.43.59L10.3 9.45l-7.72 7.72c-.78.78-.78 2.05 0 2.83L4 21.41c.39.39.9.59 1.41.59.51 0 1.02-.2 1.41-.59l7.78-7.78 2.81-2.81c.8-.78.8-2.07 0-2.86zM5.41 20L4 18.59l7.72-7.72 1.47 1.35L5.41 20z\"/>\n",
              "  </svg>\n",
              "      </button>\n",
              "      \n",
              "  <style>\n",
              "    .colab-df-container {\n",
              "      display:flex;\n",
              "      flex-wrap:wrap;\n",
              "      gap: 12px;\n",
              "    }\n",
              "\n",
              "    .colab-df-convert {\n",
              "      background-color: #E8F0FE;\n",
              "      border: none;\n",
              "      border-radius: 50%;\n",
              "      cursor: pointer;\n",
              "      display: none;\n",
              "      fill: #1967D2;\n",
              "      height: 32px;\n",
              "      padding: 0 0 0 0;\n",
              "      width: 32px;\n",
              "    }\n",
              "\n",
              "    .colab-df-convert:hover {\n",
              "      background-color: #E2EBFA;\n",
              "      box-shadow: 0px 1px 2px rgba(60, 64, 67, 0.3), 0px 1px 3px 1px rgba(60, 64, 67, 0.15);\n",
              "      fill: #174EA6;\n",
              "    }\n",
              "\n",
              "    [theme=dark] .colab-df-convert {\n",
              "      background-color: #3B4455;\n",
              "      fill: #D2E3FC;\n",
              "    }\n",
              "\n",
              "    [theme=dark] .colab-df-convert:hover {\n",
              "      background-color: #434B5C;\n",
              "      box-shadow: 0px 1px 3px 1px rgba(0, 0, 0, 0.15);\n",
              "      filter: drop-shadow(0px 1px 2px rgba(0, 0, 0, 0.3));\n",
              "      fill: #FFFFFF;\n",
              "    }\n",
              "  </style>\n",
              "\n",
              "      <script>\n",
              "        const buttonEl =\n",
              "          document.querySelector('#df-a8856641-f822-4e24-b265-b8a75ea8ef62 button.colab-df-convert');\n",
              "        buttonEl.style.display =\n",
              "          google.colab.kernel.accessAllowed ? 'block' : 'none';\n",
              "\n",
              "        async function convertToInteractive(key) {\n",
              "          const element = document.querySelector('#df-a8856641-f822-4e24-b265-b8a75ea8ef62');\n",
              "          const dataTable =\n",
              "            await google.colab.kernel.invokeFunction('convertToInteractive',\n",
              "                                                     [key], {});\n",
              "          if (!dataTable) return;\n",
              "\n",
              "          const docLinkHtml = 'Like what you see? Visit the ' +\n",
              "            '<a target=\"_blank\" href=https://colab.research.google.com/notebooks/data_table.ipynb>data table notebook</a>'\n",
              "            + ' to learn more about interactive tables.';\n",
              "          element.innerHTML = '';\n",
              "          dataTable['output_type'] = 'display_data';\n",
              "          await google.colab.output.renderOutput(dataTable, element);\n",
              "          const docLink = document.createElement('div');\n",
              "          docLink.innerHTML = docLinkHtml;\n",
              "          element.appendChild(docLink);\n",
              "        }\n",
              "      </script>\n",
              "    </div>\n",
              "  </div>\n",
              "  "
            ]
          },
          "metadata": {},
          "execution_count": 55
        }
      ],
      "source": [
        "df_ages.groupby(['ethnicity', 'gender']).describe()"
      ]
    },
    {
      "cell_type": "markdown",
      "source": [
        "**Evaluation**"
      ],
      "metadata": {
        "id": "_my3XYUTX_og"
      }
    },
    {
      "cell_type": "code",
      "execution_count": 56,
      "metadata": {
        "id": "fVARAPJWX_og"
      },
      "outputs": [],
      "source": [
        "dist_age_eth['data'] = 'GAN'"
      ]
    },
    {
      "cell_type": "code",
      "source": [
        "!pip install table_evaluator"
      ],
      "metadata": {
        "id": "jtjQKBkjX_og",
        "colab": {
          "base_uri": "https://localhost:8080/"
        },
        "outputId": "5d0f59af-64b3-46e7-c41c-c1af96833e0b"
      },
      "execution_count": 57,
      "outputs": [
        {
          "output_type": "stream",
          "name": "stdout",
          "text": [
            "Requirement already satisfied: table_evaluator in /usr/local/lib/python3.7/dist-packages (1.4.2)\n",
            "Requirement already satisfied: scikit-learn in /usr/local/lib/python3.7/dist-packages (from table_evaluator) (1.0.2)\n",
            "Requirement already satisfied: scipy in /usr/local/lib/python3.7/dist-packages (from table_evaluator) (1.4.1)\n",
            "Requirement already satisfied: dython==0.5.1 in /usr/local/lib/python3.7/dist-packages (from table_evaluator) (0.5.1)\n",
            "Requirement already satisfied: pandas in /usr/local/lib/python3.7/dist-packages (from table_evaluator) (1.3.5)\n",
            "Requirement already satisfied: tqdm in /usr/local/lib/python3.7/dist-packages (from table_evaluator) (4.64.0)\n",
            "Requirement already satisfied: numpy in /usr/local/lib/python3.7/dist-packages (from table_evaluator) (1.21.6)\n",
            "Requirement already satisfied: psutil in /usr/local/lib/python3.7/dist-packages (from table_evaluator) (5.4.8)\n",
            "Requirement already satisfied: seaborn<=0.11.1 in /usr/local/lib/python3.7/dist-packages (from table_evaluator) (0.11.1)\n",
            "Requirement already satisfied: matplotlib in /usr/local/lib/python3.7/dist-packages (from table_evaluator) (3.2.2)\n",
            "Requirement already satisfied: pyparsing!=2.0.4,!=2.1.2,!=2.1.6,>=2.0.1 in /usr/local/lib/python3.7/dist-packages (from matplotlib->table_evaluator) (3.0.8)\n",
            "Requirement already satisfied: cycler>=0.10 in /usr/local/lib/python3.7/dist-packages (from matplotlib->table_evaluator) (0.11.0)\n",
            "Requirement already satisfied: kiwisolver>=1.0.1 in /usr/local/lib/python3.7/dist-packages (from matplotlib->table_evaluator) (1.4.2)\n",
            "Requirement already satisfied: python-dateutil>=2.1 in /usr/local/lib/python3.7/dist-packages (from matplotlib->table_evaluator) (2.8.2)\n",
            "Requirement already satisfied: typing-extensions in /usr/local/lib/python3.7/dist-packages (from kiwisolver>=1.0.1->matplotlib->table_evaluator) (4.1.1)\n",
            "Requirement already satisfied: pytz>=2017.3 in /usr/local/lib/python3.7/dist-packages (from pandas->table_evaluator) (2022.1)\n",
            "Requirement already satisfied: six>=1.5 in /usr/local/lib/python3.7/dist-packages (from python-dateutil>=2.1->matplotlib->table_evaluator) (1.15.0)\n",
            "Requirement already satisfied: joblib>=0.11 in /usr/local/lib/python3.7/dist-packages (from scikit-learn->table_evaluator) (1.1.0)\n",
            "Requirement already satisfied: threadpoolctl>=2.0.0 in /usr/local/lib/python3.7/dist-packages (from scikit-learn->table_evaluator) (3.1.0)\n"
          ]
        }
      ]
    },
    {
      "cell_type": "code",
      "source": [
        "#https://pypi.org/project/table-evaluator/\n",
        "from table_evaluator import load_data, TableEvaluator\n"
      ],
      "metadata": {
        "id": "CnBPATxiX_og"
      },
      "execution_count": 58,
      "outputs": []
    },
    {
      "cell_type": "code",
      "source": [
        "final_df.head()"
      ],
      "metadata": {
        "id": "RrXR-R5qX_og",
        "colab": {
          "base_uri": "https://localhost:8080/",
          "height": 288
        },
        "outputId": "4de1430a-1848-4966-f93d-1815dafa835d"
      },
      "execution_count": 59,
      "outputs": [
        {
          "output_type": "execute_result",
          "data": {
            "text/plain": [
              "      age  ethnicity  gender  ethnicity_African American  ethnicity_Asian  \\\n",
              "0 60.0000   Hispanic  Female                      0.0000           0.0000   \n",
              "1 63.0000  Caucasian    Male                      0.0000           0.0000   \n",
              "2 57.0000  Caucasian  Female                      0.0000           0.0000   \n",
              "3 87.0000  Caucasian    Male                      0.0000           0.0000   \n",
              "4 87.0000  Caucasian    Male                      0.0000           0.0000   \n",
              "\n",
              "   ethnicity_Caucasian  ethnicity_Hispanic  ethnicity_Native American  \\\n",
              "0               0.0000              1.0000                     0.0000   \n",
              "1               1.0000              0.0000                     0.0000   \n",
              "2               1.0000              0.0000                     0.0000   \n",
              "3               1.0000              0.0000                     0.0000   \n",
              "4               1.0000              0.0000                     0.0000   \n",
              "\n",
              "   ethnicity_Other/Unknown  gender_Female  gender_Male   data  \n",
              "0                   0.0000         1.0000       0.0000  Truth  \n",
              "1                   0.0000         0.0000       1.0000  Truth  \n",
              "2                   0.0000         1.0000       0.0000  Truth  \n",
              "3                   0.0000         0.0000       1.0000  Truth  \n",
              "4                   0.0000         0.0000       1.0000  Truth  "
            ],
            "text/html": [
              "\n",
              "  <div id=\"df-6b58623d-2353-4d3e-acf1-f16f55a5e5b3\">\n",
              "    <div class=\"colab-df-container\">\n",
              "      <div>\n",
              "<style scoped>\n",
              "    .dataframe tbody tr th:only-of-type {\n",
              "        vertical-align: middle;\n",
              "    }\n",
              "\n",
              "    .dataframe tbody tr th {\n",
              "        vertical-align: top;\n",
              "    }\n",
              "\n",
              "    .dataframe thead th {\n",
              "        text-align: right;\n",
              "    }\n",
              "</style>\n",
              "<table border=\"1\" class=\"dataframe\">\n",
              "  <thead>\n",
              "    <tr style=\"text-align: right;\">\n",
              "      <th></th>\n",
              "      <th>age</th>\n",
              "      <th>ethnicity</th>\n",
              "      <th>gender</th>\n",
              "      <th>ethnicity_African American</th>\n",
              "      <th>ethnicity_Asian</th>\n",
              "      <th>ethnicity_Caucasian</th>\n",
              "      <th>ethnicity_Hispanic</th>\n",
              "      <th>ethnicity_Native American</th>\n",
              "      <th>ethnicity_Other/Unknown</th>\n",
              "      <th>gender_Female</th>\n",
              "      <th>gender_Male</th>\n",
              "      <th>data</th>\n",
              "    </tr>\n",
              "  </thead>\n",
              "  <tbody>\n",
              "    <tr>\n",
              "      <th>0</th>\n",
              "      <td>60.0000</td>\n",
              "      <td>Hispanic</td>\n",
              "      <td>Female</td>\n",
              "      <td>0.0000</td>\n",
              "      <td>0.0000</td>\n",
              "      <td>0.0000</td>\n",
              "      <td>1.0000</td>\n",
              "      <td>0.0000</td>\n",
              "      <td>0.0000</td>\n",
              "      <td>1.0000</td>\n",
              "      <td>0.0000</td>\n",
              "      <td>Truth</td>\n",
              "    </tr>\n",
              "    <tr>\n",
              "      <th>1</th>\n",
              "      <td>63.0000</td>\n",
              "      <td>Caucasian</td>\n",
              "      <td>Male</td>\n",
              "      <td>0.0000</td>\n",
              "      <td>0.0000</td>\n",
              "      <td>1.0000</td>\n",
              "      <td>0.0000</td>\n",
              "      <td>0.0000</td>\n",
              "      <td>0.0000</td>\n",
              "      <td>0.0000</td>\n",
              "      <td>1.0000</td>\n",
              "      <td>Truth</td>\n",
              "    </tr>\n",
              "    <tr>\n",
              "      <th>2</th>\n",
              "      <td>57.0000</td>\n",
              "      <td>Caucasian</td>\n",
              "      <td>Female</td>\n",
              "      <td>0.0000</td>\n",
              "      <td>0.0000</td>\n",
              "      <td>1.0000</td>\n",
              "      <td>0.0000</td>\n",
              "      <td>0.0000</td>\n",
              "      <td>0.0000</td>\n",
              "      <td>1.0000</td>\n",
              "      <td>0.0000</td>\n",
              "      <td>Truth</td>\n",
              "    </tr>\n",
              "    <tr>\n",
              "      <th>3</th>\n",
              "      <td>87.0000</td>\n",
              "      <td>Caucasian</td>\n",
              "      <td>Male</td>\n",
              "      <td>0.0000</td>\n",
              "      <td>0.0000</td>\n",
              "      <td>1.0000</td>\n",
              "      <td>0.0000</td>\n",
              "      <td>0.0000</td>\n",
              "      <td>0.0000</td>\n",
              "      <td>0.0000</td>\n",
              "      <td>1.0000</td>\n",
              "      <td>Truth</td>\n",
              "    </tr>\n",
              "    <tr>\n",
              "      <th>4</th>\n",
              "      <td>87.0000</td>\n",
              "      <td>Caucasian</td>\n",
              "      <td>Male</td>\n",
              "      <td>0.0000</td>\n",
              "      <td>0.0000</td>\n",
              "      <td>1.0000</td>\n",
              "      <td>0.0000</td>\n",
              "      <td>0.0000</td>\n",
              "      <td>0.0000</td>\n",
              "      <td>0.0000</td>\n",
              "      <td>1.0000</td>\n",
              "      <td>Truth</td>\n",
              "    </tr>\n",
              "  </tbody>\n",
              "</table>\n",
              "</div>\n",
              "      <button class=\"colab-df-convert\" onclick=\"convertToInteractive('df-6b58623d-2353-4d3e-acf1-f16f55a5e5b3')\"\n",
              "              title=\"Convert this dataframe to an interactive table.\"\n",
              "              style=\"display:none;\">\n",
              "        \n",
              "  <svg xmlns=\"http://www.w3.org/2000/svg\" height=\"24px\"viewBox=\"0 0 24 24\"\n",
              "       width=\"24px\">\n",
              "    <path d=\"M0 0h24v24H0V0z\" fill=\"none\"/>\n",
              "    <path d=\"M18.56 5.44l.94 2.06.94-2.06 2.06-.94-2.06-.94-.94-2.06-.94 2.06-2.06.94zm-11 1L8.5 8.5l.94-2.06 2.06-.94-2.06-.94L8.5 2.5l-.94 2.06-2.06.94zm10 10l.94 2.06.94-2.06 2.06-.94-2.06-.94-.94-2.06-.94 2.06-2.06.94z\"/><path d=\"M17.41 7.96l-1.37-1.37c-.4-.4-.92-.59-1.43-.59-.52 0-1.04.2-1.43.59L10.3 9.45l-7.72 7.72c-.78.78-.78 2.05 0 2.83L4 21.41c.39.39.9.59 1.41.59.51 0 1.02-.2 1.41-.59l7.78-7.78 2.81-2.81c.8-.78.8-2.07 0-2.86zM5.41 20L4 18.59l7.72-7.72 1.47 1.35L5.41 20z\"/>\n",
              "  </svg>\n",
              "      </button>\n",
              "      \n",
              "  <style>\n",
              "    .colab-df-container {\n",
              "      display:flex;\n",
              "      flex-wrap:wrap;\n",
              "      gap: 12px;\n",
              "    }\n",
              "\n",
              "    .colab-df-convert {\n",
              "      background-color: #E8F0FE;\n",
              "      border: none;\n",
              "      border-radius: 50%;\n",
              "      cursor: pointer;\n",
              "      display: none;\n",
              "      fill: #1967D2;\n",
              "      height: 32px;\n",
              "      padding: 0 0 0 0;\n",
              "      width: 32px;\n",
              "    }\n",
              "\n",
              "    .colab-df-convert:hover {\n",
              "      background-color: #E2EBFA;\n",
              "      box-shadow: 0px 1px 2px rgba(60, 64, 67, 0.3), 0px 1px 3px 1px rgba(60, 64, 67, 0.15);\n",
              "      fill: #174EA6;\n",
              "    }\n",
              "\n",
              "    [theme=dark] .colab-df-convert {\n",
              "      background-color: #3B4455;\n",
              "      fill: #D2E3FC;\n",
              "    }\n",
              "\n",
              "    [theme=dark] .colab-df-convert:hover {\n",
              "      background-color: #434B5C;\n",
              "      box-shadow: 0px 1px 3px 1px rgba(0, 0, 0, 0.15);\n",
              "      filter: drop-shadow(0px 1px 2px rgba(0, 0, 0, 0.3));\n",
              "      fill: #FFFFFF;\n",
              "    }\n",
              "  </style>\n",
              "\n",
              "      <script>\n",
              "        const buttonEl =\n",
              "          document.querySelector('#df-6b58623d-2353-4d3e-acf1-f16f55a5e5b3 button.colab-df-convert');\n",
              "        buttonEl.style.display =\n",
              "          google.colab.kernel.accessAllowed ? 'block' : 'none';\n",
              "\n",
              "        async function convertToInteractive(key) {\n",
              "          const element = document.querySelector('#df-6b58623d-2353-4d3e-acf1-f16f55a5e5b3');\n",
              "          const dataTable =\n",
              "            await google.colab.kernel.invokeFunction('convertToInteractive',\n",
              "                                                     [key], {});\n",
              "          if (!dataTable) return;\n",
              "\n",
              "          const docLinkHtml = 'Like what you see? Visit the ' +\n",
              "            '<a target=\"_blank\" href=https://colab.research.google.com/notebooks/data_table.ipynb>data table notebook</a>'\n",
              "            + ' to learn more about interactive tables.';\n",
              "          element.innerHTML = '';\n",
              "          dataTable['output_type'] = 'display_data';\n",
              "          await google.colab.output.renderOutput(dataTable, element);\n",
              "          const docLink = document.createElement('div');\n",
              "          docLink.innerHTML = docLinkHtml;\n",
              "          element.appendChild(docLink);\n",
              "        }\n",
              "      </script>\n",
              "    </div>\n",
              "  </div>\n",
              "  "
            ]
          },
          "metadata": {},
          "execution_count": 59
        }
      ]
    },
    {
      "cell_type": "code",
      "source": [
        "final_df['data'] = 'Truth'"
      ],
      "metadata": {
        "id": "_Zo_XwhtX_oh"
      },
      "execution_count": 60,
      "outputs": []
    },
    {
      "cell_type": "code",
      "source": [
        "df_true = final_df[['age', 'ethnicity', 'gender']].reset_index().drop('index', axis = True)"
      ],
      "metadata": {
        "id": "v1CiCtFnX_oh"
      },
      "execution_count": 61,
      "outputs": []
    },
    {
      "cell_type": "code",
      "source": [
        "dist_age_eth.reset_index(level = 0, inplace = True)"
      ],
      "metadata": {
        "id": "5-_Di-F9TtFZ"
      },
      "execution_count": 62,
      "outputs": []
    },
    {
      "cell_type": "code",
      "source": [
        "df_all = final_df[['age', 'ethnicity', 'gender', 'data']].append(dist_age_eth.drop('index', axis = 1)).reset_index(level = 0).drop('index', axis = 1)"
      ],
      "metadata": {
        "id": "YXHKxg3qULcU"
      },
      "execution_count": 63,
      "outputs": []
    },
    {
      "cell_type": "code",
      "source": [
        "table_evaluator = TableEvaluator(df_all[df_all['data'] == 'Truth'][['age', 'ethnicity', 'gender']], \n",
        "                                 df_all[df_all['data'] == 'GAN'][['age', 'ethnicity', 'gender']], cat_cols=['ethnicity', 'gender'])\n"
      ],
      "metadata": {
        "id": "PslivqmPX_oh"
      },
      "execution_count": 64,
      "outputs": []
    },
    {
      "cell_type": "code",
      "source": [
        "table_evaluator.evaluate(target_col='ethnicity')"
      ],
      "metadata": {
        "id": "e_rMRfKMX_oh",
        "colab": {
          "base_uri": "https://localhost:8080/"
        },
        "outputId": "8184a30d-f410-40c0-e58b-5ec6a8f95774"
      },
      "execution_count": 65,
      "outputs": [
        {
          "output_type": "stream",
          "name": "stdout",
          "text": [
            "\n",
            "Classifier F1-scores and their Jaccard similarities::\n",
            "                             f1_real  f1_fake  jaccard_similarity\n",
            "index                                                            \n",
            "DecisionTreeClassifier_fake   0.7402   0.6417              0.6230\n",
            "DecisionTreeClassifier_real   0.7854   0.5492              0.4556\n",
            "LogisticRegression_fake       0.7992   0.7992              1.0000\n",
            "LogisticRegression_real       0.7933   0.7933              1.0000\n",
            "MLPClassifier_fake            0.7992   0.7992              1.0000\n",
            "MLPClassifier_real            0.7933   0.7933              1.0000\n",
            "RandomForestClassifier_fake   0.7283   0.6575              0.6256\n",
            "RandomForestClassifier_real   0.7854   0.5531              0.4619\n",
            "\n",
            "Privacy results:\n",
            "                                            result\n",
            "Duplicate rows between sets (real/fake)  (2463, 4)\n",
            "nearest neighbor mean                       0.0370\n",
            "nearest neighbor std                        0.1605\n",
            "\n",
            "Miscellaneous results:\n",
            "                                  Result\n",
            "Column Correlation Distance RMSE  0.0764\n",
            "Column Correlation distance MAE   0.0506\n",
            "\n",
            "Results:\n",
            "                                                result\n",
            "Basic statistics                                0.2000\n",
            "Correlation column correlations                -0.1034\n",
            "Mean Correlation between fake and real columns  0.9943\n",
            "1 - MAPE Estimator results                      0.8967\n",
            "Similarity Score                                0.4969\n"
          ]
        }
      ]
    },
    {
      "cell_type": "code",
      "source": [
        ""
      ],
      "metadata": {
        "id": "3OG8rqpLX_oh"
      },
      "execution_count": 65,
      "outputs": []
    },
    {
      "cell_type": "code",
      "source": [
        "df_true.append(dist_age_eth[['age', 'ethnicity', 'gender']]).to_csv('dist_age_eth_gender_output.csv')"
      ],
      "metadata": {
        "id": "IqflnNEIX_oh"
      },
      "execution_count": 66,
      "outputs": []
    },
    {
      "cell_type": "code",
      "source": [
        ""
      ],
      "metadata": {
        "id": "rGytAGNOX_oh"
      },
      "execution_count": 66,
      "outputs": []
    },
    {
      "cell_type": "code",
      "source": [
        "table_evaluator.visual_evaluation()"
      ],
      "metadata": {
        "id": "03o0aJCWX_oh",
        "colab": {
          "base_uri": "https://localhost:8080/",
          "height": 1000
        },
        "outputId": "a2206b38-2606-4f6b-9ec1-0e9a48cbd5a0"
      },
      "execution_count": 67,
      "outputs": [
        {
          "output_type": "display_data",
          "data": {
            "text/plain": [
              "<Figure size 720x360 with 2 Axes>"
            ],
            "image/png": "[encoded data removed]"
          },
          "metadata": {}
        },
        {
          "output_type": "display_data",
          "data": {
            "text/plain": [
              "<Figure size 1152x864 with 8 Axes>"
            ],
            "image/png": "[encoded data removed]"
          },
          "metadata": {}
        },
        {
          "output_type": "display_data",
          "data": {
            "text/plain": [
              "<Figure size 1152x432 with 3 Axes>"
            ],
            "image/png": "[encoded data removed]"
          },
          "metadata": {}
        },
        {
          "output_type": "display_data",
          "data": {
            "text/plain": [
              "<Figure size 1728x504 with 6 Axes>"
            ],
            "image/png": "[encoded data removed]"
          },
          "metadata": {}
        },
        {
          "output_type": "display_data",
          "data": {
            "text/plain": [
              "<Figure size 864x432 with 2 Axes>"
            ],
            "image/png": "[encoded data removed]"
          },
          "metadata": {}
        }
      ]
    },
    {
      "cell_type": "code",
      "source": [
        ""
      ],
      "metadata": {
        "id": "WeNF0FkRUca_"
      },
      "execution_count": 67,
      "outputs": []
    }
  ],
  "metadata": {
    "interpreter": {
      "hash": "34b722ad9db4b3bab2fc22ea7ad4e4dafa3a71a0a38143cc4f1aba484bf1fe4b"
    },
    "kernelspec": {
      "display_name": "Python 3.9 (tensorflow)",
      "language": "python",
      "name": "tensorflow"
    },
    "language_info": {
      "codemirror_mode": {
        "name": "ipython",
        "version": 3
      },
      "file_extension": ".py",
      "mimetype": "text/x-python",
      "name": "python",
      "nbconvert_exporter": "python",
      "pygments_lexer": "ipython3",
      "version": "3.9.10"
    },
    "colab": {
      "name": "age_ethnicity_gender_gan_DF.ipynb",
      "provenance": []
    }
  },
  "nbformat": 4,
  "nbformat_minor": 0
}