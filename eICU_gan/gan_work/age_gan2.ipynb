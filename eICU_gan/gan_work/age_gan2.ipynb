{
 "cells": [
  {
   "cell_type": "code",
   "execution_count": 2,
   "metadata": {},
   "outputs": [],
   "source": [
    "import seaborn as sns\n",
    "import matplotlib.pyplot as plt\n",
    "\n",
    "import sys\n",
    "import numpy as np\n",
    "import tensorflow.keras as keras\n",
    "import tensorflow.keras.backend as K\n",
    "from tensorflow.keras.layers import Input, Dense, Activation, LeakyReLU, BatchNormalization, Dropout\n",
    "from tensorflow.keras.models import Sequential\n",
    "from tensorflow.keras.optimizers import Adam\n",
    "from tensorflow.keras import Model\n",
    "import matplotlib.pyplot as plt\n",
    "import pandas as pd\n",
    "import os\n",
    "\n",
    "from sklearn.preprocessing import StandardScaler\n",
    "import tensorflow as tf\n",
    "\n",
    "import seaborn as sns\n",
    "import matplotlib.pyplot as plt\n",
    "\n",
    "pd.set_option('display.max_rows', None)"
   ]
  },
  {
   "cell_type": "code",
   "execution_count": 3,
   "metadata": {},
   "outputs": [],
   "source": [
    "class GAN():\n",
    "    def __init__(self, train_data,\n",
    "                 noise_dim=50, \n",
    "                 data_shape=1, \n",
    "                 d_learning_rate=1e-5, \n",
    "                 g_learning_rate=1e-6, \n",
    "                 batch_size=70, \n",
    "                 model_load_Path=None, \n",
    "                 start_epoch=0):\n",
    "\n",
    "        self.noise_dim = noise_dim\n",
    "        self.data_shape = data_shape # output shape of the generator and goes to discriminator\n",
    "        self.train_data = train_data # train data\n",
    "        self.d_optimizer = tf.keras.optimizers.Adam(d_learning_rate)\n",
    "        self.g_optimizer = tf.keras.optimizers.Adam(g_learning_rate)\n",
    "        self.batch_size = batch_size\n",
    "        self.start_epoch = start_epoch\n",
    "\n",
    "        self.discriminator = self.build_discriminator()\n",
    "        self.generator = self.build_generator()\n",
    "\n",
    "\n",
    "        if model_load_Path != None:\n",
    "            self.discriminator.set_weights(tf.keras.models.load_model(os.path.join(model_load_Path, \"age_gan_d.h5\")).get_weights())\n",
    "            self.generator.set_weights(tf.keras.models.load_model(os.path.join(model_load_Path, \"age_gan_g.h5\"), custom_objects={'wrapperGenerator': wrapperGenerator}).get_weights()) \n",
    "        \n",
    "        self.discriminator.compile(loss='mse',\n",
    "            optimizer=self.d_optimizer,\n",
    "            metrics=['accuracy'])\n",
    "        \n",
    "        # The generator takes noise as input and generated the events \n",
    "        z = Input(shape=(self.noise_dim,))\n",
    "\n",
    "        # e == age\n",
    "        e = self.generator(z)\n",
    "        print(e.shape)\n",
    "        \n",
    "        # For the combined model we will only train the generator\n",
    "        self.discriminator.trainable = False\n",
    "\n",
    "        # The valid takes generated images as input and determines validity\n",
    "        valid = self.discriminator(e)\n",
    "        \n",
    "        # The combined model  (stacked generator and discriminator)\n",
    "        # Trains generator to fool discriminator\n",
    "        # takes noise, return output\n",
    "        self.combined = Model(z, [valid])\n",
    "        self.combined.compile(loss='mse', optimizer=self.g_optimizer)\n",
    "    \n",
    "    def build_generator(self):\n",
    "        \"Build the generator model\"\n",
    "        inputs = Input(shape=(self.noise_dim,))\n",
    "        hidden = Dense(64)(inputs) #\n",
    "        hidden = LeakyReLU(alpha=0.2)(hidden)\n",
    "#         hidden = BatchNormalization()(hidden)\n",
    "        hidden = Dense(64)(hidden)\n",
    "        hidden = LeakyReLU(alpha=0.2)(hidden)\n",
    "#         hidden = BatchNormalization()(hidden)\n",
    "        #hidden = Dense(64)(hidden)\n",
    "        #hidden = LeakyReLU(alpha=0.2)(hidden)\n",
    "#         hidden = BatchNormalization()(hidden)\n",
    "        #hidden = Dense(64)(hidden)\n",
    "        #hidden = LeakyReLU(alpha=0.2)(hidden)\n",
    "#         hidden = BatchNormalization()(hidden)\n",
    "        output = Dense(self.data_shape, activation=\"sigmoid\")(hidden)\n",
    "        #output = Dense(self.data_shape, activation=\"linear\")(hidden)\n",
    "\n",
    "        generator = Model(inputs=inputs, outputs=output, name=\"generator\")\n",
    "        generator.summary()\n",
    "\n",
    "        return generator\n",
    "\n",
    "\n",
    "    def build_discriminator(self):\n",
    "        \"build the discriminator model\"\n",
    "        events = Input(shape=(self.data_shape,))\n",
    "#         norm1 = Input(shape=(1,))\n",
    "#         norm2 = Input(shape=(1,))\n",
    "#         h = tf.keras.layers.Concatenate()([events, norm1, norm2])\n",
    "        h = Dense(64, input_shape=(self.data_shape,))(events) # 128\n",
    "        h = LeakyReLU(alpha=0.2)(h)\n",
    "        h = Dropout(0.1)(h)\n",
    "        #h = Dense(128)(h)\n",
    "        #h = LeakyReLU(alpha=0.2)(h)\n",
    "        #h = Dropout(0.1)(h)\n",
    "        h = Dense(64)(h) #32\n",
    "        h = LeakyReLU(alpha=0.2)(h)\n",
    "        h = Dropout(0.1)(h)\n",
    "        h = Dense(1, activation=\"sigmoid\")(h)\n",
    "        model = Model(events, h, name=\"discriminator\")\n",
    "        model.summary()\n",
    "        return model\n",
    "\n",
    "        \n",
    "    def train(self, epochs, sample_interval=50):\n",
    "        fake = np.zeros((self.batch_size, 1)) \n",
    "        valid = np.ones((self.batch_size, 1))\n",
    "\n",
    "        for epoch in range(self.start_epoch, epochs):\n",
    "            # randomly selected indices for the samples for the batch\n",
    "            indices = np.random.randint(0, self.train_data.shape[0], self.batch_size)\n",
    "\n",
    "            evnts = self.train_data[indices]\n",
    "\n",
    "            # \n",
    "            noise = tf.random.normal((self.batch_size, self.noise_dim), 0, 1)\n",
    "\n",
    "            gen_data = self.generator.predict(noise)\n",
    "            \n",
    "            # Train the discriminator\n",
    "            # TODO: intertwine real and fake to have it train on both at once\n",
    "            d_loss_real = self.discriminator.train_on_batch(evnts, valid)\n",
    "            d_loss_fake = self.discriminator.train_on_batch(gen_data, fake)\n",
    "            d_loss = 0.5 * np.add(d_loss_real, d_loss_fake)\n",
    "\n",
    "            g_loss = self.combined.train_on_batch(noise, [valid])\n",
    "\n",
    "            if epoch % sample_interval == 0 or epoch == (epochs - 1):\n",
    "                #self.generator.save(\"/work/data_science/kishan/Theory/2022.03.20_withNorm_generator_4Params_v2.h5\")\n",
    "                #self.discriminator.save(\"/work/data_science/kishan/Theory/2022.03.20_withNorm_discriminator_4Params_v2.h5\")\n",
    "                \n",
    "                num = 2520\n",
    "                gen_data = self.generate(num)\n",
    "                \n",
    "                # plot generated and real\n",
    "                sns.histplot(gen_data, bins=70, label='GAN')\n",
    "                sns.histplot(self.train_data, bins=70, color='orange', label='Truth')\n",
    "                plt.legend()\n",
    "                plt.show()\n",
    "\n",
    "    def generate(self, n=None):\n",
    "        if n == None:\n",
    "            n = self.train_data.shape[0]\n",
    "\n",
    "        print(\"Generating: \", n, \" events...\")\n",
    "        input_noise = tf.random.normal((n, self.noise_dim), 0, 1)\n",
    "        events = self.generator(input_noise)\n",
    "\n",
    "        return events.numpy()"
   ]
  },
  {
   "cell_type": "code",
   "execution_count": 4,
   "metadata": {},
   "outputs": [
    {
     "name": "stdout",
     "output_type": "stream",
     "text": [
      "length:  2520\n",
      "[(87,) (87,) (76,) (34,) (61,)]\n",
      "length:  2520\n",
      "[87 87 76 34 61]\n",
      "(2520, 1)\n",
      "min age:  15\n",
      "mean age:  63.28452380952381\n",
      "max age:  90\n",
      "std age:  17.721668608381833\n",
      "[0.96       0.96       0.81333333 0.25333333 0.61333333]\n",
      "============================================================\n",
      "FILTERED:\n",
      "length:  2364\n",
      "[87 87 76 34 61]\n",
      "mean age:  61.59644670050761\n",
      "std age:  16.992321971601875\n",
      "[1.         1.         0.84722222 0.26388889 0.63888889]\n"
     ]
    }
   ],
   "source": [
    "ages_np = np.load(\"../data/eICU_age.npy\")\n",
    "print('length: ', len(ages_np))\n",
    "print(ages_np[0:5])\n",
    "ages_np_ary = np.asarray(ages_np.flatten().tolist()).flatten()\n",
    "print('length: ', len(ages_np_ary))\n",
    "print(ages_np_ary[0:5])\n",
    "\n",
    "df_ages = pd.DataFrame(ages_np_ary, columns=['age'])\n",
    "print(df_ages.shape)\n",
    "df_ages.head()\n",
    "\n",
    "mean_age = ages_np_ary.mean()\n",
    "std_age = ages_np_ary.std()\n",
    "min_age = ages_np_ary.min()\n",
    "max_age = ages_np_ary.max()\n",
    "\n",
    "print(\"min age: \", min_age)\n",
    "print(\"mean age: \", mean_age)\n",
    "print(\"max age: \", max_age)\n",
    "print(\"std age: \", std_age)\n",
    "\n",
    "scaled_ages = [(x - min_age)/(max_age - min_age) for x in ages_np_ary]\n",
    "\n",
    "scaled_ages = np.array(scaled_ages)\n",
    "\n",
    "print(scaled_ages[0:5])\n",
    "\n",
    "# create data set without 90 or greater since that was a category flattened\n",
    "print(\"==\" * 30)\n",
    "print(\"FILTERED:\")\n",
    "filter_arr = ages_np_ary < 88\n",
    "ages_np_filtered = ages_np_ary[filter_arr]\n",
    "print('length: ', len(ages_np_filtered))\n",
    "print(ages_np_filtered[0:5])\n",
    "\n",
    "mean_age_filtered = ages_np_filtered.mean()\n",
    "std_age_filtered = ages_np_filtered.std()\n",
    "min_age_filtered = ages_np_filtered.min()\n",
    "max_age_filtered = ages_np_filtered.max()\n",
    "\n",
    "print(\"mean age: \", mean_age_filtered)\n",
    "print(\"std age: \", std_age_filtered)\n",
    "\n",
    "scaled_ages_filtered = [(x - min_age_filtered)/(max_age_filtered - min_age_filtered) for x in ages_np_filtered]\n",
    "scaled_ages_filtered = np.array(scaled_ages_filtered)\n",
    "\n",
    "print(scaled_ages_filtered[0:5])\n",
    "\n"
   ]
  },
  {
   "cell_type": "code",
   "execution_count": 5,
   "metadata": {},
   "outputs": [
    {
     "data": {
      "text/plain": [
       "<function matplotlib.pyplot.show(close=None, block=None)>"
      ]
     },
     "execution_count": 5,
     "metadata": {},
     "output_type": "execute_result"
    },
    {
     "data": {
      "image/png": "[encoded data removed]",
      "text/plain": [
       "<Figure size 432x288 with 1 Axes>"
      ]
     },
     "metadata": {
      "needs_background": "light"
     },
     "output_type": "display_data"
    }
   ],
   "source": [
    "sns.histplot(ages_np_ary, bins=70, color='orange', label='Truth', alpha=0.3)\n",
    "plt.legend()\n",
    "plt.show"
   ]
  },
  {
   "cell_type": "code",
   "execution_count": 6,
   "metadata": {},
   "outputs": [
    {
     "name": "stdout",
     "output_type": "stream",
     "text": [
      "Model: \"discriminator\"\n",
      "_________________________________________________________________\n",
      " Layer (type)                Output Shape              Param #   \n",
      "=================================================================\n",
      " input_1 (InputLayer)        [(None, 1)]               0         \n",
      "                                                                 \n",
      " dense (Dense)               (None, 64)                128       \n",
      "                                                                 \n",
      " leaky_re_lu (LeakyReLU)     (None, 64)                0         \n",
      "                                                                 \n",
      " dropout (Dropout)           (None, 64)                0         \n",
      "                                                                 \n",
      " dense_1 (Dense)             (None, 64)                4160      \n",
      "                                                                 \n",
      " leaky_re_lu_1 (LeakyReLU)   (None, 64)                0         \n",
      "                                                                 \n",
      " dropout_1 (Dropout)         (None, 64)                0         \n",
      "                                                                 \n",
      " dense_2 (Dense)             (None, 1)                 65        \n",
      "                                                                 \n",
      "=================================================================\n",
      "Total params: 4,353\n",
      "Trainable params: 4,353\n",
      "Non-trainable params: 0\n",
      "_________________________________________________________________\n",
      "Model: \"generator\"\n",
      "_________________________________________________________________\n",
      " Layer (type)                Output Shape              Param #   \n",
      "=================================================================\n",
      " input_2 (InputLayer)        [(None, 50)]              0         \n",
      "                                                                 \n",
      " dense_3 (Dense)             (None, 64)                3264      \n",
      "                                                                 \n",
      " leaky_re_lu_2 (LeakyReLU)   (None, 64)                0         \n",
      "                                                                 \n",
      " dense_4 (Dense)             (None, 64)                4160      \n",
      "                                                                 \n",
      " leaky_re_lu_3 (LeakyReLU)   (None, 64)                0         \n",
      "                                                                 \n",
      " dense_5 (Dense)             (None, 1)                 65        \n",
      "                                                                 \n",
      "=================================================================\n",
      "Total params: 7,489\n",
      "Trainable params: 7,489\n",
      "Non-trainable params: 0\n",
      "_________________________________________________________________\n",
      "(None, 1)\n"
     ]
    }
   ],
   "source": [
    "gan = GAN(scaled_ages, noise_dim=50, data_shape=1, d_learning_rate=8e-4, g_learning_rate=8e-5, batch_size=560)"
   ]
  },
  {
   "cell_type": "code",
   "execution_count": 7,
   "metadata": {},
   "outputs": [
    {
     "name": "stdout",
     "output_type": "stream",
     "text": [
      "Generating:  2520  events...\n"
     ]
    },
    {
     "data": {
      "image/png": "[encoded data removed]",
      "text/plain": [
       "<Figure size 432x288 with 1 Axes>"
      ]
     },
     "metadata": {
      "needs_background": "light"
     },
     "output_type": "display_data"
    },
    {
     "name": "stdout",
     "output_type": "stream",
     "text": [
      "Generating:  2520  events...\n"
     ]
    },
    {
     "data": {
      "image/png": "[encoded data removed]",
      "text/plain": [
       "<Figure size 432x288 with 1 Axes>"
      ]
     },
     "metadata": {
      "needs_background": "light"
     },
     "output_type": "display_data"
    },
    {
     "name": "stdout",
     "output_type": "stream",
     "text": [
      "Generating:  2520  events...\n"
     ]
    },
    {
     "data": {
      "image/png": "[encoded data removed]",
      "text/plain": [
       "<Figure size 432x288 with 1 Axes>"
      ]
     },
     "metadata": {
      "needs_background": "light"
     },
     "output_type": "display_data"
    },
    {
     "name": "stdout",
     "output_type": "stream",
     "text": [
      "Generating:  2520  events...\n"
     ]
    },
    {
     "data": {
      "image/png": "[encoded data removed]",
      "text/plain": [
       "<Figure size 432x288 with 1 Axes>"
      ]
     },
     "metadata": {
      "needs_background": "light"
     },
     "output_type": "display_data"
    }
   ],
   "source": [
    "gan.train(15000, sample_interval=5000)"
   ]
  },
  {
   "cell_type": "code",
   "execution_count": 8,
   "metadata": {},
   "outputs": [
    {
     "name": "stdout",
     "output_type": "stream",
     "text": [
      "Generating:  2520  events...\n"
     ]
    }
   ],
   "source": [
    "syn_data = gan.generate(2520)\n",
    "inv_scaled_gen_ages = [(val * (max_age-min_age)) + min_age for val in syn_data]"
   ]
  },
  {
   "cell_type": "code",
   "execution_count": 9,
   "metadata": {},
   "outputs": [
    {
     "name": "stdout",
     "output_type": "stream",
     "text": [
      "15.491421\n",
      "60.222538\n",
      "89.945816\n",
      "17.987925\n"
     ]
    }
   ],
   "source": [
    "print(np.array(inv_scaled_gen_ages).min())\n",
    "print(np.array(inv_scaled_gen_ages).mean())\n",
    "print(np.array(inv_scaled_gen_ages).max())\n",
    "print(np.array(inv_scaled_gen_ages).std())"
   ]
  },
  {
   "cell_type": "code",
   "execution_count": 16,
   "metadata": {},
   "outputs": [],
   "source": [
    "inv_scaled_gen_ages_np = np.array(inv_scaled_gen_ages)"
   ]
  },
  {
   "cell_type": "code",
   "execution_count": 18,
   "metadata": {},
   "outputs": [
    {
     "data": {
      "text/plain": [
       "array([67.08259 , 52.15719 , 77.064476, 69.16207 , 66.5374  ],\n",
       "      dtype=float32)"
      ]
     },
     "execution_count": 18,
     "metadata": {},
     "output_type": "execute_result"
    }
   ],
   "source": [
    "inv_scaled_gen_ages_np.flatten()[0:5]"
   ]
  },
  {
   "cell_type": "code",
   "execution_count": 20,
   "metadata": {},
   "outputs": [
    {
     "data": {
      "text/plain": [
       "<function matplotlib.pyplot.show(close=None, block=None)>"
      ]
     },
     "execution_count": 20,
     "metadata": {},
     "output_type": "execute_result"
    },
    {
     "data": {
      "image/png": "[encoded data removed]",
      "text/plain": [
       "<Figure size 432x288 with 1 Axes>"
      ]
     },
     "metadata": {
      "needs_background": "light"
     },
     "output_type": "display_data"
    }
   ],
   "source": [
    "sns.histplot(ages_np_ary, bins=70, label='GAN')\n",
    "sns.histplot(inv_scaled_gen_ages_np.flatten(), bins=70, color='orange', label='Truth', alpha=0.3)\n",
    "plt.title('True eICU age and generated ICU age distributions')\n",
    "plt.xlabel('age')\n",
    "plt.legend()\n",
    "plt.show"
   ]
  },
  {
   "cell_type": "code",
   "execution_count": 9,
   "metadata": {},
   "outputs": [
    {
     "name": "stdout",
     "output_type": "stream",
     "text": [
      "63.28452380952381\n",
      "17.721668608381833\n"
     ]
    }
   ],
   "source": [
    "print(ages_np_ary.mean())\n",
    "print(ages_np_ary.std())"
   ]
  },
  {
   "cell_type": "code",
   "execution_count": 10,
   "metadata": {},
   "outputs": [
    {
     "data": {
      "text/plain": [
       "<function matplotlib.pyplot.show(close=None, block=None)>"
      ]
     },
     "execution_count": 10,
     "metadata": {},
     "output_type": "execute_result"
    },
    {
     "data": {
      "image/png": "[encoded data removed]",
      "text/plain": [
       "<Figure size 432x288 with 1 Axes>"
      ]
     },
     "metadata": {
      "needs_background": "light"
     },
     "output_type": "display_data"
    }
   ],
   "source": [
    "sns.histplot(syn_data, bins=70, label='GAN')\n",
    "sns.histplot(scaled_ages, bins=70, color='orange', label='Truth', alpha=0.3)\n",
    "plt.title('True eICU age and generated ICU age distributions')\n",
    "plt.xlabel('Scaled age')\n",
    "plt.legend()\n",
    "plt.show"
   ]
  },
  {
   "cell_type": "code",
   "execution_count": null,
   "metadata": {},
   "outputs": [],
   "source": [
    "gan_filtered = GAN(scaled_ages_filtered, noise_dim=250, data_shape=1, d_learning_rate=8e-4, g_learning_rate=8e-5, batch_size=197)"
   ]
  },
  {
   "cell_type": "code",
   "execution_count": null,
   "metadata": {},
   "outputs": [],
   "source": [
    "gan_filtered.train(15000, sample_interval=5000)"
   ]
  },
  {
   "cell_type": "code",
   "execution_count": null,
   "metadata": {},
   "outputs": [],
   "source": [
    "syn_data_fil = gan_filtered.generate(2520)\n",
    "sns.histplot(syn_data_fil, bins=70, label='GAN')\n",
    "sns.histplot(scaled_ages_filtered, bins=70, color='orange', label='Truth', alpha=0.3)\n",
    "plt.legend()\n",
    "plt.show"
   ]
  },
  {
   "cell_type": "code",
   "execution_count": null,
   "metadata": {},
   "outputs": [],
   "source": []
  }
 ],
 "metadata": {
  "interpreter": {
   "hash": "34b722ad9db4b3bab2fc22ea7ad4e4dafa3a71a0a38143cc4f1aba484bf1fe4b"
  },
  "kernelspec": {
   "display_name": "Python 3.9.5 64-bit",
   "language": "python",
   "name": "python3"
  },
  "language_info": {
   "codemirror_mode": {
    "name": "ipython",
    "version": 3
   },
   "file_extension": ".py",
   "mimetype": "text/x-python",
   "name": "python",
   "nbconvert_exporter": "python",
   "pygments_lexer": "ipython3",
   "version": "3.9.5"
  },
  "orig_nbformat": 4
 },
 "nbformat": 4,
 "nbformat_minor": 2
}
