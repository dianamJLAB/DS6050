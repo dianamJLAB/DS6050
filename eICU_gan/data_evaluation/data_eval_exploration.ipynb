{
 "cells": [
  {
   "cell_type": "markdown",
   "metadata": {},
   "source": [
    "# Initial investigation and exploration of tabular GAN data evaluation techniques\n",
    "\n",
    "\n",
    "### First, install the Sythetic Data Vault Library\n",
    "which include data evaluation code that we can use for our project.\n",
    "\n",
    "**References:**\n",
    "1. https://hub.gke2.mybinder.org/user/sdv-dev-sdv-uudgqste/notebooks/tutorials/evaluation/Evaluating_Synthetic_Data.ipynb\n",
    "2. https://pypi.org/project/sdv/"
   ]
  },
  {
   "cell_type": "code",
   "execution_count": 2,
   "metadata": {},
   "outputs": [],
   "source": [
    "#pip install sdv"
   ]
  },
  {
   "cell_type": "code",
   "execution_count": 1,
   "metadata": {},
   "outputs": [],
   "source": [
    "from sdv.evaluation import evaluate\n",
    "import pandas as pd\n",
    "import numpy as np\n",
    "import seaborn as sns\n",
    "import matplotlib.pyplot as plt\n",
    "\n",
    "# do not show warnings in jupyter notebook\n",
    "import warnings\n",
    "warnings.filterwarnings('ignore')"
   ]
  },
  {
   "cell_type": "code",
   "execution_count": 2,
   "metadata": {},
   "outputs": [],
   "source": [
    "df_real_allcols = pd.read_csv('../data/data_3D_pasthistories.csv')\n",
    "df_syn_CTGAN = pd.read_csv('../data/CTGAN_patientHist.csv')"
   ]
  },
  {
   "cell_type": "code",
   "execution_count": 3,
   "metadata": {},
   "outputs": [],
   "source": [
    "# removing the \"data\" column which is not needed\n",
    "df_syn_CTGAN = df_syn_CTGAN.drop(columns=['data'])\n",
    "df_real = df_real_allcols[df_syn_CTGAN.columns]"
   ]
  },
  {
   "cell_type": "code",
   "execution_count": 9,
   "metadata": {},
   "outputs": [
    {
     "data": {
      "text/html": [
       "<div>\n",
       "<style scoped>\n",
       "    .dataframe tbody tr th:only-of-type {\n",
       "        vertical-align: middle;\n",
       "    }\n",
       "\n",
       "    .dataframe tbody tr th {\n",
       "        vertical-align: top;\n",
       "    }\n",
       "\n",
       "    .dataframe thead th {\n",
       "        text-align: right;\n",
       "    }\n",
       "</style>\n",
       "<table border=\"1\" class=\"dataframe\">\n",
       "  <thead>\n",
       "    <tr style=\"text-align: right;\">\n",
       "      <th></th>\n",
       "      <th>metric</th>\n",
       "      <th>name</th>\n",
       "      <th>raw_score</th>\n",
       "      <th>normalized_score</th>\n",
       "      <th>min_value</th>\n",
       "      <th>max_value</th>\n",
       "      <th>goal</th>\n",
       "      <th>error</th>\n",
       "    </tr>\n",
       "  </thead>\n",
       "  <tbody>\n",
       "    <tr>\n",
       "      <th>0</th>\n",
       "      <td>CSTest</td>\n",
       "      <td>Chi-Squared</td>\n",
       "      <td>0.711462</td>\n",
       "      <td>0.711462</td>\n",
       "      <td>0.0</td>\n",
       "      <td>1.0</td>\n",
       "      <td>MAXIMIZE</td>\n",
       "      <td>None</td>\n",
       "    </tr>\n",
       "    <tr>\n",
       "      <th>1</th>\n",
       "      <td>KSTest</td>\n",
       "      <td>Inverted Kolmogorov-Smirnov D statistic</td>\n",
       "      <td>0.859303</td>\n",
       "      <td>0.859303</td>\n",
       "      <td>0.0</td>\n",
       "      <td>1.0</td>\n",
       "      <td>MAXIMIZE</td>\n",
       "      <td>None</td>\n",
       "    </tr>\n",
       "    <tr>\n",
       "      <th>2</th>\n",
       "      <td>LogisticDetection</td>\n",
       "      <td>LogisticRegression Detection</td>\n",
       "      <td>0.000312</td>\n",
       "      <td>0.000312</td>\n",
       "      <td>0.0</td>\n",
       "      <td>1.0</td>\n",
       "      <td>MAXIMIZE</td>\n",
       "      <td>None</td>\n",
       "    </tr>\n",
       "    <tr>\n",
       "      <th>3</th>\n",
       "      <td>DiscreteKLDivergence</td>\n",
       "      <td>Discrete Kullback–Leibler Divergence</td>\n",
       "      <td>0.732370</td>\n",
       "      <td>0.732370</td>\n",
       "      <td>0.0</td>\n",
       "      <td>1.0</td>\n",
       "      <td>MAXIMIZE</td>\n",
       "      <td>None</td>\n",
       "    </tr>\n",
       "    <tr>\n",
       "      <th>4</th>\n",
       "      <td>ContinuousKLDivergence</td>\n",
       "      <td>Continuous Kullback–Leibler Divergence</td>\n",
       "      <td>0.890274</td>\n",
       "      <td>0.890274</td>\n",
       "      <td>0.0</td>\n",
       "      <td>1.0</td>\n",
       "      <td>MAXIMIZE</td>\n",
       "      <td>None</td>\n",
       "    </tr>\n",
       "  </tbody>\n",
       "</table>\n",
       "</div>"
      ],
      "text/plain": [
       "                   metric                                     name  raw_score  \\\n",
       "0                  CSTest                              Chi-Squared   0.711462   \n",
       "1                  KSTest  Inverted Kolmogorov-Smirnov D statistic   0.859303   \n",
       "2       LogisticDetection             LogisticRegression Detection   0.000312   \n",
       "3    DiscreteKLDivergence     Discrete Kullback–Leibler Divergence   0.732370   \n",
       "4  ContinuousKLDivergence   Continuous Kullback–Leibler Divergence   0.890274   \n",
       "\n",
       "   normalized_score  min_value  max_value      goal error  \n",
       "0          0.711462        0.0        1.0  MAXIMIZE  None  \n",
       "1          0.859303        0.0        1.0  MAXIMIZE  None  \n",
       "2          0.000312        0.0        1.0  MAXIMIZE  None  \n",
       "3          0.732370        0.0        1.0  MAXIMIZE  None  \n",
       "4          0.890274        0.0        1.0  MAXIMIZE  None  "
      ]
     },
     "execution_count": 9,
     "metadata": {},
     "output_type": "execute_result"
    }
   ],
   "source": [
    "evaluate(df_syn_CTGAN, df_real, metrics=['CSTest', 'KSTest','LogisticDetection','DiscreteKLDivergence','ContinuousKLDivergence'], aggregate=False)"
   ]
  },
  {
   "cell_type": "code",
   "execution_count": 10,
   "metadata": {},
   "outputs": [
    {
     "data": {
      "text/plain": [
       "0.6387516042339805"
      ]
     },
     "execution_count": 10,
     "metadata": {},
     "output_type": "execute_result"
    }
   ],
   "source": [
    "evaluate(df_syn_CTGAN, df_real, metrics=['CSTest', 'KSTest','LogisticDetection','DiscreteKLDivergence','ContinuousKLDivergence'], aggregate=True)"
   ]
  },
  {
   "cell_type": "markdown",
   "metadata": {},
   "source": [
    "## Evaluate our GAN generation of age_unittype to the real data"
   ]
  },
  {
   "cell_type": "code",
   "execution_count": 11,
   "metadata": {},
   "outputs": [
    {
     "name": "stdout",
     "output_type": "stream",
     "text": [
      "length:  250\n",
      "[[(59,) ('CTICU',)]\n",
      " [(55,) ('CTICU',)]\n",
      " [(72,) ('Cardiac ICU',)]\n",
      " [(49,) ('CTICU',)]\n",
      " [(49,) ('CTICU',)]]\n",
      "ages length:  250\n",
      "unit length:  250\n",
      "(250, 2)\n",
      "             age\n",
      "unit            \n",
      "CSICU         65\n",
      "CTICU         52\n",
      "Cardiac ICU  133\n"
     ]
    }
   ],
   "source": [
    "# get the real data\n",
    "ages_unit_np = np.load(\"../data/eICU_age_unittype.npy\", allow_pickle=True)\n",
    "print('length: ', len(ages_unit_np))\n",
    "print(ages_unit_np[0:5])\n",
    "\n",
    "ages_np = np.asarray(ages_unit_np[:,0].flatten().tolist()).flatten()\n",
    "print('ages length: ', len(ages_np))\n",
    "#print(ages_np[0:5])\n",
    "\n",
    "unit_np = np.asarray(ages_unit_np[:,1].flatten().tolist()).flatten()\n",
    "print('unit length: ', len(unit_np))\n",
    "#print(ethnicity_np[0:5])\n",
    "\n",
    "df_ages = pd.DataFrame(zip(ages_np, unit_np), columns=['age','unit'])\n",
    "print(df_ages.shape)\n",
    "print(df_ages.groupby('unit').count())"
   ]
  },
  {
   "cell_type": "code",
   "execution_count": 12,
   "metadata": {},
   "outputs": [
    {
     "name": "stdout",
     "output_type": "stream",
     "text": [
      "(250, 2)\n",
      "             age\n",
      "unit            \n",
      "CSICU         65\n",
      "CTICU         52\n",
      "Cardiac ICU  133\n"
     ]
    }
   ],
   "source": [
    "# get the synthetic data\n",
    "df_ages_ourGAN = pd.read_csv('../data/ourGAN_ages_ageunittype.csv')\n",
    "print(df_ages.shape)\n",
    "print(df_ages.groupby('unit').count())"
   ]
  },
  {
   "cell_type": "code",
   "execution_count": null,
   "metadata": {},
   "outputs": [],
   "source": [
    "evaluate(df_ages_ourGAN, df_ages, metrics=['CSTest', 'KSTest','LogisticDetection','DiscreteKLDivergence','ContinuousKLDivergence'], aggregate=True)"
   ]
  }
 ],
 "metadata": {
  "interpreter": {
   "hash": "34b722ad9db4b3bab2fc22ea7ad4e4dafa3a71a0a38143cc4f1aba484bf1fe4b"
  },
  "kernelspec": {
   "display_name": "Python 3.9.5 64-bit",
   "language": "python",
   "name": "python3"
  },
  "language_info": {
   "codemirror_mode": {
    "name": "ipython",
    "version": 3
   },
   "file_extension": ".py",
   "mimetype": "text/x-python",
   "name": "python",
   "nbconvert_exporter": "python",
   "pygments_lexer": "ipython3",
   "version": "3.9.5"
  },
  "orig_nbformat": 4
 },
 "nbformat": 4,
 "nbformat_minor": 2
}
