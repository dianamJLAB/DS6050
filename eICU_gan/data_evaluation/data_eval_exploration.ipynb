{
 "cells": [
  {
   "cell_type": "markdown",
   "metadata": {},
   "source": [
    "# Initial investigation and exploration of tabular GAN data evaluation techniques\n",
    "\n",
    "\n",
    "### First, install the Sythetic Data Vault Library\n",
    "which include data evaluation code that we can use for our project.\n",
    "\n",
    "**References:**\n",
    "1. https://hub.gke2.mybinder.org/user/sdv-dev-sdv-uudgqste/notebooks/tutorials/evaluation/Evaluating_Synthetic_Data.ipynb\n",
    "2. https://pypi.org/project/sdv/"
   ]
  },
  {
   "cell_type": "code",
   "execution_count": 33,
   "metadata": {},
   "outputs": [],
   "source": [
    "#pip install sdv\n"
   ]
  },
  {
   "cell_type": "code",
   "execution_count": 35,
   "metadata": {},
   "outputs": [],
   "source": [
    "#pip install pomegranate"
   ]
  },
  {
   "cell_type": "code",
   "execution_count": 1,
   "metadata": {},
   "outputs": [],
   "source": [
    "from sdv.evaluation import evaluate\n",
    "import pandas as pd\n",
    "import numpy as np\n",
    "import seaborn as sns\n",
    "import matplotlib.pyplot as plt\n",
    "\n",
    "# do not show warnings in jupyter notebook\n",
    "import warnings\n",
    "warnings.filterwarnings('ignore')"
   ]
  },
  {
   "cell_type": "code",
   "execution_count": 2,
   "metadata": {},
   "outputs": [],
   "source": [
    "df_real_allcols = pd.read_csv('../data/data_3D_pasthistories.csv')\n",
    "df_syn_CTGAN = pd.read_csv('../data/CTGAN_patientHist.csv')"
   ]
  },
  {
   "cell_type": "code",
   "execution_count": 3,
   "metadata": {},
   "outputs": [],
   "source": [
    "# removing the \"data\" column which is not needed\n",
    "df_syn_CTGAN = df_syn_CTGAN.drop(columns=['data'])\n",
    "df_real = df_real_allcols[df_syn_CTGAN.columns]"
   ]
  },
  {
   "cell_type": "code",
   "execution_count": 9,
   "metadata": {},
   "outputs": [
    {
     "data": {
      "text/html": [
       "<div>\n",
       "<style scoped>\n",
       "    .dataframe tbody tr th:only-of-type {\n",
       "        vertical-align: middle;\n",
       "    }\n",
       "\n",
       "    .dataframe tbody tr th {\n",
       "        vertical-align: top;\n",
       "    }\n",
       "\n",
       "    .dataframe thead th {\n",
       "        text-align: right;\n",
       "    }\n",
       "</style>\n",
       "<table border=\"1\" class=\"dataframe\">\n",
       "  <thead>\n",
       "    <tr style=\"text-align: right;\">\n",
       "      <th></th>\n",
       "      <th>metric</th>\n",
       "      <th>name</th>\n",
       "      <th>raw_score</th>\n",
       "      <th>normalized_score</th>\n",
       "      <th>min_value</th>\n",
       "      <th>max_value</th>\n",
       "      <th>goal</th>\n",
       "      <th>error</th>\n",
       "    </tr>\n",
       "  </thead>\n",
       "  <tbody>\n",
       "    <tr>\n",
       "      <th>0</th>\n",
       "      <td>CSTest</td>\n",
       "      <td>Chi-Squared</td>\n",
       "      <td>0.711462</td>\n",
       "      <td>0.711462</td>\n",
       "      <td>0.0</td>\n",
       "      <td>1.0</td>\n",
       "      <td>MAXIMIZE</td>\n",
       "      <td>None</td>\n",
       "    </tr>\n",
       "    <tr>\n",
       "      <th>1</th>\n",
       "      <td>KSTest</td>\n",
       "      <td>Inverted Kolmogorov-Smirnov D statistic</td>\n",
       "      <td>0.859303</td>\n",
       "      <td>0.859303</td>\n",
       "      <td>0.0</td>\n",
       "      <td>1.0</td>\n",
       "      <td>MAXIMIZE</td>\n",
       "      <td>None</td>\n",
       "    </tr>\n",
       "    <tr>\n",
       "      <th>2</th>\n",
       "      <td>LogisticDetection</td>\n",
       "      <td>LogisticRegression Detection</td>\n",
       "      <td>0.000312</td>\n",
       "      <td>0.000312</td>\n",
       "      <td>0.0</td>\n",
       "      <td>1.0</td>\n",
       "      <td>MAXIMIZE</td>\n",
       "      <td>None</td>\n",
       "    </tr>\n",
       "    <tr>\n",
       "      <th>3</th>\n",
       "      <td>DiscreteKLDivergence</td>\n",
       "      <td>Discrete Kullback–Leibler Divergence</td>\n",
       "      <td>0.732370</td>\n",
       "      <td>0.732370</td>\n",
       "      <td>0.0</td>\n",
       "      <td>1.0</td>\n",
       "      <td>MAXIMIZE</td>\n",
       "      <td>None</td>\n",
       "    </tr>\n",
       "    <tr>\n",
       "      <th>4</th>\n",
       "      <td>ContinuousKLDivergence</td>\n",
       "      <td>Continuous Kullback–Leibler Divergence</td>\n",
       "      <td>0.890274</td>\n",
       "      <td>0.890274</td>\n",
       "      <td>0.0</td>\n",
       "      <td>1.0</td>\n",
       "      <td>MAXIMIZE</td>\n",
       "      <td>None</td>\n",
       "    </tr>\n",
       "  </tbody>\n",
       "</table>\n",
       "</div>"
      ],
      "text/plain": [
       "                   metric                                     name  raw_score  \\\n",
       "0                  CSTest                              Chi-Squared   0.711462   \n",
       "1                  KSTest  Inverted Kolmogorov-Smirnov D statistic   0.859303   \n",
       "2       LogisticDetection             LogisticRegression Detection   0.000312   \n",
       "3    DiscreteKLDivergence     Discrete Kullback–Leibler Divergence   0.732370   \n",
       "4  ContinuousKLDivergence   Continuous Kullback–Leibler Divergence   0.890274   \n",
       "\n",
       "   normalized_score  min_value  max_value      goal error  \n",
       "0          0.711462        0.0        1.0  MAXIMIZE  None  \n",
       "1          0.859303        0.0        1.0  MAXIMIZE  None  \n",
       "2          0.000312        0.0        1.0  MAXIMIZE  None  \n",
       "3          0.732370        0.0        1.0  MAXIMIZE  None  \n",
       "4          0.890274        0.0        1.0  MAXIMIZE  None  "
      ]
     },
     "execution_count": 9,
     "metadata": {},
     "output_type": "execute_result"
    }
   ],
   "source": [
    "evaluate(df_syn_CTGAN, df_real, metrics=['CSTest', 'KSTest','LogisticDetection','DiscreteKLDivergence','ContinuousKLDivergence'], aggregate=False)"
   ]
  },
  {
   "cell_type": "code",
   "execution_count": 10,
   "metadata": {},
   "outputs": [
    {
     "data": {
      "text/plain": [
       "0.6387516042339805"
      ]
     },
     "execution_count": 10,
     "metadata": {},
     "output_type": "execute_result"
    }
   ],
   "source": [
    "evaluate(df_syn_CTGAN, df_real, metrics=['CSTest', 'KSTest','LogisticDetection','DiscreteKLDivergence','ContinuousKLDivergence'], aggregate=True)"
   ]
  },
  {
   "cell_type": "markdown",
   "metadata": {},
   "source": [
    "sdv.metrics.tabular.**GMLogLikelihood**: This metric fits multiple GaussianMixture models to the real data and then evaluates the average log likelihood of the synthetic data on them."
   ]
  },
  {
   "cell_type": "code",
   "execution_count": 79,
   "metadata": {},
   "outputs": [
    {
     "name": "stdout",
     "output_type": "stream",
     "text": [
      "GaussianMixture Log Likelihood for CTGAN generated data: \n",
      "-243.07341179150185\n"
     ]
    },
    {
     "data": {
      "text/plain": [
       "2.719935225491991e-106"
      ]
     },
     "execution_count": 79,
     "metadata": {},
     "output_type": "execute_result"
    }
   ],
   "source": [
    "from sdv.metrics.tabular import GMLogLikelihood\n",
    "raw_GMLL = GMLogLikelihood.compute(df_real, df_syn_CTGAN)\n",
    "print(\"GaussianMixture Log Likelihood for CTGAN generated data: \")\n",
    "print(raw_GMLL)\n",
    "GMLogLikelihood.normalize(raw_GMLL)"
   ]
  },
  {
   "cell_type": "code",
   "execution_count": 78,
   "metadata": {},
   "outputs": [
    {
     "name": "stdout",
     "output_type": "stream",
     "text": [
      "GaussianMixture Log Likelihood for a train test split of real data: \n",
      "-86.52337116182395\n"
     ]
    },
    {
     "data": {
      "text/plain": [
       "2.650802361115944e-38"
      ]
     },
     "execution_count": 78,
     "metadata": {},
     "output_type": "execute_result"
    }
   ],
   "source": [
    "from sklearn.model_selection import train_test_split\n",
    "\n",
    "real_train, real_test = train_test_split(df_real, test_size=0.2, random_state=42)\n",
    "raw_GMLL = GMLogLikelihood.compute(real_train, real_test)\n",
    "print(\"GaussianMixture Log Likelihood for a train test split of real data: \")\n",
    "print(raw_GMLL)\n",
    "GMLogLikelihood.normalize(raw_GMLL)"
   ]
  },
  {
   "cell_type": "markdown",
   "metadata": {},
   "source": [
    "## Evaluate our GAN generation of age_unittype to the real data"
   ]
  },
  {
   "cell_type": "code",
   "execution_count": 22,
   "metadata": {},
   "outputs": [
    {
     "name": "stdout",
     "output_type": "stream",
     "text": [
      "length:  250\n",
      "[[(59,) ('CTICU',)]\n",
      " [(55,) ('CTICU',)]\n",
      " [(72,) ('Cardiac ICU',)]\n",
      " [(49,) ('CTICU',)]\n",
      " [(49,) ('CTICU',)]]\n",
      "ages length:  250\n",
      "unit length:  250\n",
      "(250, 2)\n",
      "             age\n",
      "unit            \n",
      "CSICU         65\n",
      "CTICU         52\n",
      "Cardiac ICU  133\n"
     ]
    }
   ],
   "source": [
    "# get the real data\n",
    "ages_unit_np = np.load(\"../data/eICU_age_unittype.npy\", allow_pickle=True)\n",
    "print('length: ', len(ages_unit_np))\n",
    "print(ages_unit_np[0:5])\n",
    "\n",
    "ages_np = np.asarray(ages_unit_np[:,0].flatten().tolist()).flatten()\n",
    "print('ages length: ', len(ages_np))\n",
    "#print(ages_np[0:5])\n",
    "\n",
    "unit_np = np.asarray(ages_unit_np[:,1].flatten().tolist()).flatten()\n",
    "print('unit length: ', len(unit_np))\n",
    "#print(ethnicity_np[0:5])\n",
    "\n",
    "df_ages = pd.DataFrame(zip(ages_np, unit_np), columns=['age','unit'])\n",
    "print(df_ages.shape)\n",
    "print(df_ages.groupby('unit').count())"
   ]
  },
  {
   "cell_type": "code",
   "execution_count": 23,
   "metadata": {},
   "outputs": [
    {
     "name": "stdout",
     "output_type": "stream",
     "text": [
      "(250, 2)\n",
      "             age\n",
      "unit            \n",
      "CSICU         65\n",
      "CTICU         52\n",
      "Cardiac ICU  133\n"
     ]
    }
   ],
   "source": [
    "# get the synthetic data\n",
    "df_ages_ourGAN = pd.read_csv('../data/ourGAN_ages_ageunittype.csv')\n",
    "print(df_ages.shape)\n",
    "print(df_ages.groupby('unit').count())"
   ]
  },
  {
   "cell_type": "markdown",
   "metadata": {},
   "source": [
    "#### Create a train test split of the real data for comparison of evaluation metrics"
   ]
  },
  {
   "cell_type": "code",
   "execution_count": 82,
   "metadata": {},
   "outputs": [],
   "source": [
    "from sklearn.model_selection import train_test_split\n",
    "\n",
    "ages_train, ages_test = train_test_split(df_ages, test_size=0.2, random_state=42)"
   ]
  },
  {
   "cell_type": "code",
   "execution_count": 87,
   "metadata": {},
   "outputs": [
    {
     "name": "stdout",
     "output_type": "stream",
     "text": [
      "Overall evaluation score for ourGAN generated data: \n",
      "0.7920447511211434\n",
      " \n",
      "Individual evaluation scores for ourGAN generated data: \n"
     ]
    },
    {
     "data": {
      "text/html": [
       "<div>\n",
       "<style scoped>\n",
       "    .dataframe tbody tr th:only-of-type {\n",
       "        vertical-align: middle;\n",
       "    }\n",
       "\n",
       "    .dataframe tbody tr th {\n",
       "        vertical-align: top;\n",
       "    }\n",
       "\n",
       "    .dataframe thead th {\n",
       "        text-align: right;\n",
       "    }\n",
       "</style>\n",
       "<table border=\"1\" class=\"dataframe\">\n",
       "  <thead>\n",
       "    <tr style=\"text-align: right;\">\n",
       "      <th></th>\n",
       "      <th>metric</th>\n",
       "      <th>name</th>\n",
       "      <th>raw_score</th>\n",
       "      <th>normalized_score</th>\n",
       "      <th>min_value</th>\n",
       "      <th>max_value</th>\n",
       "      <th>goal</th>\n",
       "      <th>error</th>\n",
       "    </tr>\n",
       "  </thead>\n",
       "  <tbody>\n",
       "    <tr>\n",
       "      <th>0</th>\n",
       "      <td>CSTest</td>\n",
       "      <td>Chi-Squared</td>\n",
       "      <td>0.780798</td>\n",
       "      <td>0.780798</td>\n",
       "      <td>0.0</td>\n",
       "      <td>1.0</td>\n",
       "      <td>MAXIMIZE</td>\n",
       "      <td>None</td>\n",
       "    </tr>\n",
       "    <tr>\n",
       "      <th>1</th>\n",
       "      <td>KSTest</td>\n",
       "      <td>Inverted Kolmogorov-Smirnov D statistic</td>\n",
       "      <td>0.932000</td>\n",
       "      <td>0.932000</td>\n",
       "      <td>0.0</td>\n",
       "      <td>1.0</td>\n",
       "      <td>MAXIMIZE</td>\n",
       "      <td>None</td>\n",
       "    </tr>\n",
       "    <tr>\n",
       "      <th>2</th>\n",
       "      <td>LogisticDetection</td>\n",
       "      <td>LogisticRegression Detection</td>\n",
       "      <td>0.624875</td>\n",
       "      <td>0.624875</td>\n",
       "      <td>0.0</td>\n",
       "      <td>1.0</td>\n",
       "      <td>MAXIMIZE</td>\n",
       "      <td>None</td>\n",
       "    </tr>\n",
       "  </tbody>\n",
       "</table>\n",
       "</div>"
      ],
      "text/plain": [
       "              metric                                     name  raw_score  \\\n",
       "0             CSTest                              Chi-Squared   0.780798   \n",
       "1             KSTest  Inverted Kolmogorov-Smirnov D statistic   0.932000   \n",
       "2  LogisticDetection             LogisticRegression Detection   0.624875   \n",
       "\n",
       "   normalized_score  min_value  max_value      goal error  \n",
       "0          0.780798        0.0        1.0  MAXIMIZE  None  \n",
       "1          0.932000        0.0        1.0  MAXIMIZE  None  \n",
       "2          0.624875        0.0        1.0  MAXIMIZE  None  "
      ]
     },
     "execution_count": 87,
     "metadata": {},
     "output_type": "execute_result"
    }
   ],
   "source": [
    "print(\"Overall evaluation score for ourGAN generated data: \")\n",
    "print(evaluate(df_ages_ourGAN, df_ages, metrics=['CSTest', 'KSTest','LogisticDetection','DiscreteKLDivergence','ContinuousKLDivergence'], aggregate=True))\n",
    "print(\" \")\n",
    "print(\"Individual evaluation scores for ourGAN generated data: \")\n",
    "evaluate(df_ages_ourGAN, df_ages, metrics=['CSTest', 'KSTest','LogisticDetection'], aggregate=False)"
   ]
  },
  {
   "cell_type": "code",
   "execution_count": 90,
   "metadata": {},
   "outputs": [
    {
     "name": "stdout",
     "output_type": "stream",
     "text": [
      "Overall evaluation score for real data train / test split: \n",
      " \n",
      "Individual evaluation scores for real data train / test split: \n"
     ]
    },
    {
     "data": {
      "text/html": [
       "<div>\n",
       "<style scoped>\n",
       "    .dataframe tbody tr th:only-of-type {\n",
       "        vertical-align: middle;\n",
       "    }\n",
       "\n",
       "    .dataframe tbody tr th {\n",
       "        vertical-align: top;\n",
       "    }\n",
       "\n",
       "    .dataframe thead th {\n",
       "        text-align: right;\n",
       "    }\n",
       "</style>\n",
       "<table border=\"1\" class=\"dataframe\">\n",
       "  <thead>\n",
       "    <tr style=\"text-align: right;\">\n",
       "      <th></th>\n",
       "      <th>metric</th>\n",
       "      <th>name</th>\n",
       "      <th>raw_score</th>\n",
       "      <th>normalized_score</th>\n",
       "      <th>min_value</th>\n",
       "      <th>max_value</th>\n",
       "      <th>goal</th>\n",
       "      <th>error</th>\n",
       "    </tr>\n",
       "  </thead>\n",
       "  <tbody>\n",
       "    <tr>\n",
       "      <th>0</th>\n",
       "      <td>CSTest</td>\n",
       "      <td>Chi-Squared</td>\n",
       "      <td>0.986597</td>\n",
       "      <td>0.986597</td>\n",
       "      <td>0.0</td>\n",
       "      <td>1.0</td>\n",
       "      <td>MAXIMIZE</td>\n",
       "      <td>None</td>\n",
       "    </tr>\n",
       "    <tr>\n",
       "      <th>1</th>\n",
       "      <td>KSTest</td>\n",
       "      <td>Inverted Kolmogorov-Smirnov D statistic</td>\n",
       "      <td>0.850000</td>\n",
       "      <td>0.850000</td>\n",
       "      <td>0.0</td>\n",
       "      <td>1.0</td>\n",
       "      <td>MAXIMIZE</td>\n",
       "      <td>None</td>\n",
       "    </tr>\n",
       "    <tr>\n",
       "      <th>2</th>\n",
       "      <td>LogisticDetection</td>\n",
       "      <td>LogisticRegression Detection</td>\n",
       "      <td>0.848221</td>\n",
       "      <td>0.848221</td>\n",
       "      <td>0.0</td>\n",
       "      <td>1.0</td>\n",
       "      <td>MAXIMIZE</td>\n",
       "      <td>None</td>\n",
       "    </tr>\n",
       "  </tbody>\n",
       "</table>\n",
       "</div>"
      ],
      "text/plain": [
       "              metric                                     name  raw_score  \\\n",
       "0             CSTest                              Chi-Squared   0.986597   \n",
       "1             KSTest  Inverted Kolmogorov-Smirnov D statistic   0.850000   \n",
       "2  LogisticDetection             LogisticRegression Detection   0.848221   \n",
       "\n",
       "   normalized_score  min_value  max_value      goal error  \n",
       "0          0.986597        0.0        1.0  MAXIMIZE  None  \n",
       "1          0.850000        0.0        1.0  MAXIMIZE  None  \n",
       "2          0.848221        0.0        1.0  MAXIMIZE  None  "
      ]
     },
     "execution_count": 90,
     "metadata": {},
     "output_type": "execute_result"
    }
   ],
   "source": [
    "print(\"Overall evaluation score for real data train / test split: \")\n",
    "evaluate(ages_test, ages_train, metrics=['CSTest', 'KSTest','LogisticDetection','DiscreteKLDivergence','ContinuousKLDivergence'], aggregate=True)\n",
    "\n",
    "print(\" \")\n",
    "print(\"Individual evaluation scores for real data train / test split: \")\n",
    "evaluate(ages_test, ages_train, metrics=['CSTest', 'KSTest','LogisticDetection'], aggregate=False)"
   ]
  },
  {
   "cell_type": "code",
   "execution_count": null,
   "metadata": {},
   "outputs": [],
   "source": []
  },
  {
   "cell_type": "code",
   "execution_count": 80,
   "metadata": {},
   "outputs": [
    {
     "name": "stdout",
     "output_type": "stream",
     "text": [
      "GaussianMixture Log Likelihood for CTGAN generated data: \n",
      "-5.661454959040057\n"
     ]
    },
    {
     "data": {
      "text/plain": [
       "0.0034654028851047436"
      ]
     },
     "execution_count": 80,
     "metadata": {},
     "output_type": "execute_result"
    }
   ],
   "source": [
    "from sdv.metrics.tabular import GMLogLikelihood\n",
    "raw_GMLL = GMLogLikelihood.compute(df_ages, df_ages_ourGAN)\n",
    "print(\"GaussianMixture Log Likelihood for CTGAN generated data: \")\n",
    "print(raw_GMLL)\n",
    "GMLogLikelihood.normalize(raw_GMLL)"
   ]
  },
  {
   "cell_type": "code",
   "execution_count": 81,
   "metadata": {},
   "outputs": [
    {
     "name": "stdout",
     "output_type": "stream",
     "text": [
      "GaussianMixture Log Likelihood for train/test split of real data: \n",
      "-2.8306316256209727\n"
     ]
    },
    {
     "data": {
      "text/plain": [
       "0.055691171625415016"
      ]
     },
     "execution_count": 81,
     "metadata": {},
     "output_type": "execute_result"
    }
   ],
   "source": [
    "\n",
    "\n",
    "raw_GMLL = GMLogLikelihood.compute(ages_train, ages_test)\n",
    "print(\"GaussianMixture Log Likelihood for train/test split of real data: \")\n",
    "print(raw_GMLL)\n",
    "GMLogLikelihood.normalize(raw_GMLL)"
   ]
  },
  {
   "cell_type": "code",
   "execution_count": 72,
   "metadata": {},
   "outputs": [
    {
     "name": "stdout",
     "output_type": "stream",
     "text": [
      "========================================\n",
      "BinaryDecisionTreeClassifier Accuracy:\n",
      "train/test split of real data:  0.5104377104377105\n",
      "real vs. our synthetic:  0.26141977598101035\n",
      "========================================\n",
      "BinaryAdaBoostClassifier Accuracy:\n",
      "train/test split of real data:  0.2222222222222222\n",
      "real vs. our synthetic:  0.1375661375661376\n"
     ]
    }
   ],
   "source": [
    "from sdv.metrics.tabular import MulticlassDecisionTreeClassifier, MulticlassMLPClassifier\n",
    "from sklearn.model_selection import train_test_split\n",
    "\n",
    "ages_train, ages_test = train_test_split(df_ages, test_size=0.2, random_state=42)\n",
    "\n",
    "print(\"==\"*20)\n",
    "print(\"MulticlassMLPClassifier Accuracy:\")\n",
    "print(\"train/test split of real data: \",MulticlassDecisionTreeClassifier.compute(ages_test, ages_train, target='unit'))\n",
    "print(\"real vs. our synthetic: \", MulticlassDecisionTreeClassifier.compute(df_ages, df_ages_ourGAN, target='unit'))\n",
    "\n",
    "print(\"==\"*20)\n",
    "print(\"MulticlassMLPClassifier Accuracy:\")\n",
    "print(\"train/test split of real data: \",MulticlassMLPClassifier.compute(ages_test, ages_train, target='unit'))\n",
    "print(\"real vs. our synthetic: \", MulticlassMLPClassifier.compute(df_ages, df_ages_ourGAN, target='unit'))\n",
    "\n",
    "\n"
   ]
  },
  {
   "cell_type": "markdown",
   "metadata": {},
   "source": [
    "### Demonstration of Privacy Evaluations\n",
    "\n",
    "This isn't really useful for our age data because of limited dimensions and it isn't a problem to generate a duplicate age, in fact it is expected."
   ]
  },
  {
   "cell_type": "code",
   "execution_count": 73,
   "metadata": {},
   "outputs": [
    {
     "name": "stdout",
     "output_type": "stream",
     "text": [
      "0.0\n",
      "7.442545319557037e-05\n",
      "No attackers specified.\n"
     ]
    }
   ],
   "source": [
    "from sdv.metrics.tabular import NumericalLR, NumericalMLP, CategoricalEnsemble\n",
    "\n",
    "print(NumericalLR.compute(\n",
    "    df_ages,\n",
    "    df_ages_ourGAN,\n",
    "    key_fields=['age'],\n",
    "    sensitive_fields=['age']))\n",
    "\n",
    "print(NumericalMLP.compute(\n",
    "    df_ages,\n",
    "    df_ages_ourGAN,\n",
    "    key_fields=['age'],\n",
    "    sensitive_fields=['age']))\n",
    "\n",
    "print(CategoricalEnsemble.compute(\n",
    "    df_ages,\n",
    "    df_ages_ourGAN,\n",
    "    key_fields=['unit'],\n",
    "    sensitive_fields=['unit']))"
   ]
  },
  {
   "cell_type": "code",
   "execution_count": null,
   "metadata": {},
   "outputs": [],
   "source": []
  }
 ],
 "metadata": {
  "interpreter": {
   "hash": "34b722ad9db4b3bab2fc22ea7ad4e4dafa3a71a0a38143cc4f1aba484bf1fe4b"
  },
  "kernelspec": {
   "display_name": "Python 3.9.5 64-bit",
   "language": "python",
   "name": "python3"
  },
  "language_info": {
   "codemirror_mode": {
    "name": "ipython",
    "version": 3
   },
   "file_extension": ".py",
   "mimetype": "text/x-python",
   "name": "python",
   "nbconvert_exporter": "python",
   "pygments_lexer": "ipython3",
   "version": "3.9.5"
  },
  "orig_nbformat": 4
 },
 "nbformat": 4,
 "nbformat_minor": 2
}
