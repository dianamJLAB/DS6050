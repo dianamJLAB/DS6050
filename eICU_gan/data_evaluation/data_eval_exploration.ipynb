{
 "cells": [
  {
   "cell_type": "markdown",
   "metadata": {},
   "source": [
    "# Initial investigation and exploration of tabular GAN data evaluation techniques\n",
    "\n",
    "\n",
    "### First, install the Sythetic Data Vault Library\n",
    "which include data evaluation code that we can use for our project.\n",
    "\n",
    "**References:**\n",
    "1. https://hub.gke2.mybinder.org/user/sdv-dev-sdv-uudgqste/notebooks/tutorials/evaluation/Evaluating_Synthetic_Data.ipynb\n",
    "2. https://pypi.org/project/sdv/"
   ]
  },
  {
   "cell_type": "code",
   "execution_count": 1,
   "metadata": {},
   "outputs": [],
   "source": [
    "#pip install sdv\n"
   ]
  },
  {
   "cell_type": "code",
   "execution_count": 2,
   "metadata": {},
   "outputs": [],
   "source": [
    "#pip install pomegranate"
   ]
  },
  {
   "cell_type": "code",
   "execution_count": 3,
   "metadata": {},
   "outputs": [],
   "source": [
    "from sdv.evaluation import evaluate\n",
    "import pandas as pd\n",
    "import numpy as np\n",
    "import seaborn as sns\n",
    "import matplotlib.pyplot as plt\n",
    "\n",
    "# do not show warnings in jupyter notebook\n",
    "import warnings\n",
    "warnings.filterwarnings('ignore')"
   ]
  },
  {
   "cell_type": "code",
   "execution_count": 4,
   "metadata": {},
   "outputs": [],
   "source": [
    "#df_real_allcols = pd.read_csv('../data/data_3D_pasthistories.csv')\n",
    "#df_syn_CTGAN = pd.read_csv('../data/CTGAN_patientHist.csv')"
   ]
  },
  {
   "cell_type": "code",
   "execution_count": 5,
   "metadata": {},
   "outputs": [],
   "source": [
    "# removing the \"data\" column which is not needed\n",
    "#df_syn_CTGAN = df_syn_CTGAN.drop(columns=['data'])\n",
    "#df_real = df_real_allcols[df_syn_CTGAN.columns]"
   ]
  },
  {
   "cell_type": "code",
   "execution_count": 6,
   "metadata": {},
   "outputs": [],
   "source": [
    "#evaluate(df_syn_CTGAN, df_real, metrics=['CSTest', 'KSTest','LogisticDetection','DiscreteKLDivergence','ContinuousKLDivergence'], aggregate=False)"
   ]
  },
  {
   "cell_type": "code",
   "execution_count": 7,
   "metadata": {},
   "outputs": [],
   "source": [
    "#evaluate(df_syn_CTGAN, df_real, metrics=['CSTest', 'KSTest','LogisticDetection','DiscreteKLDivergence','ContinuousKLDivergence'], aggregate=True)"
   ]
  },
  {
   "cell_type": "markdown",
   "metadata": {},
   "source": [
    "sdv.metrics.tabular.**GMLogLikelihood**: This metric fits multiple GaussianMixture models to the real data and then evaluates the average log likelihood of the synthetic data on them."
   ]
  },
  {
   "cell_type": "code",
   "execution_count": 8,
   "metadata": {},
   "outputs": [],
   "source": [
    "#from sdv.metrics.tabular import GMLogLikelihood\n",
    "#raw_GMLL = GMLogLikelihood.compute(df_real, df_syn_CTGAN)\n",
    "#print(\"GaussianMixture Log Likelihood for CTGAN generated data: \")\n",
    "#print(raw_GMLL)\n",
    "#GMLogLikelihood.normalize(raw_GMLL)"
   ]
  },
  {
   "cell_type": "code",
   "execution_count": 9,
   "metadata": {},
   "outputs": [],
   "source": [
    "#from sklearn.model_selection import train_test_split\n",
    "\n",
    "#real_train, real_test = train_test_split(df_real, test_size=0.2, random_state=42)\n",
    "#raw_GMLL = GMLogLikelihood.compute(real_train, real_test)\n",
    "#print(\"GaussianMixture Log Likelihood for a train test split of real data: \")\n",
    "#print(raw_GMLL)\n",
    "#GMLogLikelihood.normalize(raw_GMLL)"
   ]
  },
  {
   "cell_type": "markdown",
   "metadata": {},
   "source": [
    "## Evaluate our GAN generation of age_unittype to the real data"
   ]
  },
  {
   "cell_type": "markdown",
   "metadata": {},
   "source": [
    "These are evaluations of age filetered < 90"
   ]
  },
  {
   "cell_type": "code",
   "execution_count": 10,
   "metadata": {},
   "outputs": [
    {
     "name": "stdout",
     "output_type": "stream",
     "text": [
      "length:  250\n",
      "[[(59,) ('CTICU',)]\n",
      " [(55,) ('CTICU',)]\n",
      " [(72,) ('Cardiac ICU',)]\n",
      " [(49,) ('CTICU',)]\n",
      " [(49,) ('CTICU',)]]\n",
      "ages length:  250\n",
      "unit length:  250\n",
      "(250, 2)\n",
      "             age\n",
      "unit            \n",
      "CSICU         65\n",
      "CTICU         52\n",
      "Cardiac ICU  133\n"
     ]
    }
   ],
   "source": [
    "# get the real data\n",
    "ages_unit_np = np.load(\"../data/eICU_age_unittype.npy\", allow_pickle=True)\n",
    "print('length: ', len(ages_unit_np))\n",
    "print(ages_unit_np[0:5])\n",
    "\n",
    "ages_np = np.asarray(ages_unit_np[:,0].flatten().tolist()).flatten()\n",
    "print('ages length: ', len(ages_np))\n",
    "#print(ages_np[0:5])\n",
    "\n",
    "unit_np = np.asarray(ages_unit_np[:,1].flatten().tolist()).flatten()\n",
    "print('unit length: ', len(unit_np))\n",
    "#print(ethnicity_np[0:5])\n",
    "\n",
    "df_ages = pd.DataFrame(zip(ages_np, unit_np), columns=['age','unit'])\n",
    "print(df_ages.shape)\n",
    "print(df_ages.groupby('unit').count())"
   ]
  },
  {
   "cell_type": "code",
   "execution_count": 11,
   "metadata": {},
   "outputs": [
    {
     "name": "stdout",
     "output_type": "stream",
     "text": [
      "(250, 2)\n",
      "             age\n",
      "unit            \n",
      "CSICU         65\n",
      "CTICU         52\n",
      "Cardiac ICU  133\n"
     ]
    }
   ],
   "source": [
    "# get the synthetic data\n",
    "df_ages_ourGAN = pd.read_csv('../data/ourGAN_ages_ageunittype.csv')\n",
    "print(df_ages.shape)\n",
    "print(df_ages.groupby('unit').count())"
   ]
  },
  {
   "cell_type": "markdown",
   "metadata": {},
   "source": [
    "#### Create a train test split of the real data for comparison of evaluation metrics"
   ]
  },
  {
   "cell_type": "code",
   "execution_count": 12,
   "metadata": {},
   "outputs": [],
   "source": [
    "from sklearn.model_selection import train_test_split\n",
    "\n",
    "ages_train, ages_test = train_test_split(df_ages, test_size=0.2, random_state=42)"
   ]
  },
  {
   "cell_type": "code",
   "execution_count": 13,
   "metadata": {},
   "outputs": [
    {
     "name": "stdout",
     "output_type": "stream",
     "text": [
      "Overall evaluation score for ourGAN generated data: \n",
      "0.9773333333333333\n",
      " \n",
      "Individual evaluation scores for ourGAN generated data: \n"
     ]
    },
    {
     "data": {
      "text/html": [
       "<div>\n",
       "<style scoped>\n",
       "    .dataframe tbody tr th:only-of-type {\n",
       "        vertical-align: middle;\n",
       "    }\n",
       "\n",
       "    .dataframe tbody tr th {\n",
       "        vertical-align: top;\n",
       "    }\n",
       "\n",
       "    .dataframe thead th {\n",
       "        text-align: right;\n",
       "    }\n",
       "</style>\n",
       "<table border=\"1\" class=\"dataframe\">\n",
       "  <thead>\n",
       "    <tr style=\"text-align: right;\">\n",
       "      <th></th>\n",
       "      <th>metric</th>\n",
       "      <th>name</th>\n",
       "      <th>raw_score</th>\n",
       "      <th>normalized_score</th>\n",
       "      <th>min_value</th>\n",
       "      <th>max_value</th>\n",
       "      <th>goal</th>\n",
       "      <th>error</th>\n",
       "    </tr>\n",
       "  </thead>\n",
       "  <tbody>\n",
       "    <tr>\n",
       "      <th>0</th>\n",
       "      <td>CSTest</td>\n",
       "      <td>Chi-Squared</td>\n",
       "      <td>1.000</td>\n",
       "      <td>1.000</td>\n",
       "      <td>0.0</td>\n",
       "      <td>1.0</td>\n",
       "      <td>MAXIMIZE</td>\n",
       "      <td>None</td>\n",
       "    </tr>\n",
       "    <tr>\n",
       "      <th>1</th>\n",
       "      <td>KSTest</td>\n",
       "      <td>Inverted Kolmogorov-Smirnov D statistic</td>\n",
       "      <td>0.932</td>\n",
       "      <td>0.932</td>\n",
       "      <td>0.0</td>\n",
       "      <td>1.0</td>\n",
       "      <td>MAXIMIZE</td>\n",
       "      <td>None</td>\n",
       "    </tr>\n",
       "    <tr>\n",
       "      <th>2</th>\n",
       "      <td>LogisticDetection</td>\n",
       "      <td>LogisticRegression Detection</td>\n",
       "      <td>1.000</td>\n",
       "      <td>1.000</td>\n",
       "      <td>0.0</td>\n",
       "      <td>1.0</td>\n",
       "      <td>MAXIMIZE</td>\n",
       "      <td>None</td>\n",
       "    </tr>\n",
       "  </tbody>\n",
       "</table>\n",
       "</div>"
      ],
      "text/plain": [
       "              metric                                     name  raw_score  \\\n",
       "0             CSTest                              Chi-Squared      1.000   \n",
       "1             KSTest  Inverted Kolmogorov-Smirnov D statistic      0.932   \n",
       "2  LogisticDetection             LogisticRegression Detection      1.000   \n",
       "\n",
       "   normalized_score  min_value  max_value      goal error  \n",
       "0             1.000        0.0        1.0  MAXIMIZE  None  \n",
       "1             0.932        0.0        1.0  MAXIMIZE  None  \n",
       "2             1.000        0.0        1.0  MAXIMIZE  None  "
      ]
     },
     "execution_count": 13,
     "metadata": {},
     "output_type": "execute_result"
    }
   ],
   "source": [
    "print(\"Overall evaluation score for ourGAN generated data: \")\n",
    "print(evaluate(df_ages_ourGAN, df_ages, metrics=['CSTest', 'KSTest','LogisticDetection','DiscreteKLDivergence','ContinuousKLDivergence'], aggregate=True))\n",
    "print(\" \")\n",
    "print(\"Individual evaluation scores for ourGAN generated data: \")\n",
    "evaluate(df_ages_ourGAN, df_ages, metrics=['CSTest', 'KSTest','LogisticDetection'], aggregate=False)"
   ]
  },
  {
   "cell_type": "code",
   "execution_count": 14,
   "metadata": {},
   "outputs": [
    {
     "name": "stdout",
     "output_type": "stream",
     "text": [
      "Overall evaluation score for real data train / test split: \n",
      "0.9182982882937352\n",
      " \n",
      "Individual evaluation scores for real data train / test split: \n"
     ]
    },
    {
     "data": {
      "text/html": [
       "<div>\n",
       "<style scoped>\n",
       "    .dataframe tbody tr th:only-of-type {\n",
       "        vertical-align: middle;\n",
       "    }\n",
       "\n",
       "    .dataframe tbody tr th {\n",
       "        vertical-align: top;\n",
       "    }\n",
       "\n",
       "    .dataframe thead th {\n",
       "        text-align: right;\n",
       "    }\n",
       "</style>\n",
       "<table border=\"1\" class=\"dataframe\">\n",
       "  <thead>\n",
       "    <tr style=\"text-align: right;\">\n",
       "      <th></th>\n",
       "      <th>metric</th>\n",
       "      <th>name</th>\n",
       "      <th>raw_score</th>\n",
       "      <th>normalized_score</th>\n",
       "      <th>min_value</th>\n",
       "      <th>max_value</th>\n",
       "      <th>goal</th>\n",
       "      <th>error</th>\n",
       "    </tr>\n",
       "  </thead>\n",
       "  <tbody>\n",
       "    <tr>\n",
       "      <th>0</th>\n",
       "      <td>CSTest</td>\n",
       "      <td>Chi-Squared</td>\n",
       "      <td>0.986597</td>\n",
       "      <td>0.986597</td>\n",
       "      <td>0.0</td>\n",
       "      <td>1.0</td>\n",
       "      <td>MAXIMIZE</td>\n",
       "      <td>None</td>\n",
       "    </tr>\n",
       "    <tr>\n",
       "      <th>1</th>\n",
       "      <td>KSTest</td>\n",
       "      <td>Inverted Kolmogorov-Smirnov D statistic</td>\n",
       "      <td>0.850000</td>\n",
       "      <td>0.850000</td>\n",
       "      <td>0.0</td>\n",
       "      <td>1.0</td>\n",
       "      <td>MAXIMIZE</td>\n",
       "      <td>None</td>\n",
       "    </tr>\n",
       "  </tbody>\n",
       "</table>\n",
       "</div>"
      ],
      "text/plain": [
       "   metric                                     name  raw_score  \\\n",
       "0  CSTest                              Chi-Squared   0.986597   \n",
       "1  KSTest  Inverted Kolmogorov-Smirnov D statistic   0.850000   \n",
       "\n",
       "   normalized_score  min_value  max_value      goal error  \n",
       "0          0.986597        0.0        1.0  MAXIMIZE  None  \n",
       "1          0.850000        0.0        1.0  MAXIMIZE  None  "
      ]
     },
     "execution_count": 14,
     "metadata": {},
     "output_type": "execute_result"
    }
   ],
   "source": [
    "print(\"Overall evaluation score for real data train / test split: \")\n",
    "print(evaluate(ages_test, ages_train, metrics=['CSTest', 'KSTest'], aggregate=True))\n",
    "\n",
    "print(\" \")\n",
    "print(\"Individual evaluation scores for real data train / test split: \")\n",
    "evaluate(ages_test, ages_train, metrics=['CSTest', 'KSTest'], aggregate=False)"
   ]
  },
  {
   "cell_type": "code",
   "execution_count": null,
   "metadata": {},
   "outputs": [],
   "source": []
  },
  {
   "cell_type": "code",
   "execution_count": 15,
   "metadata": {},
   "outputs": [
    {
     "name": "stdout",
     "output_type": "stream",
     "text": [
      "GaussianMixture Log Likelihood for CTGAN generated data: \n",
      "-5.750521007685639\n"
     ]
    },
    {
     "data": {
      "text/plain": [
       "0.0031710355212077558"
      ]
     },
     "execution_count": 15,
     "metadata": {},
     "output_type": "execute_result"
    }
   ],
   "source": [
    "from sdv.metrics.tabular import GMLogLikelihood\n",
    "raw_GMLL = GMLogLikelihood.compute(df_ages, df_ages_ourGAN)\n",
    "print(\"GaussianMixture Log Likelihood for CTGAN generated data: \")\n",
    "print(raw_GMLL)\n",
    "GMLogLikelihood.normalize(raw_GMLL)"
   ]
  },
  {
   "cell_type": "code",
   "execution_count": 16,
   "metadata": {},
   "outputs": [
    {
     "name": "stdout",
     "output_type": "stream",
     "text": [
      "GaussianMixture Log Likelihood for train/test split of real data: \n",
      "-2.9565698206459525\n"
     ]
    },
    {
     "data": {
      "text/plain": [
       "0.04942692042928588"
      ]
     },
     "execution_count": 16,
     "metadata": {},
     "output_type": "execute_result"
    }
   ],
   "source": [
    "\n",
    "\n",
    "raw_GMLL = GMLogLikelihood.compute(ages_train, ages_test)\n",
    "print(\"GaussianMixture Log Likelihood for train/test split of real data: \")\n",
    "print(raw_GMLL)\n",
    "GMLogLikelihood.normalize(raw_GMLL)"
   ]
  },
  {
   "cell_type": "code",
   "execution_count": 17,
   "metadata": {},
   "outputs": [
    {
     "name": "stdout",
     "output_type": "stream",
     "text": [
      "========================================\n",
      "MulticlassDecisionTreeClassifier Accuracy:\n",
      "train/test split of real data:  0.5104377104377105\n",
      "real vs. our synthetic:  0.3885521129571421\n",
      "========================================\n",
      "MulticlassMLPClassifier Accuracy:\n",
      "train/test split of real data:  0.2222222222222222\n",
      "real vs. our synthetic:  0.2733101115654501\n"
     ]
    }
   ],
   "source": [
    "from sdv.metrics.tabular import MulticlassDecisionTreeClassifier, MulticlassMLPClassifier\n",
    "from sklearn.model_selection import train_test_split\n",
    "\n",
    "ages_train, ages_test = train_test_split(df_ages, test_size=0.2, random_state=42)\n",
    "\n",
    "print(\"==\"*20)\n",
    "print(\"MulticlassDecisionTreeClassifier Accuracy:\")\n",
    "print(\"train/test split of real data: \",MulticlassDecisionTreeClassifier.compute(ages_test, ages_train, target='unit'))\n",
    "print(\"real vs. our synthetic: \", MulticlassDecisionTreeClassifier.compute(df_ages, df_ages_ourGAN, target='unit'))\n",
    "\n",
    "print(\"==\"*20)\n",
    "print(\"MulticlassMLPClassifier Accuracy:\")\n",
    "print(\"train/test split of real data: \",MulticlassMLPClassifier.compute(ages_test, ages_train, target='unit'))\n",
    "print(\"real vs. our synthetic: \", MulticlassMLPClassifier.compute(df_ages, df_ages_ourGAN, target='unit'))\n",
    "\n",
    "\n"
   ]
  },
  {
   "cell_type": "markdown",
   "metadata": {},
   "source": [
    "### Demonstration of Privacy Evaluations\n",
    "\n",
    "This isn't really useful for our age data because of limited dimensions and it isn't a problem to generate a duplicate age, in fact it is expected."
   ]
  },
  {
   "cell_type": "code",
   "execution_count": 18,
   "metadata": {},
   "outputs": [
    {
     "name": "stdout",
     "output_type": "stream",
     "text": [
      "0.0\n",
      "2.2936836058265627e-05\n",
      "No attackers specified.\n"
     ]
    }
   ],
   "source": [
    "from sdv.metrics.tabular import NumericalLR, NumericalMLP, CategoricalEnsemble\n",
    "\n",
    "print(NumericalLR.compute(\n",
    "    df_ages,\n",
    "    df_ages_ourGAN,\n",
    "    key_fields=['age'],\n",
    "    sensitive_fields=['age']))\n",
    "\n",
    "print(NumericalMLP.compute(\n",
    "    df_ages,\n",
    "    df_ages_ourGAN,\n",
    "    key_fields=['age'],\n",
    "    sensitive_fields=['age']))\n",
    "\n",
    "print(CategoricalEnsemble.compute(\n",
    "    df_ages,\n",
    "    df_ages_ourGAN,\n",
    "    key_fields=['unit'],\n",
    "    sensitive_fields=['unit']))"
   ]
  },
  {
   "cell_type": "markdown",
   "metadata": {},
   "source": [
    "# Evaluate all age unittype"
   ]
  },
  {
   "cell_type": "code",
   "execution_count": 25,
   "metadata": {},
   "outputs": [
    {
     "name": "stdout",
     "output_type": "stream",
     "text": [
      "(250, 2)\n",
      "             age\n",
      "unit            \n",
      "CSICU         67\n",
      "CTICU         56\n",
      "Cardiac ICU  127\n"
     ]
    }
   ],
   "source": [
    "# get the CTGAN synthetic data\n",
    "df_ages_CTGAN = pd.read_csv('../data/CTGAN_age_unittype.csv')\n",
    "# drop the data column from df_ages_CTGAN\n",
    "df_ages_CTGAN = df_ages_CTGAN.drop(columns=['data'])\n",
    "\n",
    "print(df_ages_CTGAN.shape)\n",
    "print(df_ages_CTGAN.groupby('unit').count())"
   ]
  },
  {
   "cell_type": "code",
   "execution_count": 20,
   "metadata": {},
   "outputs": [
    {
     "name": "stdout",
     "output_type": "stream",
     "text": [
      "========================================\n",
      "MulticlassDecisionTreeClassifier Accuracy:\n",
      "train/test split of real data:  0.51\n",
      "real vs. our synthetic:  0.389\n",
      "real vs. CTGAN synthetic:  0.406\n",
      "========================================\n",
      "MulticlassMLPClassifier Accuracy:\n",
      "train/test split of real data:  0.222\n",
      "real vs. our synthetic:  0.216\n",
      "real vs. CTGAN synthetic:  0.279\n"
     ]
    }
   ],
   "source": [
    "print(\"==\"*20)\n",
    "print(\"MulticlassDecisionTreeClassifier Accuracy:\")\n",
    "print(\"train/test split of real data: \",np.round(MulticlassDecisionTreeClassifier.compute(ages_test, ages_train, target='unit'),3))\n",
    "print(\"real vs. our synthetic: \", np.round(MulticlassDecisionTreeClassifier.compute(df_ages, df_ages_ourGAN, target='unit'),3))\n",
    "print(\"real vs. CTGAN synthetic: \", np.round(MulticlassDecisionTreeClassifier.compute(df_ages, df_ages_CTGAN, target='unit'),3))\n",
    "\n",
    "print(\"==\"*20)\n",
    "print(\"MulticlassMLPClassifier Accuracy:\")\n",
    "print(\"train/test split of real data: \",np.round(MulticlassMLPClassifier.compute(ages_test, ages_train, target='unit'),3))\n",
    "print(\"real vs. our synthetic: \", np.round(MulticlassMLPClassifier.compute(df_ages, df_ages_ourGAN, target='unit'),3))\n",
    "print(\"real vs. CTGAN synthetic: \", np.round(MulticlassMLPClassifier.compute(df_ages, df_ages_CTGAN, target='unit'),3))\n",
    "\n",
    "\n"
   ]
  },
  {
   "cell_type": "code",
   "execution_count": 26,
   "metadata": {},
   "outputs": [
    {
     "name": "stdout",
     "output_type": "stream",
     "text": [
      "AGE UNIT TYPE SCORES:\n",
      "CSTest and KSTest evaluation score for real data train / test split: \n",
      "0.9182982882937352\n",
      " \n",
      "========================================\n",
      "CSTest and KSTest evaluation score for ourGAN : \n",
      "0.966\n",
      " \n",
      "========================================\n",
      "CSTest and KSTest evaluation score for CTGAN : \n",
      "0.8913605018459676\n"
     ]
    }
   ],
   "source": [
    "print(\"AGE UNIT TYPE SCORES:\")\n",
    "print(\"CSTest and KSTest evaluation score for real data train / test split: \")\n",
    "print(evaluate(ages_test, ages_train, metrics=['CSTest', 'KSTest'], aggregate=True))\n",
    "\n",
    "print(\" \")\n",
    "print(\"==\"*20)\n",
    "print(\"CSTest and KSTest evaluation score for ourGAN : \")\n",
    "print(evaluate(df_ages_ourGAN, df_ages, metrics=['CSTest', 'KSTest'], aggregate=True))\n",
    "\n",
    "print(\" \")\n",
    "print(\"==\"*20)\n",
    "print(\"CSTest and KSTest evaluation score for CTGAN : \")\n",
    "print(evaluate(df_ages_CTGAN, df_ages, metrics=['CSTest', 'KSTest'], aggregate=True))\n",
    "\n"
   ]
  },
  {
   "cell_type": "markdown",
   "metadata": {},
   "source": [
    "# Evaluate all age ethnicity"
   ]
  },
  {
   "cell_type": "code",
   "execution_count": 32,
   "metadata": {},
   "outputs": [
    {
     "name": "stdout",
     "output_type": "stream",
     "text": [
      "========================================\n",
      "Real age ethnicity data:\n",
      "(2253, 2)\n",
      "                   age\n",
      "ethnicity             \n",
      "African American   231\n",
      "Caucasian         2010\n",
      "Native American     12\n",
      "========================================\n",
      "Our GAN generated data:\n",
      "(4506, 2)\n",
      "                   age\n",
      "ethnicity             \n",
      "African American   462\n",
      "Caucasian         4020\n",
      "Native American     24\n",
      "========================================\n",
      "Our distributed GAN generated data:\n",
      "(4506, 2)\n",
      "                   age\n",
      "ethnicity             \n",
      "African American   462\n",
      "Caucasian         4020\n",
      "Native American     24\n",
      "========================================\n",
      "CTGAN generated data:\n",
      "(2252, 2)\n",
      "                   age\n",
      "ethnicity             \n",
      "African American   251\n",
      "Caucasian         1980\n",
      "Native American     21\n"
     ]
    }
   ],
   "source": [
    "# real data\n",
    "print(\"==\"*20)\n",
    "print(\"Real age ethnicity data:\")\n",
    "npy_age_eth = np.load('../data/eICU_age_ethnicity.npy', allow_pickle=True)\n",
    "df_ages_eths = pd.DataFrame(zip(np.asarray(npy_age_eth[:,0].flatten().tolist()).flatten(), np.asarray(npy_age_eth[:,1].flatten().tolist()).flatten()), columns=['age','ethnicity'])\n",
    "df_ages_eths = df_ages_eths[['age','ethnicity']]\n",
    "print(df_ages_eths.shape)\n",
    "print(df_ages_eths.groupby('ethnicity').count())\n",
    "\n",
    "# train test split the real data\n",
    "ages_eths_train, ages_eths_test = train_test_split(df_ages_eths, test_size=0.2, random_state=42)\n",
    "\n",
    "# get the synthetic data\n",
    "print(\"==\"*20)\n",
    "print(\"Our GAN generated data:\")\n",
    "df_ages_eths_ourGAN = pd.read_csv('../data/age_eth_output.csv')\n",
    "df_ages_eths_ourGAN = df_ages_eths_ourGAN[['age','ethnicity']]\n",
    "print(df_ages_eths_ourGAN.shape)\n",
    "print(df_ages_eths_ourGAN.groupby('ethnicity').count())\n",
    "\n",
    "print(\"==\"*20)\n",
    "print(\"Our distributed GAN generated data:\")\n",
    "df_dist_ages_eths_ourGAN = pd.read_csv('../data/dist_age_eth_output.csv')\n",
    "df_dist_ages_eths_ourGAN = df_dist_ages_eths_ourGAN[['age','ethnicity']]\n",
    "print(df_dist_ages_eths_ourGAN.shape)\n",
    "print(df_dist_ages_eths_ourGAN.groupby('ethnicity').count())\n",
    "\n",
    "print(\"==\"*20)\n",
    "print(\"CTGAN generated data:\")\n",
    "df_ages_eths_CTGAN = pd.read_csv('../data/CTGAN_age_ethnicity.csv')\n",
    "df_ages_eths_CTGAN = df_ages_eths_CTGAN[['age','ethnicity']]\n",
    "print(df_ages_eths_CTGAN.shape)\n",
    "print(df_ages_eths_CTGAN.groupby('ethnicity').count())\n",
    "\n"
   ]
  },
  {
   "cell_type": "code",
   "execution_count": 34,
   "metadata": {},
   "outputs": [
    {
     "name": "stdout",
     "output_type": "stream",
     "text": [
      "Age Ethnicity Machine Learning Efficacy Comparison:\n",
      "========================================\n",
      "MulticlassDecisionTreeClassifier Accuracy:\n",
      "train/test split of real data:  0.314\n",
      "real vs. our synthetic:  0.358\n",
      "real vs. our distributed synthetic:  0.358\n",
      "real vs. CTGAN synthetic:  0.334\n",
      "========================================\n",
      "MulticlassMLPClassifier Accuracy:\n",
      "train/test split of real data:  0.315\n",
      "real vs. our synthetic:  0.314\n",
      "real vs. our distributed synthetic:  0.314\n",
      "real vs. CTGAN synthetic:  0.314\n"
     ]
    }
   ],
   "source": [
    "print(\"Age Ethnicity Machine Learning Efficacy Comparison:\")\n",
    "print(\"==\"*20)\n",
    "print(\"MulticlassDecisionTreeClassifier Accuracy:\")\n",
    "print(\"train/test split of real data: \",np.round(MulticlassDecisionTreeClassifier.compute(ages_eths_test, ages_eths_train, target='ethnicity'),3))\n",
    "print(\"real vs. our synthetic: \", np.round(MulticlassDecisionTreeClassifier.compute(df_ages_eths, df_ages_eths_ourGAN, target='ethnicity'),3))\n",
    "print(\"real vs. our distributed synthetic: \", np.round(MulticlassDecisionTreeClassifier.compute(df_ages_eths, df_dist_ages_eths_ourGAN, target='ethnicity'),3))\n",
    "print(\"real vs. CTGAN synthetic: \", np.round(MulticlassDecisionTreeClassifier.compute(df_ages_eths, df_ages_eths_CTGAN, target='ethnicity'),3))\n",
    "\n",
    "print(\"==\"*20)\n",
    "print(\"MulticlassMLPClassifier Accuracy:\")\n",
    "print(\"train/test split of real data: \",np.round(MulticlassMLPClassifier.compute(ages_eths_test, ages_eths_train, target='ethnicity'),3))\n",
    "print(\"real vs. our synthetic: \", np.round(MulticlassMLPClassifier.compute(df_ages_eths, df_ages_eths_ourGAN, target='ethnicity'),3))\n",
    "print(\"real vs. our distributed synthetic: \", np.round(MulticlassMLPClassifier.compute(df_ages_eths, df_dist_ages_eths_ourGAN, target='ethnicity'),3))\n",
    "print(\"real vs. CTGAN synthetic: \", np.round(MulticlassMLPClassifier.compute(df_ages_eths, df_ages_eths_CTGAN, target='ethnicity'),3))"
   ]
  },
  {
   "cell_type": "code",
   "execution_count": 35,
   "metadata": {},
   "outputs": [
    {
     "name": "stdout",
     "output_type": "stream",
     "text": [
      "AGE ETHNICITY TYPE SCORES:\n",
      "CSTest and KSTest evaluation score for real data train / test split: \n",
      "0.9835240139166048\n",
      " \n",
      "========================================\n",
      "CSTest and KSTest evaluation score for our GAN : \n",
      "0.9825787838437638\n",
      " \n",
      "========================================\n",
      "CSTest and KSTest evaluation score for our  distributed GAN : \n",
      "0.9826897470039947\n",
      " \n",
      "========================================\n",
      "CSTest and KSTest evaluation score for CTGAN : \n",
      "0.9530016893411468\n"
     ]
    }
   ],
   "source": [
    "print(\"AGE ETHNICITY TYPE SCORES:\")\n",
    "print(\"CSTest and KSTest evaluation score for real data train / test split: \")\n",
    "print(evaluate(ages_eths_test, ages_eths_train, metrics=['CSTest', 'KSTest'], aggregate=True))\n",
    "\n",
    "print(\" \")\n",
    "print(\"==\"*20)\n",
    "print(\"CSTest and KSTest evaluation score for our GAN : \")\n",
    "print(evaluate(df_ages_eths_ourGAN, df_ages_eths, metrics=['CSTest', 'KSTest'], aggregate=True))\n",
    "\n",
    "print(\" \")\n",
    "print(\"==\"*20)\n",
    "print(\"CSTest and KSTest evaluation score for our  distributed GAN : \")\n",
    "print(evaluate(df_dist_ages_eths_ourGAN, df_ages_eths, metrics=['CSTest', 'KSTest'], aggregate=True))\n",
    "\n",
    "print(\" \")\n",
    "print(\"==\"*20)\n",
    "print(\"CSTest and KSTest evaluation score for CTGAN : \")\n",
    "print(evaluate(df_ages_eths_CTGAN, df_ages_eths, metrics=['CSTest', 'KSTest'], aggregate=True))"
   ]
  },
  {
   "cell_type": "code",
   "execution_count": null,
   "metadata": {},
   "outputs": [],
   "source": []
  }
 ],
 "metadata": {
  "interpreter": {
   "hash": "34b722ad9db4b3bab2fc22ea7ad4e4dafa3a71a0a38143cc4f1aba484bf1fe4b"
  },
  "kernelspec": {
   "display_name": "Python 3.9.5 64-bit",
   "language": "python",
   "name": "python3"
  },
  "language_info": {
   "codemirror_mode": {
    "name": "ipython",
    "version": 3
   },
   "file_extension": ".py",
   "mimetype": "text/x-python",
   "name": "python",
   "nbconvert_exporter": "python",
   "pygments_lexer": "ipython3",
   "version": "3.9.5"
  },
  "orig_nbformat": 4
 },
 "nbformat": 4,
 "nbformat_minor": 2
}
