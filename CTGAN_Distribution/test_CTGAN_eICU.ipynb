{
 "cells": [
  {
   "cell_type": "markdown",
   "metadata": {},
   "source": [
    "# Evaluate CTGAN on eICU cardiorespiratory past history data"
   ]
  },
  {
   "cell_type": "code",
   "execution_count": null,
   "metadata": {},
   "outputs": [],
   "source": [
    "#!pip install sdv"
   ]
  },
  {
   "cell_type": "code",
   "execution_count": 1,
   "metadata": {},
   "outputs": [],
   "source": [
    "import os\n",
    "import numpy as np\n",
    "import pandas as pd\n",
    "import sys\n",
    "import ctgan\n",
    "from ctgan import CTGANSynthesizer\n",
    "#from ctgan import load_demo\n",
    "\n",
    "# hide warnings\n",
    "import warnings\n",
    "warnings.filterwarnings(\"ignore\")"
   ]
  },
  {
   "cell_type": "code",
   "execution_count": 2,
   "metadata": {},
   "outputs": [
    {
     "data": {
      "text/plain": [
       "'/home/dianam/Documents/data_science/PlayGround/DS6050/CTGAN_Distribution'"
      ]
     },
     "execution_count": 2,
     "metadata": {},
     "output_type": "execute_result"
    }
   ],
   "source": [
    "os.getcwd()"
   ]
  },
  {
   "cell_type": "code",
   "execution_count": null,
   "metadata": {},
   "outputs": [],
   "source": [
    "# create the reverse one hot encoded data\n",
    "\"\"\"\n",
    "# load the CTGAN demo data\n",
    "data = pd.read_csv('examples\\csv\\patients_allpasthistory_onehot_cardiorespiratory.csv')\n",
    "data.columns\n",
    "\n",
    "os.chdir('../eICU_gan/dataprep')\n",
    "#os.getcwd()\n",
    "\n",
    "from create_eICU_data import reverse_one_hot\n",
    "\n",
    "os.chdir('../../CTGAN_Distribution')\n",
    "#os.getcwd()\n",
    "\n",
    "new_df = reverse_one_hot(data, columns=['ethnicity_AfricanAmerican',\n",
    "       'ethnicity_Asian', 'ethnicity_Caucasian', 'ethnicity_Hispanic',\n",
    "       'ethnicity_NativeAmerican', 'ethnicity_Other/Unknown'], prefix='ethnicity_', new_col='ethnicity')\n",
    "#new_df.head()\n",
    "\n",
    "new_df = reverse_one_hot(new_df, columns=['gender_Female','gender_Male'], prefix='gender_', new_col='gender')\n",
    "\n",
    "new_df = reverse_one_hot(new_df, columns=['dischargestatus_Alive', 'dischargestatus_Expired'], prefix='dischargestatus_', new_col='dischargestatus')\n",
    "\n",
    "#new_df.head()\n",
    "\n",
    "print(new_df.columns)\n",
    "# set the names of the demo data columns that are discrete\n",
    "\n",
    "# save the eICU data without one hot encoded values so we can re-use it\n",
    "new_df.to_csv('examples/csv/patients_cardiorespiratory_textcats.csv', index=False)\n",
    "\"\"\""
   ]
  },
  {
   "cell_type": "code",
   "execution_count": 5,
   "metadata": {},
   "outputs": [],
   "source": [
    "new_df = pd.read_csv('examples/csv/patients_cardiorespiratory_textcats.csv')"
   ]
  },
  {
   "cell_type": "code",
   "execution_count": 6,
   "metadata": {},
   "outputs": [
    {
     "data": {
      "text/plain": [
       "Index(['age', 'hospitaldischargeoffset', 'CHF', 'COPD_moderate',\n",
       "       'COPD_nolimitations', 'COPD_severe', 'NoHealthProblems', 'asthma',\n",
       "       'homeoxygen', 'hypertensionrequiringtreatment',\n",
       "       'restrictivepulmonarydisease', 'All', 'ethnicity', 'gender',\n",
       "       'dischargestatus'],\n",
       "      dtype='object')"
      ]
     },
     "execution_count": 6,
     "metadata": {},
     "output_type": "execute_result"
    }
   ],
   "source": [
    "new_df.columns"
   ]
  },
  {
   "cell_type": "code",
   "execution_count": 7,
   "metadata": {},
   "outputs": [],
   "source": [
    "discrete_columns = [\n",
    "    'CHF', 'COPD_moderate',\n",
    "       'COPD_nolimitations', 'COPD_severe', 'NoHealthProblems', 'asthma',\n",
    "       'homeoxygen', 'hypertensionrequiringtreatment',\n",
    "       'restrictivepulmonarydisease', 'All', 'ethnicity', 'gender',\n",
    "       'dischargestatus'\n",
    "]"
   ]
  },
  {
   "cell_type": "code",
   "execution_count": 13,
   "metadata": {},
   "outputs": [
    {
     "name": "stdout",
     "output_type": "stream",
     "text": [
      "(0, 24)\n"
     ]
    },
    {
     "data": {
      "text/html": [
       "<div>\n",
       "<style scoped>\n",
       "    .dataframe tbody tr th:only-of-type {\n",
       "        vertical-align: middle;\n",
       "    }\n",
       "\n",
       "    .dataframe tbody tr th {\n",
       "        vertical-align: top;\n",
       "    }\n",
       "\n",
       "    .dataframe thead th {\n",
       "        text-align: right;\n",
       "    }\n",
       "</style>\n",
       "<table border=\"1\" class=\"dataframe\">\n",
       "  <thead>\n",
       "    <tr style=\"text-align: right;\">\n",
       "      <th></th>\n",
       "      <th>epochs</th>\n",
       "      <th>time</th>\n",
       "      <th>distributed</th>\n",
       "      <th>num_generated_samples</th>\n",
       "      <th>CSTest_Value_ours_v_real</th>\n",
       "      <th>KSTest_Value_ours_v_real</th>\n",
       "      <th>CSTest_Value_real_train_test</th>\n",
       "      <th>KSTest_Value_real_train_test</th>\n",
       "      <th>COPD_severe_MulticlassDecisionTreeClassifier</th>\n",
       "      <th>COPD_severe_MulticlassMLPClassifier</th>\n",
       "      <th>...</th>\n",
       "      <th>dischargestatus_MulticlassDecisionTreeClassifier</th>\n",
       "      <th>dischargestatus_MulticlassMLPClassifier</th>\n",
       "      <th>realsplit_COPD_severe_MulticlassDecisionTreeClassifier</th>\n",
       "      <th>realsplit_COPD_severe_MulticlassMLPClassifier</th>\n",
       "      <th>realsplit_CHF_MulticlassDecisionTreeClassifier</th>\n",
       "      <th>realsplit_CHF_MulticlassMLPClassifier</th>\n",
       "      <th>realsplit_dischargestatus_MulticlassDecisionTreeClassifier</th>\n",
       "      <th>realsplit_dischargestatus_MulticlassMLPClassifier</th>\n",
       "      <th>realsplit_NoHealthProblems_MulticlassDecisionTreeClassifier</th>\n",
       "      <th>realsplit_NoHealthProblems_MulticlassMLPClassifier</th>\n",
       "    </tr>\n",
       "  </thead>\n",
       "  <tbody>\n",
       "  </tbody>\n",
       "</table>\n",
       "<p>0 rows × 24 columns</p>\n",
       "</div>"
      ],
      "text/plain": [
       "Empty DataFrame\n",
       "Columns: [epochs, time, distributed, num_generated_samples, CSTest_Value_ours_v_real, KSTest_Value_ours_v_real, CSTest_Value_real_train_test, KSTest_Value_real_train_test, COPD_severe_MulticlassDecisionTreeClassifier, COPD_severe_MulticlassMLPClassifier, CHF_MulticlassDecisionTreeClassifier, CHF_MulticlassMLPClassifier, NoHealthProblems_MulticlassDecisionTreeClassifier, NoHealthProblems_MulticlassMLPClassifier, dischargestatus_MulticlassDecisionTreeClassifier, dischargestatus_MulticlassMLPClassifier, realsplit_COPD_severe_MulticlassDecisionTreeClassifier, realsplit_COPD_severe_MulticlassMLPClassifier, realsplit_CHF_MulticlassDecisionTreeClassifier, realsplit_CHF_MulticlassMLPClassifier, realsplit_dischargestatus_MulticlassDecisionTreeClassifier, realsplit_dischargestatus_MulticlassMLPClassifier, realsplit_NoHealthProblems_MulticlassDecisionTreeClassifier, realsplit_NoHealthProblems_MulticlassMLPClassifier]\n",
       "Index: []\n",
       "\n",
       "[0 rows x 24 columns]"
      ]
     },
     "execution_count": 13,
     "metadata": {},
     "output_type": "execute_result"
    }
   ],
   "source": [
    "# create the dataframe format and csv file to save evaluations of the CTGAN\n",
    "# columns will be number epoch, generator loss, discriminator loss, number of generated samples, \n",
    "# CSTest Value ours vs real, KSTest Value ours vs real, \n",
    "# CSTest Value real train/test, KSTest Value real train/test,\n",
    "# MulticlassDecisionTreeClassifier for COPD_severe, MulticlassMLPClassifier for COPD_severe, \n",
    "# MulticlassDecisionTreeClassifier for CHF, MulticlassMLPClassifier for CHF\n",
    "# MulticlassDecisionTreeClassifier for dischargestatus, MulticlassMLPClassifier for dischargestatus\n",
    "# MulticlassDecisionTreeClassifier for COPD_severe, MulticlassMLPClassifier for COPD_severe - real train/test split, \n",
    "# MulticlassDecisionTreeClassifier for CHF, MulticlassMLPClassifier for CHF - real train/test split, \n",
    "# MulticlassDecisionTreeClassifier for dischargestatus, MulticlassMLPClassifier for dischargestatus - real train/test split, \n",
    "\n",
    "df_CTGAN_eval = pd.DataFrame(columns=['epochs', 'time', 'distributed', 'num_generated_samples', \n",
    "'CSTest_Value_ours_v_real', 'KSTest_Value_ours_v_real', 'CSTest_Value_real_train_test', 'KSTest_Value_real_train_test',\n",
    "'COPD_severe_MulticlassDecisionTreeClassifier', 'COPD_severe_MulticlassMLPClassifier', \n",
    "'CHF_MulticlassDecisionTreeClassifier', 'CHF_MulticlassMLPClassifier', \n",
    "'NoHealthProblems_MulticlassDecisionTreeClassifier', 'NoHealthProblems_MulticlassMLPClassifier', \n",
    "'dischargestatus_MulticlassDecisionTreeClassifier', 'dischargestatus_MulticlassMLPClassifier',\n",
    "'realsplit_COPD_severe_MulticlassDecisionTreeClassifier', 'realsplit_COPD_severe_MulticlassMLPClassifier',\n",
    "'realsplit_CHF_MulticlassDecisionTreeClassifier', 'realsplit_CHF_MulticlassMLPClassifier', \n",
    "'realsplit_dischargestatus_MulticlassDecisionTreeClassifier', 'realsplit_dischargestatus_MulticlassMLPClassifier',\n",
    "'realsplit_NoHealthProblems_MulticlassDecisionTreeClassifier', 'realsplit_NoHealthProblems_MulticlassMLPClassifier'\n",
    "])\n",
    "\n",
    "# save the evaluation dataframe to a csv file\n",
    "# LEAVE THIS COMMENTED OUT UNLESS YOU WANT TO OVERWRITE \n",
    "df_CTGAN_eval.to_csv('examples/csv/CTGAN_eval.csv', index=False)\n",
    "\n",
    "#df_CTGAN_eval.head()\n",
    "\n",
    "# load the evaluation dataframe from the csv file\n",
    "df_CTGAN_eval = pd.read_csv('examples/csv/CTGAN_eval.csv')\n",
    "print(df_CTGAN_eval.shape)\n",
    "df_CTGAN_eval.head()"
   ]
  },
  {
   "cell_type": "code",
   "execution_count": null,
   "metadata": {},
   "outputs": [
    {
     "name": "stdout",
     "output_type": "stream",
     "text": [
      "==========================================================================================\n",
      "num epochs:  10\n",
      "distributed:  True\n",
      "num samples:  2500\n",
      " \n",
      "Individual evaluation scores for real data train / test split: \n",
      "real CSTest score:  0.9601924543019867\n",
      "real KSTest score:  0.9868813114813882\n",
      " \n",
      "Individual evaluation scores for real data and CTGAN data: \n",
      "CTGAN CSTest score:  0.9884711244821958\n",
      "CTGAN KSTest score:  0.9479685906923203\n",
      "==========================================================================================\n",
      "num epochs:  10\n",
      "distributed:  True\n",
      "num samples:  5000\n",
      " \n",
      "Individual evaluation scores for real data train / test split: \n",
      "real CSTest score:  0.9601924543019867\n",
      "real KSTest score:  0.9868813114813882\n",
      " \n",
      "Individual evaluation scores for real data and CTGAN data: \n",
      "CTGAN CSTest score:  0.9372130377257667\n",
      "CTGAN KSTest score:  0.9374210985035356\n",
      "==========================================================================================\n",
      "num epochs:  10\n",
      "distributed:  False\n",
      "num samples:  2500\n",
      " \n",
      "Individual evaluation scores for real data train / test split: \n",
      "real CSTest score:  0.9601924543019867\n",
      "real KSTest score:  0.9868813114813882\n",
      " \n",
      "Individual evaluation scores for real data and CTGAN data: \n",
      "CTGAN CSTest score:  0.9766910621818908\n",
      "CTGAN KSTest score:  0.9308627692813681\n",
      "==========================================================================================\n",
      "num epochs:  10\n",
      "distributed:  False\n",
      "num samples:  5000\n",
      " \n",
      "Individual evaluation scores for real data train / test split: \n",
      "real CSTest score:  0.9601924543019867\n",
      "real KSTest score:  0.9868813114813882\n",
      " \n",
      "Individual evaluation scores for real data and CTGAN data: \n",
      "CTGAN CSTest score:  0.9635117050278644\n",
      "CTGAN KSTest score:  0.9368724387436277\n",
      "==========================================================================================\n",
      "num epochs:  1000\n",
      "distributed:  True\n",
      "num samples:  2500\n"
     ]
    }
   ],
   "source": [
    "import time\n",
    "from sdv.evaluation import evaluate\n",
    "import pandas as pd\n",
    "import numpy as np\n",
    "import seaborn as sns\n",
    "import matplotlib.pyplot as plt\n",
    "from sdv.metrics.tabular import MulticlassDecisionTreeClassifier, MulticlassMLPClassifier\n",
    "from sklearn.model_selection import train_test_split\n",
    "\n",
    "lst_num_epochs = [10,1000,5000,10000,15000,20000,25000]\n",
    "lst_distributed = [True,False]\n",
    "lst_num_samples = [2500,5000]\n",
    "\n",
    "for e in lst_num_epochs:\n",
    "    for dis in lst_distributed:\n",
    "        for ns in lst_num_samples:\n",
    "\n",
    "            print(\"===\" * 30)\n",
    "            print(\"num epochs: \", e)\n",
    "            print(\"distributed: \", dis)\n",
    "            print(\"num samples: \", ns)\n",
    "\n",
    "            # initialze the CTGAN for 10 epochs, verbose, and both the generator and discriminator distributed\n",
    "            ctgan = CTGANSynthesizer(epochs=e, verbose=False, distribute_g=dis, distribute_d=dis)\n",
    "\n",
    "            # start the timer\n",
    "            start_time = time.time()\n",
    "\n",
    "            # fit the data == train CTGAN\n",
    "            ctgan.fit(new_df, discrete_columns)\n",
    "\n",
    "            end_time = time.time()\n",
    "            total_time = end_time - start_time\n",
    "\n",
    "            # gererate samples to evaluate the CTGAN\n",
    "            samples = ctgan.sample(ns)\n",
    "\n",
    "            # create a train/test split of the real data\n",
    "            df_train, df_test = train_test_split(new_df, test_size=0.2, random_state=314)\n",
    "\n",
    "            print(\" \")\n",
    "            print(\"Individual evaluation scores for real data train / test split: \")\n",
    "            df_eval_real = evaluate(df_test, df_train, metrics=['CSTest', 'KSTest'], aggregate=False)\n",
    "            real_CSTest_score = df_eval_real.query('metric == \"CSTest\"')['normalized_score'].values[0]\n",
    "            real_KSTest_score = df_eval_real.query('metric == \"KSTest\"')['normalized_score'].values[0]\n",
    "            print(\"real CSTest score: \", real_CSTest_score)\n",
    "            print(\"real KSTest score: \", real_KSTest_score)\n",
    " \n",
    "            print(\" \")\n",
    "            print(\"Individual evaluation scores for real data and CTGAN data: \")\n",
    "            df_eval_ctgan = evaluate(new_df, samples, metrics=['CSTest', 'KSTest'], aggregate=False)\n",
    "\n",
    "            ctgan_CSTest_score = df_eval_ctgan.query('metric == \"CSTest\"')['normalized_score'].values[0]\n",
    "            ctgan_KSTest_score = df_eval_ctgan.query('metric == \"KSTest\"')['normalized_score'].values[0]\n",
    "\n",
    "            print(\"CTGAN CSTest score: \", ctgan_CSTest_score)\n",
    "            print(\"CTGAN KSTest score: \", ctgan_KSTest_score)\n",
    "\n",
    "            # COPD severe evaluation\n",
    "            treeclassifier_COPDsevere_ctgan = MulticlassDecisionTreeClassifier.compute(new_df, samples, target='COPD_severe')\n",
    "            mlpclassifier_COPDsevere_ctgan = MulticlassMLPClassifier.compute(new_df, samples, target='COPD_severe')\n",
    "            treeclassifier_COPDsevere_real = MulticlassDecisionTreeClassifier.compute(df_test, df_train, target='COPD_severe')\n",
    "            mlpclassifier_COPDsevere_real = MulticlassMLPClassifier.compute(df_test, df_train, target='COPD_severe')\n",
    "\n",
    "            #CHF evaluation\n",
    "            treeclassifier_CHF_ctgan = MulticlassDecisionTreeClassifier.compute(new_df, samples, target='CHF')\n",
    "            mlpclassifier_CHF_ctgan = MulticlassMLPClassifier.compute(new_df, samples, target='CHF')\n",
    "            treeclassifier_CHF_real = MulticlassDecisionTreeClassifier.compute(df_test, df_train, target='CHF')\n",
    "            mlpclassifier_CHF_real = MulticlassMLPClassifier.compute(df_test, df_train, target='CHF')\n",
    "\n",
    "            # dischargestatus evaluation\n",
    "            treeclassifier_dischargestatus_ctgan = MulticlassDecisionTreeClassifier.compute(new_df, samples, target='dischargestatus')\n",
    "            mlpclassifier_dischargestatus_ctgan = MulticlassMLPClassifier.compute(new_df, samples, target='dischargestatus')\n",
    "            treeclassifier_dischargestatus_real = MulticlassDecisionTreeClassifier.compute(df_test, df_train, target='dischargestatus')\n",
    "            mlpclassifier_dischargestatus_real = MulticlassMLPClassifier.compute(df_test, df_train, target='dischargestatus')\n",
    "\n",
    "            # NoHealthProblems evaluation\n",
    "            treeclassifier_NoHealthProblems_ctgan = MulticlassDecisionTreeClassifier.compute(new_df, samples, target='NoHealthProblems')\n",
    "            mlpclassifier_NoHealthProblems_ctgan = MulticlassMLPClassifier.compute(new_df, samples, target='NoHealthProblems')\n",
    "            treeclassifier_NoHealthProblems_real = MulticlassDecisionTreeClassifier.compute(df_test, df_train, target='NoHealthProblems')\n",
    "            mlpclassifier_NoHealthProblems_real = MulticlassMLPClassifier.compute(df_test, df_train, target='NoHealthProblems')\n",
    "\n",
    "            df_CTGAN_eval.loc[len(df_CTGAN_eval.index)] = [e, total_time, dis,\n",
    "            ns, ctgan_CSTest_score, \n",
    "            ctgan_KSTest_score, real_CSTest_score, \n",
    "            real_KSTest_score, \n",
    "            treeclassifier_COPDsevere_ctgan, \n",
    "            mlpclassifier_COPDsevere_ctgan, \n",
    "            treeclassifier_CHF_ctgan, mlpclassifier_CHF_ctgan,\n",
    "            treeclassifier_NoHealthProblems_ctgan, \n",
    "            mlpclassifier_NoHealthProblems_ctgan,\n",
    "            treeclassifier_dischargestatus_ctgan, \n",
    "            mlpclassifier_dischargestatus_ctgan,\n",
    "            treeclassifier_COPDsevere_real, \n",
    "            mlpclassifier_COPDsevere_real, \n",
    "            treeclassifier_CHF_ctgan, mlpclassifier_CHF_real,\n",
    "            treeclassifier_NoHealthProblems_real, \n",
    "            mlpclassifier_NoHealthProblems_real,\n",
    "            treeclassifier_dischargestatus_real, \n",
    "            mlpclassifier_dischargestatus_real]\n",
    "\n",
    "\n",
    "df_CTGAN_eval.to_csv('examples/csv/CTGAN_eval.csv', index=False)\n",
    "df_CTGAN_eval.head()\n",
    "\n",
    "        \n"
   ]
  },
  {
   "cell_type": "code",
   "execution_count": 14,
   "metadata": {},
   "outputs": [
    {
     "data": {
      "text/plain": [
       "Index(['epochs', 'time', 'distributed', 'num_generated_samples',\n",
       "       'CSTest_Value_ours_v_real', 'KSTest_Value_ours_v_real',\n",
       "       'CSTest_Value_real_train_test', 'KSTest_Value_real_train_test',\n",
       "       'COPD_severe_MulticlassDecisionTreeClassifier',\n",
       "       'COPD_severe_MulticlassMLPClassifier',\n",
       "       'CHF_MulticlassDecisionTreeClassifier', 'CHF_MulticlassMLPClassifier',\n",
       "       'NoHealthProblems_MulticlassDecisionTreeClassifier',\n",
       "       'NoHealthProblems_MulticlassMLPClassifier',\n",
       "       'dischargestatus_MulticlassDecisionTreeClassifier',\n",
       "       'dischargestatus_MulticlassMLPClassifier',\n",
       "       'realsplit_COPD_severe_MulticlassDecisionTreeClassifier',\n",
       "       'realsplit_COPD_severe_MulticlassMLPClassifier',\n",
       "       'realsplit_CHF_MulticlassDecisionTreeClassifier',\n",
       "       'realsplit_CHF_MulticlassMLPClassifier',\n",
       "       'realsplit_dischargestatus_MulticlassDecisionTreeClassifier',\n",
       "       'realsplit_dischargestatus_MulticlassMLPClassifier',\n",
       "       'realsplit_NoHealthProblems_MulticlassDecisionTreeClassifier',\n",
       "       'realsplit_NoHealthProblems_MulticlassMLPClassifier'],\n",
       "      dtype='object')"
      ]
     },
     "execution_count": 14,
     "metadata": {},
     "output_type": "execute_result"
    }
   ],
   "source": [
    "df_CTGAN_eval.columns"
   ]
  },
  {
   "cell_type": "code",
   "execution_count": 154,
   "metadata": {},
   "outputs": [
    {
     "data": {
      "text/plain": [
       "<matplotlib.legend.Legend at 0x1eeb59c9790>"
      ]
     },
     "execution_count": 154,
     "metadata": {},
     "output_type": "execute_result"
    },
    {
     "data": {
      "image/png": "[encoded data removed]",
      "text/plain": [
       "<Figure size 432x288 with 1 Axes>"
      ]
     },
     "metadata": {
      "needs_background": "light"
     },
     "output_type": "display_data"
    }
   ],
   "source": [
    "plt.scatter(df_CTGAN_eval['epochs'], df_CTGAN_eval['KSTest_Value_ours_v_real'], label='KSTest Value CTGAN v real')\n",
    "plt.scatter(df_CTGAN_eval['epochs'], df_CTGAN_eval['CSTest_Value_ours_v_real'], c='orange', label='CSTest Value CTGAN v real')\n",
    "plt.scatter(df_CTGAN_eval['epochs'], df_CTGAN_eval['KSTest_Value_real_train_test'], c='red', label='KSTest Value real train/test')\n",
    "plt.scatter(df_CTGAN_eval['epochs'], df_CTGAN_eval['CSTest_Value_real_train_test'], c='green', label='CSTest Value real train/test')\n",
    "plt.legend()"
   ]
  },
  {
   "cell_type": "code",
   "execution_count": null,
   "metadata": {},
   "outputs": [],
   "source": []
  }
 ],
 "metadata": {
  "interpreter": {
   "hash": "34b722ad9db4b3bab2fc22ea7ad4e4dafa3a71a0a38143cc4f1aba484bf1fe4b"
  },
  "kernelspec": {
   "display_name": "Python 3",
   "language": "python",
   "name": "python3"
  },
  "language_info": {
   "codemirror_mode": {
    "name": "ipython",
    "version": 3
   },
   "file_extension": ".py",
   "mimetype": "text/x-python",
   "name": "python",
   "nbconvert_exporter": "python",
   "pygments_lexer": "ipython3",
   "version": "3.8.6"
  }
 },
 "nbformat": 4,
 "nbformat_minor": 4
}
