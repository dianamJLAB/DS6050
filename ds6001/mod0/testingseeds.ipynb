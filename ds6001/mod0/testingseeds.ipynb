{
 "cells": [
  {
   "cell_type": "code",
   "execution_count": 3,
   "metadata": {},
   "outputs": [
    {
     "name": "stdout",
     "output_type": "stream",
     "text": [
      "Hashseed is not set\n"
     ]
    }
   ],
   "source": [
    "#!/usr/bin/env python\n",
    "import os\n",
    "\n",
    "try:\n",
    "    s = 'abc'\n",
    "    print('Hashseed is', os.environ['PYTHONHASHSEED'])\n",
    "    print('hash of s is', hash(s))\n",
    "except:\n",
    "    print('Hashseed is not set')"
   ]
  },
  {
   "cell_type": "code",
   "execution_count": 7,
   "metadata": {},
   "outputs": [
    {
     "name": "stdout",
     "output_type": "stream",
     "text": [
      "4960148502987959528\n"
     ]
    }
   ],
   "source": [
    "print(hash(\"keras\"))"
   ]
  },
  {
   "cell_type": "code",
   "execution_count": 2,
   "metadata": {},
   "outputs": [
    {
     "name": "stdout",
     "output_type": "stream",
     "text": [
      "ALLUSERSPROFILE\n",
      "APPDATA\n",
      "APPLICATION_INSIGHTS_NO_DIAGNOSTIC_CHANNEL\n",
      "CHROME_CRASHPAD_PIPE_NAME\n",
      "CLICOLOR\n",
      "CLICOLOR_FORCE\n",
      "COMMONPROGRAMFILES\n",
      "COMMONPROGRAMFILES(X86)\n",
      "COMMONPROGRAMW6432\n",
      "COMPUTERNAME\n",
      "COMSPEC\n",
      "CONDA_DEFAULT_ENV\n",
      "CONDA_EXE\n",
      "CONDA_PREFIX\n",
      "CONDA_PREFIX_1\n",
      "CONDA_PROMPT_MODIFIER\n",
      "CONDA_PYTHON_EXE\n",
      "CONDA_SHLVL\n",
      "DRIVERDATA\n",
      "ELECTRON_RUN_AS_NODE\n",
      "FORCE_COLOR\n",
      "GIT_LFS_PATH\n",
      "GIT_PAGER\n",
      "HOMEDRIVE\n",
      "HOMEPATH\n",
      "JAVA_HOME\n",
      "JPY_INTERRUPT_EVENT\n",
      "LOCALAPPDATA\n",
      "LOGONSERVER\n",
      "MPLBACKEND\n",
      "NUMBER_OF_PROCESSORS\n",
      "ONEDRIVE\n",
      "ONEDRIVECOMMERCIAL\n",
      "ORIGINAL_XDG_CURRENT_DESKTOP\n",
      "OS\n",
      "PAGER\n",
      "PATH\n",
      "PATHEXT\n",
      "PROCESSOR_ARCHITECTURE\n",
      "PROCESSOR_IDENTIFIER\n",
      "PROCESSOR_LEVEL\n",
      "PROCESSOR_REVISION\n",
      "PROGRAMDATA\n",
      "PROGRAMFILES\n",
      "PROGRAMFILES(X86)\n",
      "PROGRAMW6432\n",
      "PROMPT\n",
      "PSMODULEPATH\n",
      "PUBLIC\n",
      "PYDEVD_IPYTHON_COMPATIBLE_DEBUGGING\n",
      "PYTHONIOENCODING\n",
      "PYTHONUNBUFFERED\n",
      "SESSIONNAME\n",
      "SYSTEMDRIVE\n",
      "SYSTEMROOT\n",
      "TEMP\n",
      "TERM\n",
      "TMP\n",
      "UATDATA\n",
      "USERDNSDOMAIN\n",
      "USERDOMAIN\n",
      "USERDOMAIN_ROAMINGPROFILE\n",
      "USERNAME\n",
      "USERPROFILE\n",
      "VBOX_MSI_INSTALL_PATH\n",
      "VSCODE_AMD_ENTRYPOINT\n",
      "VSCODE_CODE_CACHE_PATH\n",
      "VSCODE_CWD\n",
      "VSCODE_HANDLES_UNCAUGHT_ERRORS\n",
      "VSCODE_IPC_HOOK\n",
      "VSCODE_NLS_CONFIG\n",
      "VSCODE_PID\n",
      "WINDIR\n"
     ]
    }
   ],
   "source": [
    "for i in sorted(os.environ):\n",
    "    print(i)"
   ]
  },
  {
   "cell_type": "code",
   "execution_count": 1,
   "metadata": {},
   "outputs": [],
   "source": [
    "import numpy as np\n",
    "import tensorflow as tf"
   ]
  },
  {
   "cell_type": "code",
   "execution_count": 16,
   "metadata": {},
   "outputs": [
    {
     "name": "stdout",
     "output_type": "stream",
     "text": [
      "x contains NaN\n"
     ]
    }
   ],
   "source": [
    "x = tf.constant([5.0, np.nan, 6.8, np.nan, np.inf])\n",
    "y = tf.constant([5.0, 6.8, np.inf])\n",
    "if tf.reduce_any(tf.math.is_nan(x)):\n",
    "    print(\"x contains NaN\")\n",
    "else:\n",
    "    print(\"x does not contain NaN\")\n"
   ]
  },
  {
   "cell_type": "code",
   "execution_count": null,
   "metadata": {},
   "outputs": [],
   "source": []
  }
 ],
 "metadata": {
  "kernelspec": {
   "display_name": "ds6001",
   "language": "python",
   "name": "python3"
  },
  "language_info": {
   "codemirror_mode": {
    "name": "ipython",
    "version": 3
   },
   "file_extension": ".py",
   "mimetype": "text/x-python",
   "name": "python",
   "nbconvert_exporter": "python",
   "pygments_lexer": "ipython3",
   "version": "3.10.9"
  },
  "orig_nbformat": 4,
  "vscode": {
   "interpreter": {
    "hash": "d737332527f4dec375ac76e00465760aa90717cb1ff23bf26e747a315a010455"
   }
  }
 },
 "nbformat": 4,
 "nbformat_minor": 2
}
