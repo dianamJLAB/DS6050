{
 "cells": [
  {
   "cell_type": "markdown",
   "metadata": {},
   "source": [
    "# H. Diana McSpadden (hdm5s)\n",
    "\n",
    "# Lab Assignment 1: How to Get Yourself Unstuck\n",
    "## DS 6001: Practice and Application of Data Science\n",
    "### Instructions\n",
    "\n",
    "### Problem 0\n",
    "Import the following libraries"
   ]
  },
  {
   "cell_type": "code",
   "execution_count": 2,
   "metadata": {},
   "outputs": [],
   "source": [
    "# import common libraries\n",
    "import numpy as np\n",
    "import pandas as pd\n",
    "import os\n",
    "import math"
   ]
  },
  {
   "cell_type": "markdown",
   "metadata": {},
   "source": [
    "## Problem 1\n",
    "Python is open-source, and thatʼs beautiful: it means that Python is maintained by a world-wide\n",
    "community of volunteers, that Python develops at the same rate as advancements in science,\n",
    "and that Python is completely free of charge. But one downside of being open-source is that\n",
    "different people design many alternative ways to perform the same task in Python.\n",
    "\n",
    "Read the following Stack Overflow post:\n",
    "https://stackoverflow.com/questions/11346283/renaming-columns-in-pandas/46912050. The\n",
    "question is simply how to rename the columns of a dataframe using Pandas. Count how many\n",
    "unique different solutions were proposed, and write this number in your lab report. (Hint: the\n",
    "number of solutions is not the number of answers to the posted question.)\n",
    "\n",
    "Remember: your goal as a data scientist needs to be to process/clean/wrangle/manage data as\n",
    "quickly as possible while still doing it correctly. A big part of that job is knowing how to seek\n",
    "help to find the right answer quickly. Given the number of proposed solutions on this Stack\n",
    "Overflow page, whatʼs the problem with developing a habit of using Google and Stack Overflow\n",
    "as your first source for seeking help? (2 points)"
   ]
  },
  {
   "cell_type": "markdown",
   "metadata": {},
   "source": [
    "### Answer:\n",
    "Short Answer: There are at least 26 answers to this question. The problem with using Google/StackOverflow/ChatGPT first before trying to write pseodocode or an initial algorithm first is that you may not understand the basics of your problem and your may over or under engineer your problem by using another developer's code. Some of the answers presented on this Stack Overflow post are just developers having fun by trying to be as overly complex as possible, or trying to come up with special cases. It is unclear in the original question whether the user was trying to write re-usable, future-proof code, or just a one-time column rename. How to write the code would depend on that context. Only you may know the specific context of your data science task, and beware asking for help from people who may now appreciate the nuance of your task.\n",
    "\n",
    "**TLDR Answer:**\n",
    "The question is how to rename columns in a pandas dataframe. Pretty straightforward question. I'll try to count the answers in different proposed solutions in the stackoverflow post:\n",
    "1. There is one response to check the official pydata documentation: pandas.pydata.org/pandas-docs/stable/user_guide/text.html\n",
    "1. There is an option to use df.rename with only the columns parameter.\n",
    "1. There is a proposal to use pd.DataFrame function pd.DataFrame(...) with the columns='' parameter.\n",
    "1. There is a proposal to use df.rename with a dictionary of key value pairs of old column name new columns name with axis = 1.\n",
    "1. There is a proposal to use df.rename with a dictionary of key value pairs of old column name new columns name with axis = 'columns'.\n",
    "1. There is a proposal to use df.rename with a dictionary of key value pairs of old column name new columns name with no axis parameter.\n",
    "1. The three previous methods are described with and without inplace=True, so that you do or do not need to assign back to a new dataframe variable.\n",
    "1. A option ot us df.set_axis() with axis=1 and inplace=False to return a copy is proposed.\n",
    "1. Also, the method of just using df.columns = lst_of_column_names is also described.\n",
    "1. There is also a description of how to rename columns that need to replace a value using a lambda function.\n",
    "1. Futher down in the stackoverflow chain there are responses that show that the lambda function method has changed syntax a few times since the original version.\n",
    "1. There is a description of how to rename columns that need to strip a character/characters from the column names by using str.lstrip\n",
    "1. There is a description of how to rename columns that need to replace part of the column name string using the string replace function using df.columns = df.columns.str.replace('$', '')\n",
    "1. There is a method proposes that uses pd.concat([c for _, c in df.items()], axis=1, keys=new)\n",
    "1. There is a method that proposes reconstructing the dataframe using: pd.DataFrame(df.values, df.index, new). The author says this should only work if there is a single dtype for all columns.\n",
    "1. If there are multiple dtypes for columns the author says this method may work: pd.DataFrame(df.values, df.index, new).astype(dict(zip(new, df.dtypes)))\n",
    "1. The same author also proposes this solution using transpose() and set_index() for single dtype dataframes: df.T.set_index(np.asarray(new)).T\n",
    "1. And this for multi dtype dataframes: df.T.set_index(np.asarray(new)).T.astype(dict(zip(new, df.dtypes)))\n",
    "1. And this different type using lambda: df.rename(columns=lambda x, y=iter(new): next(y))\n",
    "1. A list comprehension method is described: df.columns = [col.strip('$') for col in df.columns]\n",
    "1. Using str.slice(1) is offered as a solution: df.columns = df.columns.str.slice(1)\n",
    "1. Ooo, regex is described: df = df.rename(columns=lambda x: re.sub('\\$','',x))\n",
    "1. Someone describes using a delimiter and \"future proofing\" the solution. (responders are just getting silly at this point)\n",
    "1. A Multi Index solution is offered with comma separated indices supported so that  characters could be stripped from column headers that weren't sequential.\n",
    "1. Someone provided an entire function that will replace column header names that does error checking on whether column names exist.\n",
    "1. Further down a respondent describes creating a dictionary map using the code:\n",
    "\n",
    "```\n",
    "new_cols = ['a', 'b', 'c', 'd', 'e']\n",
    "new_names_map = {df.columns[i]:new_cols[i] for i in range(len(new_cols))}\n",
    "\n",
    "df.rename(new_names_map, axis=1, inplace=True)\n",
    "```\n",
    "\n",
    "\n",
    "\n"
   ]
  },
  {
   "cell_type": "markdown",
   "metadata": {},
   "source": [
    "## Problem 2\n",
    "There are several functions implemented in Python to calculate a logarithm. Both the numpy\n",
    "and math libraries have a log() function. Your task in this problem is to calculate log base 3 (7)\n",
    "directly (without using the change-of-base formula). Note that this particular log has a base of\n",
    "3, which is unusual. For this problem:\n",
    "\n",
    "* Write code to display the docstrings for each function.\n",
    "* Read the docstrings and explain, in words in your lab report, whether it is possible to use\n",
    "each function to calculate log or not. Why did you come to this conclusion?\n",
    "\n",
    "If possible, use one or both functions to calculate log and display the output. (2 points)"
   ]
  },
  {
   "cell_type": "markdown",
   "metadata": {},
   "source": [
    "### Answer:\n",
    "As shown in the documentation shown in the docstring print out shown below, math.log accepts an argument for base, while numpy.log does not. Because of this, I calculate the log base 3 of 7 using the python math library, but I do not calculate it using the numpy library."
   ]
  },
  {
   "cell_type": "code",
   "execution_count": 2,
   "metadata": {},
   "outputs": [
    {
     "name": "stdout",
     "output_type": "stream",
     "text": [
      "----------------------------------------\n",
      "Docstring for math.log\n",
      "log(x, [base=math.e])\n",
      "Return the logarithm of x to the given base.\n",
      "\n",
      "If the base not specified, returns the natural logarithm (base e) of x.\n",
      "Using math.log: The log base 3 of 7 is:  1.7712437491614221\n"
     ]
    }
   ],
   "source": [
    "# display the docstring for the math.log function\n",
    "print('----' * 10)\n",
    "print('Docstring for math.log')\n",
    "print(math.log.__doc__)\n",
    "\n",
    "# using the math.log\n",
    "print('Using math.log: The log base 3 of 7 is: ',math.log(7,3))"
   ]
  },
  {
   "cell_type": "code",
   "execution_count": 3,
   "metadata": {},
   "outputs": [
    {
     "name": "stdout",
     "output_type": "stream",
     "text": [
      "----------------------------------------\n",
      "Docstring for np.log\n",
      "log(x, /, out=None, *, where=True, casting='same_kind', order='K', dtype=None, subok=True[, signature, extobj])\n",
      "\n",
      "Natural logarithm, element-wise.\n",
      "\n",
      "The natural logarithm `log` is the inverse of the exponential function,\n",
      "so that `log(exp(x)) = x`. The natural logarithm is logarithm in base\n",
      "`e`.\n",
      "\n",
      "Parameters\n",
      "----------\n",
      "x : array_like\n",
      "    Input value.\n",
      "out : ndarray, None, or tuple of ndarray and None, optional\n",
      "    A location into which the result is stored. If provided, it must have\n",
      "    a shape that the inputs broadcast to. If not provided or None,\n",
      "    a freshly-allocated array is returned. A tuple (possible only as a\n",
      "    keyword argument) must have length equal to the number of outputs.\n",
      "where : array_like, optional\n",
      "    This condition is broadcast over the input. At locations where the\n",
      "    condition is True, the `out` array will be set to the ufunc result.\n",
      "    Elsewhere, the `out` array will retain its original value.\n",
      "    Note that if an uninitialized `out` array is created via the default\n",
      "    ``out=None``, locations within it where the condition is False will\n",
      "    remain uninitialized.\n",
      "**kwargs\n",
      "    For other keyword-only arguments, see the\n",
      "    :ref:`ufunc docs <ufuncs.kwargs>`.\n",
      "\n",
      "Returns\n",
      "-------\n",
      "y : ndarray\n",
      "    The natural logarithm of `x`, element-wise.\n",
      "    This is a scalar if `x` is a scalar.\n",
      "\n",
      "See Also\n",
      "--------\n",
      "log10, log2, log1p, emath.log\n",
      "\n",
      "Notes\n",
      "-----\n",
      "Logarithm is a multivalued function: for each `x` there is an infinite\n",
      "number of `z` such that `exp(z) = x`. The convention is to return the\n",
      "`z` whose imaginary part lies in `[-pi, pi]`.\n",
      "\n",
      "For real-valued input data types, `log` always returns real output. For\n",
      "each value that cannot be expressed as a real number or infinity, it\n",
      "yields ``nan`` and sets the `invalid` floating point error flag.\n",
      "\n",
      "For complex-valued input, `log` is a complex analytical function that\n",
      "has a branch cut `[-inf, 0]` and is continuous from above on it. `log`\n",
      "handles the floating-point negative zero as an infinitesimal negative\n",
      "number, conforming to the C99 standard.\n",
      "\n",
      "References\n",
      "----------\n",
      ".. [1] M. Abramowitz and I.A. Stegun, \"Handbook of Mathematical Functions\",\n",
      "       10th printing, 1964, pp. 67.\n",
      "       https://personal.math.ubc.ca/~cbm/aands/page_67.htm\n",
      ".. [2] Wikipedia, \"Logarithm\". https://en.wikipedia.org/wiki/Logarithm\n",
      "\n",
      "Examples\n",
      "--------\n",
      ">>> np.log([1, np.e, np.e**2, 0])\n",
      "array([  0.,   1.,   2., -Inf])\n"
     ]
    }
   ],
   "source": [
    "# display the docstring for the numpy.log function\n",
    "print('----' * 10)\n",
    "print('Docstring for np.log')\n",
    "print(np.log.__doc__)"
   ]
  },
  {
   "attachments": {},
   "cell_type": "markdown",
   "metadata": {},
   "source": [
    "## Problem 3\n",
    "\n",
    "Open a console window and place it next to your notebook in Jupyter labs. Load the kernel from\n",
    "the notebook into the console, then call up the docstring for the pd.DataFrame function.\n",
    "Take a screenshot and include it in your lab report. (To include a locally saved image named\n",
    "screenshot.jpg , for example, create a Markdown cell and paste \n",
    "```<img src=\"screenshot.jpg\" width=600>```\n",
    "(2 points)\n",
    "\n",
    "<img src=\"screenshotv2.JPG\" width=\"80%\"/>"
   ]
  },
  {
   "cell_type": "markdown",
   "metadata": {},
   "source": [
    "## Problem 4\n",
    "\n",
    "Search through the questions on Stack Overflow tagged as Python questions:\n",
    "https://stackoverflow.com/questions/tagged/python. Find a question in which an answerer\n",
    "exhibits passive toxic behavior as defined in this module's notebook. Provide a link, and\n",
    "describe what specific behavior leads you to identify this answer as toxic. (2 points)\n",
    "\n",
    "#### Answer:\n",
    "The first response in this post is pretty rude:\n",
    "https://stackoverflow.com/questions/44134979/python-code-for-parsing-mysql-dump-file-and-extract-useful-data-from-it.\n",
    "\n",
    "The response is \"This is completely incomprehensible. Try adding the supposed input, the expected output, and a pseudocode, at least. – Riccardo Petraglia May 23, 2017 at 12:41\"\n",
    "\n",
    "Yes, the question's grammar is not perfect. Yes, the question includes an image instead of code which is not good Stack Overflow etiquette. However, the phrase \"completely incomprehensible\" is rude, and is \"...at least\". If the comment at removed the first sentence and the \", at least.\" and asked the original poster for the input, expected output, pseudocode, and intended purpose, then the comment would have served its purpose without possibly causing shame to the original poster."
   ]
  },
  {
   "cell_type": "markdown",
   "metadata": {},
   "source": [
    "## Problem 5\n",
    "\n",
    "Search through the questions on Stack Overflow tagged as Python questions:\n",
    "https://stackoverflow.com/questions/tagged/python. \n",
    "\n",
    "Find a question in which a questioner selfsabotages by asking the question in a way that the community does not appreciate. Provide a link, and describe what the questioner did specifically to annoy the community of answerers. (2\n",
    "points)\n",
    "\n",
    "### Answer:\n",
    "\n",
    "Here is an example of self-sabotage:\n",
    "https://stackoverflow.com/questions/75133238/when-i-copy-path-then-this-error-is-found-please-help-and-gave-me-solutions-than\n",
    "\n",
    "The original poster only includes an error, but not the code that generates the error. Repeatedly the poster is asked to provide the code the creates the error and is provided links to the \"How To Ask\" documentation. If the original poster had included code that causes the error, and the purpose of the code, there were at least three StackOverflow users who had been willing to look at their question.\n",
    "\n",
    "\n"
   ]
  },
  {
   "cell_type": "markdown",
   "metadata": {},
   "source": [
    "## Problem 6\n",
    "\n",
    "These days there are so many Marvel superheros, but only six superheros count as original\n",
    "Avengers: Hulk, Captain America, Iron Man, Black Widow, Hawkeye, and Thor. \n",
    "I wrote a function, ```is_avenger()``` , that takes a string as an input. \n",
    "\n",
    "The function looks to see if this string is the name of one of the original six Avengers. If so, it prints that the string is an original Avenger, and if not, it prints that the string is not an original Avenger. Hereʼs the code for the function:"
   ]
  },
  {
   "cell_type": "code",
   "execution_count": 4,
   "metadata": {},
   "outputs": [],
   "source": [
    "def is_avenger(name):\n",
    "    if name==\"Hulk\" or \"Captain America\" or \"Iron Man\" or \"Black Widow\" or \"Hawkeye\" or \"Thor\":\n",
    "        print(name + \"'s an original Avenger!\")\n",
    "    else:\n",
    "        print(name + \" is NOT an original Avenger.\")"
   ]
  },
  {
   "cell_type": "markdown",
   "metadata": {},
   "source": [
    "To test whether this function is working, I pass the names of some original Avengers to the\n",
    "function:"
   ]
  },
  {
   "cell_type": "code",
   "execution_count": 5,
   "metadata": {},
   "outputs": [
    {
     "name": "stdout",
     "output_type": "stream",
     "text": [
      "Black Widow's an original Avenger!\n"
     ]
    }
   ],
   "source": [
    "is_avenger(\"Black Widow\")"
   ]
  },
  {
   "cell_type": "code",
   "execution_count": 6,
   "metadata": {},
   "outputs": [
    {
     "name": "stdout",
     "output_type": "stream",
     "text": [
      "Iron Man's an original Avenger!\n"
     ]
    }
   ],
   "source": [
    "is_avenger(\"Iron Man\")"
   ]
  },
  {
   "cell_type": "code",
   "execution_count": 7,
   "metadata": {},
   "outputs": [
    {
     "name": "stdout",
     "output_type": "stream",
     "text": [
      "Hulk's an original Avenger!\n"
     ]
    }
   ],
   "source": [
    "is_avenger(\"Hulk\")"
   ]
  },
  {
   "cell_type": "markdown",
   "metadata": {},
   "source": [
    "Looks good! But next, I pass some other strings to the function:"
   ]
  },
  {
   "cell_type": "code",
   "execution_count": 8,
   "metadata": {},
   "outputs": [
    {
     "name": "stdout",
     "output_type": "stream",
     "text": [
      "Spiderman's an original Avenger!\n"
     ]
    }
   ],
   "source": [
    "is_avenger(\"Spiderman\")"
   ]
  },
  {
   "cell_type": "code",
   "execution_count": 9,
   "metadata": {},
   "outputs": [
    {
     "name": "stdout",
     "output_type": "stream",
     "text": [
      "Beyonce's an original Avenger!\n"
     ]
    }
   ],
   "source": [
    "is_avenger(\"Beyonce\")"
   ]
  },
  {
   "cell_type": "markdown",
   "metadata": {},
   "source": [
    "Beyonce is a hero, but she was too busy going on tour to be in the Avengers movie. Also,\n",
    "Spiderman definitely was NOT an original Avenger. It turns out that this function will display that\n",
    "any string we write here is an original Avenger, which is incorrect. To fix this function, letʼs turn\n",
    "to Stack Overflow."
   ]
  },
  {
   "cell_type": "markdown",
   "metadata": {},
   "source": [
    "### Part a\n",
    "The first step to solving a problem using Stack Overflow is to do a comprehensive search of\n",
    "available resources to try to solve the problem. There is a post on Stack Overflow that very\n",
    "specifically solves our problem. Do a Google search and find this post. In your lab report, write\n",
    "the link to this Stack Overflow page, and the search terms you entered into Google to find this\n",
    "page.\n",
    "Then apply the solution on this Stack Overflow page to fix the is_avenger() function, and\n",
    "test the function to confirm that it works as we expect. (2 points)\n"
   ]
  },
  {
   "cell_type": "markdown",
   "metadata": {},
   "source": [
    "### Part a Answer:\n",
    "\n",
    "**My Google Search:** \"StackOverflow python if statement with or's always returns true\"\n",
    "\n",
    "Here was the StackOverflow article: https://stackoverflow.com/questions/69520008/if-statement-returns-true-when-it-is-not-python\n",
    "\n",
    "which is exactly the problem with the ```is_avenger()``` function.\n",
    "\n"
   ]
  },
  {
   "cell_type": "code",
   "execution_count": 10,
   "metadata": {},
   "outputs": [],
   "source": [
    "def is_avenger(name):\n",
    "    if name in [\"Hulk\",\"Captain America\",\"Iron Man\",\"Black Widow\",\"Hawkeye\",\"Thor\"]:\n",
    "        print(name + \"'s an original Avenger!\")\n",
    "    else:\n",
    "        print(name + \" is NOT an original Avenger.\")"
   ]
  },
  {
   "cell_type": "code",
   "execution_count": 11,
   "metadata": {},
   "outputs": [
    {
     "name": "stdout",
     "output_type": "stream",
     "text": [
      "Hulk's an original Avenger!\n",
      "Captain America's an original Avenger!\n",
      "Iron Man's an original Avenger!\n",
      "Black Widow's an original Avenger!\n",
      "Hawkeye's an original Avenger!\n",
      "Thor's an original Avenger!\n",
      "Spiderman is NOT an original Avenger.\n",
      "Beyonce is NOT an original Avenger.\n"
     ]
    }
   ],
   "source": [
    "test_names = [\"Hulk\",\"Captain America\",\"Iron Man\",\"Black Widow\",\"Hawkeye\",\"Thor\",\"Spiderman\",\"Beyonce\"]\n",
    "for name in test_names:\n",
    "    is_avenger(name)"
   ]
  },
  {
   "cell_type": "markdown",
   "metadata": {},
   "source": [
    "Yay! It seems to be working as expected now."
   ]
  },
  {
   "cell_type": "markdown",
   "metadata": {},
   "source": [
    "### Part b\n",
    "Suppose that no Stack Overflow posts yet existed to help us solve this problem. It would be\n",
    "time to consider writing a post ourselves. In your lab report, write a good title for this post. Do\n",
    "NOT copy the title to the posts you found for part a. (Hint: for details on how to write a good title\n",
    "see the slides or https://stackoverflow.com/help/how-to-ask) (3 points)\n",
    "\n",
    "**Title:** Why does my python if statement always evaluate to true using python v 3.9.5?\n",
    "\n",
    "**Tags:** [python]\n",
    "\n",
    "**Body:** My function takes a string and if the string is one of six possible values the function prints [phrase A], otherwise the function should print [phrase B]. However, the function always prints [phrase A]. In this case, [phrase A] is [name]'s an original Avenger! and phrase B is [name] is NOT an original Avenger. Where [name] is my input string. I am using python v. 3.9.5, Windows, and VSCode IDE.\n",
    "\n",
    "```\n",
    "def is_avenger(name):\n",
    "    if name==\"Hulk\" or \"Captain America\" or \"Iron Man\" or \"Black Widow\" or \"Hawkeye\" or \"Thor\":\n",
    "        print(name + \"'s an original Avenger!\")\n",
    "    else:\n",
    "        print(name + \" is NOT an original Avenger.\")\n",
    "\n",
    "test_names = [\"Hulk\",\"Captain America\",\"Iron Man\",\"Black Widow\",\"Hawkeye\",\"Thor\",\"Spiderman\",\"Beyonce\"]\n",
    "for name in test_names:\n",
    "    is_avenger(name)\n",
    "```\n",
    "\n",
    "EXPECTED RESULTS:\n",
    "\n",
    "Hulk's an original Avenger!\n",
    "\n",
    "Captain America's an original Avenger!\n",
    "\n",
    "Iron Man's an original Avenger!\n",
    "\n",
    "Black Widow's an original Avenger!\n",
    "\n",
    "Hawkeye's an original Avenger!\n",
    "\n",
    "Thor's an original Avenger!\n",
    "\n",
    "Spiderman is NOT an original Avenger.\n",
    "\n",
    "Beyonce is NOT an original Avenger.\n",
    "\n",
    "\n",
    "ACTUAL RESULTS\n",
    "\n",
    "Hulk's an original Avenger!\n",
    "\n",
    "Captain America's an original Avenger!\n",
    "\n",
    "Iron Man's an original Avenger!\n",
    "\n",
    "Black Widow's an original Avenger!\n",
    "\n",
    "Hawkeye's an original Avenger!\n",
    "\n",
    "Thor's an original Avenger!\n",
    "\n",
    "Spiderman's an original Avenger.\n",
    "\n",
    "Beyonce's' an original Avenger.\n",
    "\n",
    "\n",
    "As you can see Spiderman and Beyonce are somehow passing the if statement when I would not expect them to.\n",
    "\n",
    "\n",
    "Thanks!\n"
   ]
  },
  {
   "cell_type": "markdown",
   "metadata": {},
   "source": [
    "### Part c\n",
    "One characteristic of a Stack Overflow post that is likely to get good responses is a minimal\n",
    "working example. A minimal working example is code with the following properties:\n",
    "* It can be executed on anyoneʼs local machine without needing a data file or a hard-to-get\n",
    "package or module\n",
    "* It always produces the problematic output.\n",
    "* . It using as few lines of code as possible, and is written in the simplest way to write that\n",
    "code\n",
    "\n",
    "Write a minimal working example for this problem. (3 points)"
   ]
  },
  {
   "cell_type": "code",
   "execution_count": 12,
   "metadata": {},
   "outputs": [
    {
     "name": "stdout",
     "output_type": "stream",
     "text": [
      "Hulk's an original Avenger!\n",
      "Captain America's an original Avenger!\n",
      "Iron Man's an original Avenger!\n",
      "Black Widow's an original Avenger!\n",
      "Hawkeye's an original Avenger!\n",
      "Thor's an original Avenger!\n",
      "Spiderman's an original Avenger!\n",
      "Beyonce's an original Avenger!\n"
     ]
    }
   ],
   "source": [
    "# I believe I did that above, but here it is again:\n",
    "def is_avenger(name):\n",
    "    if name==\"Hulk\" or \"Captain America\" or \"Iron Man\" or \"Black Widow\" or \"Hawkeye\" or \"Thor\":\n",
    "        print(name + \"'s an original Avenger!\")\n",
    "    else:\n",
    "        print(name + \" is NOT an original Avenger.\")\n",
    "\n",
    "test_names = [\"Hulk\",\"Captain America\",\"Iron Man\",\"Black Widow\",\"Hawkeye\",\"Thor\",\"Spiderman\",\"Beyonce\"]\n",
    "for name in test_names:\n",
    "    is_avenger(name)\n",
    "\n",
    "\n",
    "#EXPECTED RESULTS:\n",
    "#Hulk's an original Avenger!\n",
    "#Captain America's an original Avenger!\n",
    "#Iron Man's an original Avenger!\n",
    "#Black Widow's an original Avenger!\n",
    "#Hawkeye's an original Avenger!\n",
    "#Thor's an original Avenger!\n",
    "#Spiderman is NOT an original Avenger.\n",
    "#Beyonce is NOT an original Avenger.\n"
   ]
  },
  {
   "cell_type": "markdown",
   "metadata": {},
   "source": [
    "## Problem 7\n",
    "\n",
    "Sign on to the PySlackers slack page and send me a private message in which you tell me which\n",
    "three channels on that Slack workspace look most interesting to you. (2 points)"
   ]
  },
  {
   "cell_type": "markdown",
   "metadata": {},
   "source": [
    "### Answer: Done.\n",
    "\n",
    "<img src=\"pyslackers.JPG\">"
   ]
  }
 ],
 "metadata": {
  "kernelspec": {
   "display_name": "Python 3",
   "language": "python",
   "name": "python3"
  },
  "language_info": {
   "codemirror_mode": {
    "name": "ipython",
    "version": 3
   },
   "file_extension": ".py",
   "mimetype": "text/x-python",
   "name": "python",
   "nbconvert_exporter": "python",
   "pygments_lexer": "ipython3",
   "version": "3.10.9"
  },
  "vscode": {
   "interpreter": {
    "hash": "8decf1c7c3a591a370693b0743851f48798ce2e6b8661bb013bb99d0f4a4707f"
   }
  }
 },
 "nbformat": 4,
 "nbformat_minor": 4
}
