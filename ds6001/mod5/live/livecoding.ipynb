{
 "cells": [
  {
   "attachments": {},
   "cell_type": "markdown",
   "metadata": {},
   "source": [
    "lthough, even the use of the Little Man is the subject of current controversy and debateLinks to an external site..\n",
    "\n",
    "Gene Siskel believed in a binary metric, the thumbs-up or thumbs-down, as Ebert recalled him sayingLinks to an external site.: \"What's the first thing people ask you? Should I see this movie? They don't want a speech on the director's career. Thumbs up--yes. Thumbs down--no.\"\n",
    "\n",
    "In the past the most influential film critics were the ones employed by major newspapers in important markets, or ones with nationally syndicated television shows. But today, websites that aggregate these reviews and generate scores are dominant. The two most well-known aggregator websites are Rotten TomatoesLinks to an external site. and MetacriticLinks to an external site., both of which summarize all of the reviews for a film (or TV show or video game) to a score from 0 to 100. However, these two websites employ very different methodologies to derive the score. Rotten Tomatoes assesses whether each review is positive or negative, with no middle ground, and calculates the percent of positive reviews for a film out of all reviews. Metacritic assigns a score to each review denoting the degree to which that review is positive towards the movie, then takes the mean across all scores to generate its overall metric. These two approaches can differ in notable ways. Suppose a movie is universally reviewed as pretty good, but not outstanding. If all of the reviews are positive, then the Rotten Tomatoes score will be 100, a score that denotes an all-time excellent movie. But if each of these reviews is only slightly positive, Metacritic might assess the average rating across these reviews to be somewhere around 60 to 70.\n",
    "\n",
    "In addition, both Metacritic and Rotten Tomatoes also compile ratings and short reviews from their website's users, leading to some movies having significantly lower audience scores than critic scores, sometimes for overtly sexist and bigoted reasonsLinks to an external site..\n",
    "\n",
    "In this live coding exercise, we will be web-scraping data from the Rotten Tomatoes pages for all movies that are currently in theaters:\n",
    "\n",
    "https://www.rottentomatoes.com/browse/movies_in_theaters/sort:a_z?page=8Links to an external site.\n",
    "\n",
    "Our goals are:\n",
    "\n",
    "To check the robots.txt file for Rotten Tomatoes, to make sure web-scraping this webpage is permitted.\n",
    "To use BeautifulSoup to get the following features for each movie:\n",
    "* The title\n",
    "* The audience score\n",
    "* The critics' score\n",
    "Whether or not a movie is reviewed positive overall (\"certified fresh\") or negative\n",
    "To build a spider that finds the URL for each film's Rotten Tomatoes page, and extract the following additional features:\n",
    "* Rating (G, PG, PG-13, R)\n",
    "* Genre\n",
    "* Original Language      \n",
    "* Director\n",
    "* Producer\n",
    "* Writer\n",
    "* Release Date (Theaters and Streaming)\n",
    "* Box Office (Gross USA)\n",
    "* Runtime\n",
    "* Distributor\n",
    "* Sound Mix\n",
    "* Aspect Ratio\n",
    "* and the text that summarizes each review\n",
    "\n",
    "While the point of this exercise is to practice the techniques involved in web-scraping, we can imagine some things we could do with the resulting dataframe. We can correlate the scores with budgets, rating, or genre, we can see if certain compositions of the cast lead to greater disparities between the critic and audience scores, we can mine the reviews for sentiment and compare that index against the critics' score, and so on."
   ]
  },
  {
   "cell_type": "code",
   "execution_count": 1,
   "metadata": {},
   "outputs": [],
   "source": [
    "import numpy as np\n",
    "import pandas as pd\n",
    "import os\n",
    "import sys"
   ]
  },
  {
   "cell_type": "code",
   "execution_count": 9,
   "metadata": {},
   "outputs": [],
   "source": [
    "import requests\n",
    "from bs4 import BeautifulSoup\n",
    "import json"
   ]
  },
  {
   "cell_type": "code",
   "execution_count": 4,
   "metadata": {},
   "outputs": [
    {
     "data": {
      "text/plain": [
       "'\\nUser-agent: *\\nDisallow: /search\\nDisallow: /user/id/\\nSitemap: https://www.rottentomatoes.com/sitemaps/sitemap.xml\\n'"
      ]
     },
     "execution_count": 4,
     "metadata": {},
     "output_type": "execute_result"
    }
   ],
   "source": [
    "# find the robots.txt file\n",
    "url = 'https://www.rottentomatoes.com/robots.txt'\n",
    "\n",
    "# For User-agent: * this means all user agents\n",
    "# do not crawl the search and user/id/ directories\n",
    "'''\n",
    "User-agent: *\n",
    "Disallow: /search\n",
    "Disallow: /user/id/\n",
    "Sitemap: https://www.rottentomatoes.com/sitemaps/sitemap.xml\n",
    "'''"
   ]
  },
  {
   "attachments": {},
   "cell_type": "markdown",
   "metadata": {},
   "source": [
    "## Get our User Agent Specific to Python & requests"
   ]
  },
  {
   "cell_type": "code",
   "execution_count": 10,
   "metadata": {},
   "outputs": [
    {
     "data": {
      "text/plain": [
       "'python-requests/2.27.1'"
      ]
     },
     "execution_count": 10,
     "metadata": {},
     "output_type": "execute_result"
    }
   ],
   "source": [
    "url = 'https://httpbin.org/user-agent'\n",
    "r = requests.get(url)\n",
    "user_agent = json.loads(r.text)['user-agent']\n",
    "user_agent"
   ]
  },
  {
   "attachments": {},
   "cell_type": "markdown",
   "metadata": {},
   "source": [
    "## Get Content From Rotten Tomatoes"
   ]
  },
  {
   "cell_type": "code",
   "execution_count": 19,
   "metadata": {},
   "outputs": [
    {
     "name": "stdout",
     "output_type": "stream",
     "text": [
      "{'User-Agent': 'python-requests/2.27.1'}\n"
     ]
    },
    {
     "data": {
      "text/plain": [
       "<Response [200]>"
      ]
     },
     "execution_count": 19,
     "metadata": {},
     "output_type": "execute_result"
    }
   ],
   "source": [
    "# getting the big block of html text from the webpage\n",
    "url = 'https://www.rottentomatoes.com/browse/movies_in_theaters/sort:a_z?page=5'\n",
    "\n",
    "headers = {'User-Agent': user_agent}\n",
    "print(headers)\n",
    "r = requests.get(url, headers=headers)\n",
    "r\n"
   ]
  },
  {
   "cell_type": "code",
   "execution_count": 21,
   "metadata": {},
   "outputs": [],
   "source": [
    "#r.text"
   ]
  },
  {
   "cell_type": "code",
   "execution_count": 22,
   "metadata": {},
   "outputs": [],
   "source": [
    "rotten = BeautifulSoup(r.text, 'html') # argument html tells BeautifulSoup that this url has html in it"
   ]
  },
  {
   "attachments": {},
   "cell_type": "markdown",
   "metadata": {},
   "source": [
    "We want to find:\n",
    "```\n",
    "<span class=\"p--small\" data-qa=\"discovery-media-list-item-title\">\n",
    "    The Integrity of Joseph Chambers\n",
    "</span>\n",
    "```"
   ]
  },
  {
   "cell_type": "code",
   "execution_count": 30,
   "metadata": {},
   "outputs": [],
   "source": [
    "\n",
    "# find the a's with the class and an href\n",
    "a_s = rotten.find_all('a', class_='js-tile-link', href=True)"
   ]
  },
  {
   "cell_type": "code",
   "execution_count": 38,
   "metadata": {},
   "outputs": [
    {
     "data": {
      "text/plain": [
       "'80 for Brady'"
      ]
     },
     "execution_count": 38,
     "metadata": {},
     "output_type": "execute_result"
    }
   ],
   "source": [
    "a_s[0].find('span', class_='p--small').text.strip()"
   ]
  },
  {
   "attachments": {},
   "cell_type": "markdown",
   "metadata": {},
   "source": [
    "Yay!, we got the title!\n",
    "\n",
    "Now do a list comprehension to get all the titles"
   ]
  },
  {
   "cell_type": "code",
   "execution_count": 40,
   "metadata": {},
   "outputs": [],
   "source": [
    "titles = [m.find('span', class_='p--small').text.strip() for m in a_s]"
   ]
  },
  {
   "cell_type": "code",
   "execution_count": 41,
   "metadata": {},
   "outputs": [
    {
     "data": {
      "text/plain": [
       "['80 for Brady',\n",
       " '88',\n",
       " 'A Man Called Otto',\n",
       " 'A Radiant Girl',\n",
       " 'All the Beauty and the Bloodshed',\n",
       " 'Amigos',\n",
       " 'Among the Beasts',\n",
       " 'Ant-Man and The Wasp: Quantumania',\n",
       " 'Avatar: The Way of Water',\n",
       " 'Baby Ruby',\n",
       " 'Bakasuran',\n",
       " 'Black Panther: Wakanda Forever',\n",
       " 'Broker',\n",
       " 'Brotherhood of the Wolf',\n",
       " 'Cat Daddies',\n",
       " 'Cinema Sabaya',\n",
       " 'Consecration',\n",
       " 'Corsage',\n",
       " 'Dada',\n",
       " 'Daughter',\n",
       " \"Devil's Peak\",\n",
       " 'EO',\n",
       " 'Eating Miss Campbell',\n",
       " 'Emily',\n",
       " 'Enkilum Chandrike',\n",
       " 'Facing the Laughter: Minnie Pearl',\n",
       " 'Fear',\n",
       " 'Framing Agnes',\n",
       " 'Fulbari',\n",
       " 'Full Time',\n",
       " 'Golgappe',\n",
       " 'Hannah Ha Ha',\n",
       " 'Heart of a Champion',\n",
       " 'Hidden Blade',\n",
       " 'House Party',\n",
       " 'Huesera: The Bone Woman',\n",
       " 'Infinity Pool',\n",
       " 'Irreversible: Straight Cut',\n",
       " 'Irréversible',\n",
       " 'Kaguya-sama: Love Is War - The First Kiss that Never Ends',\n",
       " 'Kasethan Kadavulada',\n",
       " 'Knock at the Cabin',\n",
       " 'Leonor Will Never Die',\n",
       " 'Let It Be Morning',\n",
       " 'Life Upside Down',\n",
       " 'Living',\n",
       " 'Lonesome',\n",
       " 'M3GAN',\n",
       " 'Made in Chittagong',\n",
       " \"Magic Mike's Last Dance\",\n",
       " 'Mantra',\n",
       " 'Marlowe',\n",
       " 'Missing',\n",
       " 'No Bears',\n",
       " 'Of an Age',\n",
       " 'One Fine Morning',\n",
       " 'Only in Theaters',\n",
       " 'Pathaan',\n",
       " 'Ping Pong: The Triumph',\n",
       " 'Plane',\n",
       " 'Puss in Boots: The Last Wish',\n",
       " 'RRR',\n",
       " 'Saint Omer',\n",
       " 'Seriously Red',\n",
       " 'Sharper',\n",
       " 'She Came from the Woods',\n",
       " 'Shehzada',\n",
       " 'Shiv Shastri Balboa',\n",
       " 'Skinamarink',\n",
       " 'Someone You Loved',\n",
       " 'The Banshees of Inisherin',\n",
       " 'The Blue Caftan',\n",
       " 'The Conformist',\n",
       " 'The Fabelmans',\n",
       " 'The First Fallen',\n",
       " 'The First Step',\n",
       " 'The Integrity of Joseph Chambers',\n",
       " 'The Other Fellow',\n",
       " 'The Outwaters',\n",
       " 'The Son',\n",
       " 'The Trial',\n",
       " 'The Wandering Earth II',\n",
       " 'The Weapon',\n",
       " 'The Whale',\n",
       " 'Titanic',\n",
       " 'Titanic: 25th Anniversary',\n",
       " 'Triangle of Sadness',\n",
       " 'Tu Hovein Main Hovan',\n",
       " 'Turn Every Page: The Adventures of Robert Caro and Robert Gottlieb',\n",
       " 'Tár',\n",
       " 'UFC 284: Makhachev vs. Volkanovski',\n",
       " 'Utama',\n",
       " 'Vinaro Bhagyamu Vishnu Katha',\n",
       " 'Violent Night',\n",
       " 'Winnie-the-Pooh: Blood and Honey',\n",
       " 'Women Talking',\n",
       " 'Your Place or Mine',\n",
       " 'iMordecai']"
      ]
     },
     "execution_count": 41,
     "metadata": {},
     "output_type": "execute_result"
    }
   ],
   "source": [
    "titles"
   ]
  },
  {
   "cell_type": "code",
   "execution_count": 44,
   "metadata": {},
   "outputs": [
    {
     "data": {
      "text/plain": [
       "['Opened Feb 03, 2023',\n",
       " 'Opens Feb 17, 2023',\n",
       " 'Opened Jan 13, 2023',\n",
       " 'Opens Feb 17, 2023',\n",
       " 'Opened Nov 23, 2022',\n",
       " 'Opened Feb 10, 2023',\n",
       " 'Opened Feb 10, 2023',\n",
       " 'Opens Feb 17, 2023',\n",
       " 'Opened Dec 16, 2022',\n",
       " 'Opened Feb 03, 2023',\n",
       " 'Opens Feb 17, 2023',\n",
       " 'Opened Nov 11, 2022',\n",
       " 'Opened Dec 26, 2022',\n",
       " 'Opened Jan 25, 2002',\n",
       " 'Opened Oct 14, 2022',\n",
       " 'Opened Feb 10, 2023',\n",
       " 'Opened Feb 10, 2023',\n",
       " 'Opened Dec 23, 2022',\n",
       " 'Opened Feb 10, 2023',\n",
       " 'Opened Feb 10, 2023',\n",
       " 'Opens Feb 17, 2023',\n",
       " 'Opened Nov 18, 2022',\n",
       " 'Opened Feb 16, 2023',\n",
       " 'Opens Feb 17, 2023',\n",
       " 'Opens Feb 17, 2023',\n",
       " 'Opened Feb 06, 2023',\n",
       " 'Opened Jan 27, 2023',\n",
       " 'Opened Dec 02, 2022',\n",
       " 'Opens Feb 17, 2023',\n",
       " 'Opened Feb 03, 2023',\n",
       " 'Opens Feb 17, 2023',\n",
       " 'Opened Feb 10, 2023',\n",
       " 'Opens Feb 17, 2023',\n",
       " 'Opens Feb 17, 2023',\n",
       " 'Opened Jan 13, 2023',\n",
       " 'Opened Feb 10, 2023',\n",
       " 'Opened Jan 27, 2023',\n",
       " 'Opened Feb 10, 2023',\n",
       " 'Opened Mar 14, 2003',\n",
       " 'Opened Feb 14, 2023',\n",
       " 'Opened Feb 10, 2023',\n",
       " 'Opened Feb 03, 2023',\n",
       " 'Opened Nov 25, 2022',\n",
       " 'Opened Feb 03, 2023',\n",
       " 'Opened Jan 27, 2023',\n",
       " 'Opened Dec 23, 2022',\n",
       " 'Opens Feb 17, 2023',\n",
       " 'Opened Jan 06, 2023',\n",
       " 'Opened Feb 10, 2023',\n",
       " 'Opened Feb 10, 2023',\n",
       " 'Opened Feb 10, 2023',\n",
       " 'Opened Feb 15, 2023',\n",
       " 'Opened Jan 20, 2023',\n",
       " 'Opened Dec 23, 2022',\n",
       " 'Opens Feb 17, 2023',\n",
       " 'Opened Dec 09, 2022',\n",
       " 'Opened Nov 18, 2022',\n",
       " 'Opened Jan 25, 2023',\n",
       " 'Opens Feb 17, 2023',\n",
       " 'Opened Jan 13, 2023',\n",
       " 'Opened Dec 21, 2022',\n",
       " 'Opened Mar 25, 2022',\n",
       " 'Opened Jan 13, 2023',\n",
       " 'Opened Feb 10, 2023',\n",
       " 'Opened Feb 10, 2023',\n",
       " 'Opened Feb 10, 2023',\n",
       " 'Opens Feb 17, 2023',\n",
       " 'Opened Feb 10, 2023',\n",
       " 'Opened Jan 13, 2023',\n",
       " 'Opened Feb 10, 2023',\n",
       " 'Opened Nov 04, 2022',\n",
       " 'Opened Feb 10, 2023',\n",
       " 'Opened Oct 22, 1970',\n",
       " 'Opened Nov 23, 2022',\n",
       " 'Opens Feb 17, 2023',\n",
       " 'Opens Feb 17, 2023',\n",
       " 'Opens Feb 17, 2023',\n",
       " 'Opens Feb 17, 2023',\n",
       " 'Opened Feb 09, 2023',\n",
       " 'Opened Nov 25, 2022',\n",
       " 'Opened Dec 21, 1962',\n",
       " 'Opened Jan 22, 2023',\n",
       " 'Opens Feb 17, 2023',\n",
       " 'Opened Dec 21, 2022',\n",
       " 'Opened Dec 19, 1997',\n",
       " 'Opened Feb 10, 2023',\n",
       " 'Opened Oct 07, 2022',\n",
       " 'Opened Feb 10, 2023',\n",
       " 'Opened Dec 30, 2022',\n",
       " 'Opened Oct 28, 2022',\n",
       " 'Opened Feb 11, 2023',\n",
       " 'Opened Nov 04, 2022',\n",
       " 'Opens Feb 17, 2023',\n",
       " 'Opened Dec 02, 2022',\n",
       " 'Opened Feb 15, 2023',\n",
       " 'Opened Jan 20, 2023',\n",
       " 'Opened Feb 10, 2023',\n",
       " 'Opened Feb 10, 2023']"
      ]
     },
     "execution_count": 44,
     "metadata": {},
     "output_type": "execute_result"
    }
   ],
   "source": [
    "start_date = [m.find('span', class_='smaller').text.strip() for m in a_s]\n",
    "start_date"
   ]
  },
  {
   "cell_type": "code",
   "execution_count": 45,
   "metadata": {},
   "outputs": [],
   "source": [
    "aud_score = [m.find('score-pairs')['audiencescore'] for m in a_s]\n",
    "aud_score"
   ]
  },
  {
   "cell_type": "code",
   "execution_count": 47,
   "metadata": {},
   "outputs": [
    {
     "data": {
      "text/plain": [
       "['positive',\n",
       " '',\n",
       " 'positive',\n",
       " '',\n",
       " 'negative',\n",
       " 'positive',\n",
       " '',\n",
       " '',\n",
       " 'positive',\n",
       " '',\n",
       " '',\n",
       " 'positive',\n",
       " 'positive',\n",
       " 'positive',\n",
       " 'positive',\n",
       " '',\n",
       " 'negative',\n",
       " 'negative',\n",
       " '',\n",
       " 'positive',\n",
       " '',\n",
       " 'positive',\n",
       " '',\n",
       " '',\n",
       " '',\n",
       " 'positive',\n",
       " 'negative',\n",
       " '',\n",
       " '',\n",
       " 'positive',\n",
       " '',\n",
       " '',\n",
       " '',\n",
       " '',\n",
       " 'positive',\n",
       " '',\n",
       " 'negative',\n",
       " '',\n",
       " 'positive',\n",
       " 'positive',\n",
       " '',\n",
       " 'positive',\n",
       " 'positive',\n",
       " '',\n",
       " 'positive',\n",
       " 'positive',\n",
       " '',\n",
       " 'positive',\n",
       " '',\n",
       " 'positive',\n",
       " '',\n",
       " 'negative',\n",
       " 'positive',\n",
       " 'positive',\n",
       " '',\n",
       " 'positive',\n",
       " 'positive',\n",
       " 'positive',\n",
       " '',\n",
       " 'positive',\n",
       " 'positive',\n",
       " 'positive',\n",
       " 'negative',\n",
       " 'negative',\n",
       " 'positive',\n",
       " 'negative',\n",
       " '',\n",
       " '',\n",
       " 'negative',\n",
       " '',\n",
       " 'positive',\n",
       " 'negative',\n",
       " 'positive',\n",
       " 'positive',\n",
       " '',\n",
       " '',\n",
       " '',\n",
       " '',\n",
       " 'negative',\n",
       " 'positive',\n",
       " 'positive',\n",
       " 'positive',\n",
       " '',\n",
       " 'positive',\n",
       " 'positive',\n",
       " 'positive',\n",
       " 'positive',\n",
       " '',\n",
       " 'positive',\n",
       " 'positive',\n",
       " 'positive',\n",
       " 'positive',\n",
       " '',\n",
       " 'positive',\n",
       " '',\n",
       " 'positive',\n",
       " 'negative',\n",
       " 'positive']"
      ]
     },
     "execution_count": 47,
     "metadata": {},
     "output_type": "execute_result"
    }
   ],
   "source": [
    "aud_sent= [m.find('score-pairs')['audiencesentiment'] for m in a_s]\n",
    "aud_sent"
   ]
  },
  {
   "cell_type": "code",
   "execution_count": 49,
   "metadata": {},
   "outputs": [
    {
     "data": {
      "text/plain": [
       "['61',\n",
       " '67',\n",
       " '70',\n",
       " '92',\n",
       " '95',\n",
       " '',\n",
       " '',\n",
       " '51',\n",
       " '76',\n",
       " '68',\n",
       " '',\n",
       " '84',\n",
       " '94',\n",
       " '73',\n",
       " '82',\n",
       " '88',\n",
       " '37',\n",
       " '85',\n",
       " '',\n",
       " '92',\n",
       " '',\n",
       " '96',\n",
       " '',\n",
       " '91',\n",
       " '',\n",
       " '',\n",
       " '22',\n",
       " '79',\n",
       " '',\n",
       " '97',\n",
       " '',\n",
       " '',\n",
       " '',\n",
       " '',\n",
       " '28',\n",
       " '98',\n",
       " '86',\n",
       " '83',\n",
       " '58',\n",
       " '',\n",
       " '',\n",
       " '68',\n",
       " '91',\n",
       " '87',\n",
       " '5',\n",
       " '96',\n",
       " '100',\n",
       " '94',\n",
       " '',\n",
       " '49',\n",
       " '',\n",
       " '23',\n",
       " '86',\n",
       " '100',\n",
       " '90',\n",
       " '92',\n",
       " '100',\n",
       " '83',\n",
       " '',\n",
       " '76',\n",
       " '95',\n",
       " '95',\n",
       " '94',\n",
       " '44',\n",
       " '61',\n",
       " '67',\n",
       " '',\n",
       " '',\n",
       " '71',\n",
       " '',\n",
       " '96',\n",
       " '93',\n",
       " '98',\n",
       " '92',\n",
       " '',\n",
       " '86',\n",
       " '100',\n",
       " '100',\n",
       " '72',\n",
       " '30',\n",
       " '85',\n",
       " '78',\n",
       " '',\n",
       " '65',\n",
       " '88',\n",
       " '',\n",
       " '72',\n",
       " '',\n",
       " '95',\n",
       " '91',\n",
       " '',\n",
       " '96',\n",
       " '',\n",
       " '73',\n",
       " '',\n",
       " '91',\n",
       " '33',\n",
       " '']"
      ]
     },
     "execution_count": 49,
     "metadata": {},
     "output_type": "execute_result"
    }
   ],
   "source": [
    "critic_score= [m.find('score-pairs')['criticsscore'] for m in a_s]\n",
    "critic_score"
   ]
  },
  {
   "cell_type": "code",
   "execution_count": 51,
   "metadata": {},
   "outputs": [],
   "source": [
    "\n",
    "df = pd.DataFrame({'title': titles, 'start_date': start_date, 'aud_score': aud_score, 'aud_sent': aud_sent, 'critic_score': critic_score})"
   ]
  },
  {
   "cell_type": "code",
   "execution_count": 54,
   "metadata": {},
   "outputs": [],
   "source": [
    "df_non_empty = df[df['aud_score'] != '']\n",
    "df_non_empty = df_non_empty[df_non_empty['critic_score'] != '']"
   ]
  },
  {
   "cell_type": "code",
   "execution_count": 55,
   "metadata": {},
   "outputs": [
    {
     "data": {
      "text/html": [
       "<div>\n",
       "<style scoped>\n",
       "    .dataframe tbody tr th:only-of-type {\n",
       "        vertical-align: middle;\n",
       "    }\n",
       "\n",
       "    .dataframe tbody tr th {\n",
       "        vertical-align: top;\n",
       "    }\n",
       "\n",
       "    .dataframe thead th {\n",
       "        text-align: right;\n",
       "    }\n",
       "</style>\n",
       "<table border=\"1\" class=\"dataframe\">\n",
       "  <thead>\n",
       "    <tr style=\"text-align: right;\">\n",
       "      <th></th>\n",
       "      <th>aud_score</th>\n",
       "      <th>critic_score</th>\n",
       "    </tr>\n",
       "  </thead>\n",
       "  <tbody>\n",
       "    <tr>\n",
       "      <th>aud_score</th>\n",
       "      <td>1.000000</td>\n",
       "      <td>0.487053</td>\n",
       "    </tr>\n",
       "    <tr>\n",
       "      <th>critic_score</th>\n",
       "      <td>0.487053</td>\n",
       "      <td>1.000000</td>\n",
       "    </tr>\n",
       "  </tbody>\n",
       "</table>\n",
       "</div>"
      ],
      "text/plain": [
       "              aud_score  critic_score\n",
       "aud_score      1.000000      0.487053\n",
       "critic_score   0.487053      1.000000"
      ]
     },
     "execution_count": 55,
     "metadata": {},
     "output_type": "execute_result"
    }
   ],
   "source": [
    "# Correlation between audience score and critic score\n",
    "df_non_empty = df[df['aud_score'] != '']\n",
    "df_non_empty = df_non_empty[df_non_empty['critic_score'] != '']\n",
    "df_non_empty['aud_score'] = df_non_empty['aud_score'].astype(int)\n",
    "df_non_empty['critic_score'] = df_non_empty['critic_score'].astype(int)\n",
    "df_non_empty.corr()"
   ]
  },
  {
   "cell_type": "code",
   "execution_count": null,
   "metadata": {},
   "outputs": [],
   "source": []
  }
 ],
 "metadata": {
  "kernelspec": {
   "display_name": "ds6001",
   "language": "python",
   "name": "python3"
  },
  "language_info": {
   "codemirror_mode": {
    "name": "ipython",
    "version": 3
   },
   "file_extension": ".py",
   "mimetype": "text/x-python",
   "name": "python",
   "nbconvert_exporter": "python",
   "pygments_lexer": "ipython3",
   "version": "3.10.9"
  },
  "orig_nbformat": 4,
  "vscode": {
   "interpreter": {
    "hash": "d737332527f4dec375ac76e00465760aa90717cb1ff23bf26e747a315a010455"
   }
  }
 },
 "nbformat": 4,
 "nbformat_minor": 2
}
