{
 "cells": [
  {
   "cell_type": "markdown",
   "id": "c3d31551-ad3e-4cc1-beb3-fa199da17051",
   "metadata": {
    "tags": []
   },
   "source": [
    "# Constructing Virginia COVID Statistic DataFrames \n",
    "#### The goal is to connect to the official Virginia Health Department API for current COVID statistics, and to create two dataframes:\n",
    "1. A dataframe with the total COVID cases, hospitalizations, and deaths by county/city, both overall and per 1000 people\n",
    "2. A dataframe with the trend of these statistics, defined as the total number in the last two weeks relative to the total number during the two weeks prior to that\n",
    "\n",
    "First we load the following packages:"
   ]
  },
  {
   "cell_type": "code",
   "execution_count": null,
   "id": "b5354ae7-fcc0-4be9-81f4-2b0990291a35",
   "metadata": {},
   "outputs": [],
   "source": [
    "import numpy as np\n",
    "import pandas as pd\n",
    "import requests\n",
    "import json\n",
    "from datetime import timedelta\n",
    "\n",
    "#The following packages are for making visualizations and dashboards\n",
    "import plotly.express as px\n",
    "import dash\n",
    "from dash import dcc\n",
    "from dash import html\n",
    "from dash import dash_table\n",
    "from dash.dependencies import Input, Output"
   ]
  },
  {
   "cell_type": "markdown",
   "id": "4db59ce2-5b44-4090-a500-468e7d987b93",
   "metadata": {},
   "source": [
    "### Accessing the VDH COVID API\n",
    "We will be using the Virginia Department of Health's API endpoint for the official reported numbers on the number of COVID hospitalizations and deaths for each county and independent city in Virginia. Here is the endpoint, which provides the data in JSON format: https://data.virginia.gov/resource/bre9-aqqr.json\n",
    "\n",
    "The data are organized such that one record is one locality on one day. The fields within each record are\n",
    "\n",
    "* `report_date`: Date in YYYY-MM-DDTHH:MM:SS.SSS format\n",
    "\n",
    "* `fips`: A unique numeric ID for the locality represented in the record. 51 refers to Virginia, and the last 3 digits vary depending on the location\n",
    "\n",
    "* `locality`: The name of the county or independent city for the record\n",
    "\n",
    "* `vdh_health_district`: The name of the regional health district (the entity chiefly responsible for keeping statistics and administering COVID vaccines) that the locality is located in\n",
    "\n",
    "* `total_cases`: the total official number of COVID cases on the record's date since the beginning of data collection on COVID cases (although be careful, \"official\" does not mean true -- these numbers are almost certainly significant undercounts because many cases went unreported)\n",
    "\n",
    "* `hospitalizations`: the total number of hospitalizations due to COVID on the record's date since the beginning of data collection\n",
    "\n",
    "* `deaths`: the total number of deaths due to COVID on the record's date since the beginning of data collection\n",
    "\n",
    "The API that provides the data only provides 1000 records, by default. However we can change this by specifying the $limit parameter (see the documentation here: https://dev.socrata.com/docs/paging.html). Anything more than 200,000 should be more than sufficient for our purposes."
   ]
  },
  {
   "cell_type": "code",
   "execution_count": null,
   "id": "2b3482d4-a288-4606-bfd6-81b23775724c",
   "metadata": {},
   "outputs": [],
   "source": [
    "endpoint = 'https://data.virginia.gov/resource/bre9-aqqr.json'\n",
    "mypars = {'$limit': 200000}\n",
    "\n",
    "r = requests.get('https://httpbin.org/user-agent')\n",
    "useragent = r.text\n",
    "useragent = json.loads(useragent)['user-agent']"
   ]
  },
  {
   "cell_type": "code",
   "execution_count": null,
   "id": "dafe99fa-2bb3-486f-823a-5a192cd21d06",
   "metadata": {},
   "outputs": [],
   "source": [
    "useragent"
   ]
  },
  {
   "cell_type": "code",
   "execution_count": null,
   "id": "f0eda830-f276-4041-b83e-50f63deeed36",
   "metadata": {},
   "outputs": [],
   "source": [
    "headers = {'User-agent': useragent}\n",
    "r = requests.get(endpoint, params=mypars, headers=headers)\n",
    "r"
   ]
  },
  {
   "cell_type": "code",
   "execution_count": null,
   "id": "d70f328c-b500-4b29-918f-588b0fdb72ee",
   "metadata": {},
   "outputs": [],
   "source": []
  },
  {
   "cell_type": "markdown",
   "id": "316f4d82-52e1-407e-a3ff-7da437a1942f",
   "metadata": {},
   "source": [
    "### A dataframe with the total COVID cases, hospitalizations, and deaths by county/city, both overall and per 1000 people\n",
    "We parse the JSON output of the API call, and we change the data types of the columns:"
   ]
  },
  {
   "cell_type": "code",
   "execution_count": null,
   "id": "c94ce67a-daab-462c-a630-99873c313d8d",
   "metadata": {},
   "outputs": [],
   "source": [
    "cases = pd.json_normalize(json.loads(r.text))\n",
    "cases"
   ]
  },
  {
   "cell_type": "code",
   "execution_count": null,
   "id": "a3760674-f1a2-47b7-bf18-2ad43ebc64e7",
   "metadata": {},
   "outputs": [],
   "source": [
    "cases['report_date'] = pd.to_datetime(cases['report_date'])\n",
    "cases['total_cases'] = cases['total_cases'].astype('float')\n",
    "cases['hospitalizations'] = cases['hospitalizations'].astype('float')\n",
    "cases['deaths'] = cases['deaths'].astype('float')\n",
    "cases"
   ]
  },
  {
   "cell_type": "markdown",
   "id": "d2fad5bd-9302-4c5d-8fa0-852bb8d3d83a",
   "metadata": {},
   "source": [
    "Note that the values represent the total counts since the beginning of data collection in March 2020 until the day in question, and not the total number reported on that day. Next we filter the data to just the most current totals:"
   ]
  },
  {
   "cell_type": "code",
   "execution_count": null,
   "id": "54352eb6-e2d8-473d-989d-8d67d50a9a8c",
   "metadata": {},
   "outputs": [],
   "source": [
    "cases_today = cases.loc[cases['report_date'] == max(cases['report_date'])]"
   ]
  },
  {
   "cell_type": "markdown",
   "id": "cc37e7a2-7410-4690-acfd-632f13e22918",
   "metadata": {},
   "source": [
    "To calculate the per-capita counts, we merge the data with the population statistics from the U.S. Census that we used in Module 9:"
   ]
  },
  {
   "cell_type": "code",
   "execution_count": null,
   "id": "3c092b1f-f6d4-456b-ae60-b66d209f6f4f",
   "metadata": {},
   "outputs": [],
   "source": [
    "url = \"https://demographics.coopercenter.org/sites/demographics/files/media/files/2020-07/Census_2019_RaceEstimates_forVA_0.xls\"\n",
    "pop = pd.read_excel(url, skiprows=4)\n",
    "pop = pop.loc[~pop['FIPS'].isna()]\n",
    "pop['FIPS'] = pop['FIPS'] + 51000\n",
    "pop['FIPS'] = pop['FIPS'].astype('int').astype('str')\n",
    "pop = pop[['FIPS', 'Total Population']]\n",
    "pop"
   ]
  },
  {
   "cell_type": "markdown",
   "id": "13f035aa-7c5d-4227-979d-e3ad91bfbf64",
   "metadata": {},
   "source": [
    "We merge the population data with the COVID case data and we calculate rates per 1000 people in each city/county:"
   ]
  },
  {
   "cell_type": "code",
   "execution_count": null,
   "id": "5b52412c-a29d-48c2-9028-987120f1d8cf",
   "metadata": {},
   "outputs": [],
   "source": [
    "cases_pop = pd.merge(cases_today, pop, \n",
    "                    left_on = ['fips'],\n",
    "                    right_on = ['FIPS'],\n",
    "                    how = 'inner')\n",
    "cases_pop['Cases per 1000 people'] = round(1000*cases_pop['total_cases']/cases_pop['Total Population'],1)\n",
    "cases_pop['Hospitalizations per 1000 people'] = round(1000*cases_pop['hospitalizations']/cases_pop['Total Population'],1)\n",
    "cases_pop['Deaths per 1000 people'] = round(1000*cases_pop['deaths']/cases_pop['Total Population'],1)\n",
    "cases_pop"
   ]
  },
  {
   "cell_type": "markdown",
   "id": "732dc27b-124f-4bd7-952d-e4d6507a4667",
   "metadata": {},
   "source": [
    "### A dataframe with the trend of these statistics, defined as the total number in the last two weeks relative to the total number during the two weeks prior to that\n",
    "We start by reshaping the data to long format to place cases, hospitalizations, and deaths on separate rows:"
   ]
  },
  {
   "cell_type": "code",
   "execution_count": null,
   "id": "4f07090a-8a46-4057-9403-0146a8d9d6d2",
   "metadata": {},
   "outputs": [],
   "source": [
    "cases_trend = cases[['report_date', 'fips', 'locality', 'total_cases', 'hospitalizations', 'deaths']]\n",
    "cases_trend = pd.melt(cases_trend, id_vars = ['report_date', 'fips', 'locality'],\n",
    "                     value_vars = ['total_cases', 'hospitalizations', 'deaths'])\n",
    "cases_trend"
   ]
  },
  {
   "cell_type": "markdown",
   "id": "cfada57b-c516-4e0a-965e-dcbff82e0471",
   "metadata": {},
   "source": [
    "To calculate the totals in rolling 14 day windows, we create two additional versions of the date: the date 14 days in the future and the date 28 days in the future. We will use both new dates to merge the dataset to itself. That places the total count on a given day on the same row as the total counts 14 and 28 days ago, and that enables us to create our trend indices:"
   ]
  },
  {
   "cell_type": "code",
   "execution_count": null,
   "id": "44a7414d-2b56-4b03-9253-58c50db8211f",
   "metadata": {},
   "outputs": [],
   "source": [
    "cases_trend['date14'] = cases_trend['report_date'] + timedelta(14)\n",
    "cases_trend['date28'] = cases_trend['report_date'] + timedelta(28)\n",
    "cases_trend"
   ]
  },
  {
   "cell_type": "markdown",
   "id": "330d9774-c070-4028-b7a4-d2ffee1ea7c5",
   "metadata": {},
   "source": [
    "Next we merge on the date 14 days in the future:"
   ]
  },
  {
   "cell_type": "code",
   "execution_count": null,
   "id": "8ebf7797-edfa-465c-8826-9e0252a0005a",
   "metadata": {},
   "outputs": [],
   "source": [
    "cases_trend = pd.merge(cases_trend, cases_trend,\n",
    "                      right_on = ['report_date', 'fips', 'locality', 'variable'],\n",
    "                      left_on = ['date14', 'fips', 'locality', 'variable'])\n",
    "\n",
    "cases_trend = cases_trend.drop(['report_date_x','date14_x','date28_x'], axis=1)\n",
    "cases_trend = cases_trend.rename({'report_date_y':'report_date',\n",
    "                                 'date14_y':'date14',\n",
    "                                 'date28_y':'date28',\n",
    "                                 'value_y':'value',\n",
    "                                 'value_x':'value14'}, axis=1)\n",
    "cases_trend"
   ]
  },
  {
   "cell_type": "markdown",
   "id": "a6413dec-57a6-4f56-8cf1-ebd95863e99a",
   "metadata": {},
   "source": [
    "Then we merge on the date 28 days in the future:"
   ]
  },
  {
   "cell_type": "code",
   "execution_count": null,
   "id": "7e21e35f-04c5-4db5-98a4-b930e61fa72e",
   "metadata": {},
   "outputs": [],
   "source": [
    "cases_trend = pd.merge(cases_trend, cases_trend,\n",
    "                      right_on = ['report_date', 'fips', 'locality', 'variable'],\n",
    "                      left_on = ['date28', 'fips', 'locality', 'variable'])\n",
    "\n",
    "cases_trend = cases_trend.drop(['report_date_x','date14_y','date28_y', 'value14_x', 'date14_x', 'date28_x'], axis=1)\n",
    "cases_trend = cases_trend.rename({'report_date_y':'report_date',\n",
    "                                 'value_y':'value',\n",
    "                                 'value14_y':'value14',\n",
    "                                 'value_x':'value28'}, axis=1)\n",
    "cases_trend"
   ]
  },
  {
   "cell_type": "markdown",
   "id": "6ce28385-c4d5-4c31-a2c2-3db299254cd4",
   "metadata": {},
   "source": [
    "Then we create the trend indices. We also create a string version for presentation in a table:"
   ]
  },
  {
   "cell_type": "code",
   "execution_count": null,
   "id": "5a150e70-3250-4a23-9dd6-4797f1a9b774",
   "metadata": {},
   "outputs": [],
   "source": [
    "cases_trend['Most recent 14 days'] = cases_trend['value'] - cases_trend['value14']\n",
    "cases_trend['Previous 14 days'] = cases_trend['value14'] - cases_trend['value28']\n",
    "cases_trend['Trend'] = 100*(cases_trend['Most recent 14 days'] - cases_trend['Previous 14 days']) / cases_trend['Previous 14 days']\n",
    "cases_trend['Trend_string'] = round(cases_trend['Trend'], 1).astype('str') + \"%\"\n",
    "cases_trend"
   ]
  },
  {
   "cell_type": "markdown",
   "id": "257d2f56-5bb8-4e8c-9dbf-f3bfa9fb19d4",
   "metadata": {},
   "source": [
    "1. Web-enabled table of current rates for one location\n",
    "2. Interactive line plot of cases for a location over time\n",
    "3. Interactive per-capita map"
   ]
  },
  {
   "cell_type": "code",
   "execution_count": null,
   "id": "576cb3d0-f7f5-406d-9a0f-e7fddb177eb3",
   "metadata": {},
   "outputs": [],
   "source": [
    "url = 'https://raw.githubusercontent.com/plotly/datasets/master/geojson-counties-fips.json'\n",
    "r = requests.get(url, headers=headers)\n",
    "counties = json.loads(r.text)"
   ]
  },
  {
   "cell_type": "code",
   "execution_count": null,
   "id": "d22f1516-79ef-4a9f-bd9b-fff82a5cf6e5",
   "metadata": {},
   "outputs": [],
   "source": [
    "cases_pop['Cases per 1000 people'].min()"
   ]
  },
  {
   "cell_type": "code",
   "execution_count": null,
   "id": "eeb527cb-dca5-44d1-b5ba-77f2dd4fd131",
   "metadata": {},
   "outputs": [],
   "source": [
    "cases_pop['Cases per 1000 people'].max()"
   ]
  },
  {
   "cell_type": "code",
   "execution_count": null,
   "id": "16a57bd5-8cc4-4e36-b37d-1c3357beed54",
   "metadata": {},
   "outputs": [],
   "source": [
    "cases_pop.columns"
   ]
  },
  {
   "cell_type": "code",
   "execution_count": null,
   "id": "34f54991-3126-4f79-87d3-ac5d1e60c4f4",
   "metadata": {},
   "outputs": [],
   "source": [
    "fig_map = px.choropleth(cases_pop, geojson=counties,\n",
    "                   locations = 'fips',\n",
    "                   color = 'Cases per 1000 people',\n",
    "                   color_continuous_scale=\"reds\",\n",
    "                    range_color=(100, 550),\n",
    "                    scope=\"usa\",\n",
    "                   hover_name = 'locality',\n",
    "                   hover_data = ['vdh_health_district',\n",
    "                                'total_cases',\n",
    "                                'hospitalizations', \n",
    "                                 'deaths', \n",
    "                                 'Total Population', \n",
    "                                 'Hospitalizations per 1000 people',\n",
    "                                 'Deaths per 1000 people'])\n",
    "fig_map.update_geos(fitbounds='locations')\n",
    "fig_map.show()"
   ]
  },
  {
   "cell_type": "code",
   "execution_count": null,
   "id": "35c8bd2d-acbd-422d-8261-8f78e3f276a9",
   "metadata": {},
   "outputs": [],
   "source": [
    "loc = 'Arlington'\n",
    "ct = cases_trend.query(f\"locality == '{loc}' & variable == 'total_cases'\")\n",
    "fig_line = px.line(ct, x = 'report_date', y = 'value',\n",
    "             labels = {'report_date':'Date',\n",
    "                      'value':'Total COVID Cases'},\n",
    "             title = f'Total COVID Cases for {loc}')\n",
    "fig_line.update(layout=dict(title=dict(x=0.5)))\n",
    "fig_line.show()"
   ]
  },
  {
   "cell_type": "code",
   "execution_count": null,
   "id": "bb1e5764-299f-4f09-aa96-32018cdfd598",
   "metadata": {},
   "outputs": [],
   "source": [
    "loc = 'Alexandria'\n",
    "ct = cases_trend.query(f\"locality == '{loc}'\")\n",
    "ct = ct.loc[ct['report_date'] == max(ct['report_date'])]\n",
    "ct = ct[['variable', 'value', 'Most recent 14 days', 'Previous 14 days', 'Trend_string']]\n",
    "ct['variable'] = ct['variable'].replace({'total_cases': 'Total Cases',\n",
    "                                        'hospitalizations': 'Hospitalizations',\n",
    "                                        'deaths':'Deaths'})\n",
    "table = ct.rename({'variable':'',\n",
    "               'value':'Total since March 2020',\n",
    "               'Trend_string': 'Current Trend'}, axis=1)\n",
    "table\n",
    "\n",
    "from plotly import figure_factory as ff\n",
    "ff.create_table(table)"
   ]
  },
  {
   "attachments": {},
   "cell_type": "markdown",
   "id": "03526d2e",
   "metadata": {},
   "source": [
    "## Building the Dashboard"
   ]
  },
  {
   "cell_type": "code",
   "execution_count": null,
   "id": "ddf8e645",
   "metadata": {},
   "outputs": [],
   "source": [
    "external_stylesheets = ['https://codepen.io/chriddyp/pen/bWLwgP.css']"
   ]
  },
  {
   "cell_type": "code",
   "execution_count": null,
   "id": "6ffdc10b-6509-4e17-8d58-d0067e40fed0",
   "metadata": {},
   "outputs": [],
   "source": [
    "# jupyterdash can display the dashboard in the notebook\n",
    "# regular dash displays in a tab in the browser\n",
    "# high probability of crashing the notebook and getting an error\n",
    "\n",
    "# 3 steps to dashboard\n",
    "# 1. initialize dash\n",
    "# 2. put stuff on dashboard\n",
    "# 3. run dashboard\n",
    "\n",
    "my_markdown_text = '''\n",
    "The data are current as of 4/26/2023 and are from the Virginia Department of Health.\n",
    "'''\n",
    "\n",
    "\n",
    "app = dash.Dash(__name__, external_stylesheets=external_stylesheets) # __name__ is a special variable in python that is the name of the file\n",
    "\n",
    "# define the layout of the dashboard\n",
    "app.layout = html.Div([\n",
    "    html.H1(children='COVID-19 Dashboard'),\n",
    "    dcc.Markdown(my_markdown_text),\n",
    "    dcc.Tabs(id='my_tabs', value='statewide', children=[\n",
    "        dcc.Tab(label='Statewide', value='statewide', children=[\n",
    "            dcc.Graph(figure=fig_map)\n",
    "        ]),\n",
    "        dcc.Tab(label='Local', value='local', children=[\n",
    "            dcc.Dropdown(id='places',\n",
    "            options = [{'label':x, 'value':x} for x in sorted(cases['locality'].unique().tolist())],\n",
    "            value = 'Charlottesville'),\n",
    "            dcc.Graph(id='lineplot', figure=fig_line),\n",
    "            #dcc.Graph(id='table', figure=table)\n",
    "            ])\n",
    "        ])\n",
    "    \n",
    "    ])\n",
    "\n",
    "# callback step 2: define the function that will take the input from the dashboard and return the output\n",
    "# @ is a decorator: a function that takes another function as an argument\n",
    "@app.callback(\n",
    "    Output(component_id='lineplot', component_property='figure'), # output is a figure\n",
    "    Input(component_id='places', component_property='value') # input is a value\n",
    ")\n",
    "\n",
    "# callback step 3: define the function that will take the input from the dashboard and return the output back to the callback\n",
    "def lineplot(location):\n",
    "    ct = cases_trend.query(f\"locality == '{location}' & variable == 'total_cases'\")\n",
    "    fig_line = px.line(ct, x = 'report_date', y = 'value',\n",
    "             labels = {'report_date':'Date',\n",
    "                      'value':'Total COVID Cases'},\n",
    "             title = f'Total COVID Cases for {location}')\n",
    "    fig_line.update(layout=dict(title=dict(x=0.5)))\n",
    "    return fig_line\n",
    "\n",
    "if __name__ == '__main__':\n",
    "     app.run_server(debug=True, port=8060, use_reloader=False) # use_reloader=False prevents the notebook from crashing"
   ]
  },
  {
   "cell_type": "code",
   "execution_count": null,
   "id": "0c43b435",
   "metadata": {},
   "outputs": [],
   "source": [
    "localities = cases_pop['locality'].unique()\n",
    "# sort the list\n",
    "localities = sorted(localities)\n",
    "localities"
   ]
  },
  {
   "cell_type": "code",
   "execution_count": null,
   "id": "247e03fd",
   "metadata": {},
   "outputs": [],
   "source": [
    "[{'label':x, 'value':x} for x in sorted(cases['locality'].unique().tolist())]"
   ]
  },
  {
   "cell_type": "code",
   "execution_count": null,
   "id": "455b187d",
   "metadata": {},
   "outputs": [],
   "source": []
  }
 ],
 "metadata": {
  "kernelspec": {
   "display_name": "Python 3 (ipykernel)",
   "language": "python",
   "name": "python3"
  },
  "language_info": {
   "codemirror_mode": {
    "name": "ipython",
    "version": 3
   },
   "file_extension": ".py",
   "mimetype": "text/x-python",
   "name": "python",
   "nbconvert_exporter": "python",
   "pygments_lexer": "ipython3",
   "version": "3.10.9"
  }
 },
 "nbformat": 4,
 "nbformat_minor": 5
}
