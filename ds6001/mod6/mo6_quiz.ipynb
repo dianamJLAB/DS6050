{
 "cells": [
  {
   "cell_type": "code",
   "execution_count": null,
   "metadata": {},
   "outputs": [],
   "source": []
  }
 ],
 "metadata": {
  "kernelspec": {
   "display_name": "ds6001",
   "language": "python",
   "name": "python3"
  },
  "language_info": {
   "name": "python",
   "version": "3.10.9"
  },
  "orig_nbformat": 4,
  "vscode": {
   "interpreter": {
    "hash": "d737332527f4dec375ac76e00465760aa90717cb1ff23bf26e747a315a010455"
   }
  }
 },
 "nbformat": 4,
 "nbformat_minor": 2
}
